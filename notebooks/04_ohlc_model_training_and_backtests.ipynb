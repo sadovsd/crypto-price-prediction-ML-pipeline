{
 "cells": [
  {
   "cell_type": "code",
   "execution_count": 2,
   "metadata": {},
   "outputs": [],
   "source": [
    "import pandas as pd\n",
    "from sklearn.metrics import confusion_matrix, precision_score\n",
    "import matplotlib.pyplot as plt\n",
    "import plotly.graph_objects as go\n",
    "from sklearn.ensemble import RandomForestClassifier\n",
    "from sklearn.linear_model import LogisticRegression\n",
    "import lightgbm as lgb\n",
    "import catboost as cb\n",
    "import re"
   ]
  },
  {
   "cell_type": "code",
   "execution_count": 3,
   "metadata": {},
   "outputs": [
    {
     "data": {
      "text/html": [
       "<div>\n",
       "<style scoped>\n",
       "    .dataframe tbody tr th:only-of-type {\n",
       "        vertical-align: middle;\n",
       "    }\n",
       "\n",
       "    .dataframe tbody tr th {\n",
       "        vertical-align: top;\n",
       "    }\n",
       "\n",
       "    .dataframe thead th {\n",
       "        text-align: right;\n",
       "    }\n",
       "</style>\n",
       "<table border=\"1\" class=\"dataframe\">\n",
       "  <thead>\n",
       "    <tr style=\"text-align: right;\">\n",
       "      <th></th>\n",
       "      <th>date</th>\n",
       "      <th>open</th>\n",
       "      <th>high</th>\n",
       "      <th>low</th>\n",
       "      <th>close</th>\n",
       "      <th>volume</th>\n",
       "      <th>volume_eth</th>\n",
       "      <th>market_cap</th>\n",
       "      <th>tmw_avg_high_close</th>\n",
       "      <th>tmw_percent_increase</th>\n",
       "      <th>...</th>\n",
       "      <th>october</th>\n",
       "      <th>november</th>\n",
       "      <th>december</th>\n",
       "      <th>monday</th>\n",
       "      <th>tuesday</th>\n",
       "      <th>wednesday</th>\n",
       "      <th>thursday</th>\n",
       "      <th>friday</th>\n",
       "      <th>saturday</th>\n",
       "      <th>sunday</th>\n",
       "    </tr>\n",
       "  </thead>\n",
       "  <tbody>\n",
       "    <tr>\n",
       "      <th>0</th>\n",
       "      <td>2015-11-15</td>\n",
       "      <td>0.8912</td>\n",
       "      <td>0.9215</td>\n",
       "      <td>0.8750</td>\n",
       "      <td>0.9064</td>\n",
       "      <td>4.118000e+05</td>\n",
       "      <td>458365.0</td>\n",
       "      <td>6.720000e+07</td>\n",
       "      <td>0.93685</td>\n",
       "      <td>0.032503</td>\n",
       "      <td>...</td>\n",
       "      <td>0</td>\n",
       "      <td>1</td>\n",
       "      <td>0</td>\n",
       "      <td>0</td>\n",
       "      <td>0</td>\n",
       "      <td>0</td>\n",
       "      <td>0</td>\n",
       "      <td>0</td>\n",
       "      <td>0</td>\n",
       "      <td>1</td>\n",
       "    </tr>\n",
       "    <tr>\n",
       "      <th>1</th>\n",
       "      <td>2015-11-16</td>\n",
       "      <td>0.9062</td>\n",
       "      <td>0.9447</td>\n",
       "      <td>0.8920</td>\n",
       "      <td>0.9290</td>\n",
       "      <td>6.209000e+05</td>\n",
       "      <td>676442.0</td>\n",
       "      <td>6.860000e+07</td>\n",
       "      <td>1.02000</td>\n",
       "      <td>0.089216</td>\n",
       "      <td>...</td>\n",
       "      <td>0</td>\n",
       "      <td>1</td>\n",
       "      <td>0</td>\n",
       "      <td>1</td>\n",
       "      <td>0</td>\n",
       "      <td>0</td>\n",
       "      <td>0</td>\n",
       "      <td>0</td>\n",
       "      <td>0</td>\n",
       "      <td>0</td>\n",
       "    </tr>\n",
       "    <tr>\n",
       "      <th>2</th>\n",
       "      <td>2015-11-17</td>\n",
       "      <td>0.9249</td>\n",
       "      <td>1.0300</td>\n",
       "      <td>0.9058</td>\n",
       "      <td>1.0100</td>\n",
       "      <td>1.100000e+06</td>\n",
       "      <td>1183690.0</td>\n",
       "      <td>7.220000e+07</td>\n",
       "      <td>1.00000</td>\n",
       "      <td>-0.010000</td>\n",
       "      <td>...</td>\n",
       "      <td>0</td>\n",
       "      <td>1</td>\n",
       "      <td>0</td>\n",
       "      <td>0</td>\n",
       "      <td>1</td>\n",
       "      <td>0</td>\n",
       "      <td>0</td>\n",
       "      <td>0</td>\n",
       "      <td>0</td>\n",
       "      <td>0</td>\n",
       "    </tr>\n",
       "    <tr>\n",
       "      <th>3</th>\n",
       "      <td>2015-11-18</td>\n",
       "      <td>0.9900</td>\n",
       "      <td>1.0100</td>\n",
       "      <td>0.9405</td>\n",
       "      <td>0.9900</td>\n",
       "      <td>6.811000e+05</td>\n",
       "      <td>691994.0</td>\n",
       "      <td>7.360000e+07</td>\n",
       "      <td>0.98275</td>\n",
       "      <td>-0.007377</td>\n",
       "      <td>...</td>\n",
       "      <td>0</td>\n",
       "      <td>1</td>\n",
       "      <td>0</td>\n",
       "      <td>0</td>\n",
       "      <td>0</td>\n",
       "      <td>1</td>\n",
       "      <td>0</td>\n",
       "      <td>0</td>\n",
       "      <td>0</td>\n",
       "      <td>0</td>\n",
       "    </tr>\n",
       "    <tr>\n",
       "      <th>4</th>\n",
       "      <td>2015-11-19</td>\n",
       "      <td>0.9887</td>\n",
       "      <td>1.0100</td>\n",
       "      <td>0.9375</td>\n",
       "      <td>0.9555</td>\n",
       "      <td>4.435000e+05</td>\n",
       "      <td>455866.0</td>\n",
       "      <td>7.280000e+07</td>\n",
       "      <td>0.94030</td>\n",
       "      <td>-0.016165</td>\n",
       "      <td>...</td>\n",
       "      <td>0</td>\n",
       "      <td>1</td>\n",
       "      <td>0</td>\n",
       "      <td>0</td>\n",
       "      <td>0</td>\n",
       "      <td>0</td>\n",
       "      <td>1</td>\n",
       "      <td>0</td>\n",
       "      <td>0</td>\n",
       "      <td>0</td>\n",
       "    </tr>\n",
       "    <tr>\n",
       "      <th>...</th>\n",
       "      <td>...</td>\n",
       "      <td>...</td>\n",
       "      <td>...</td>\n",
       "      <td>...</td>\n",
       "      <td>...</td>\n",
       "      <td>...</td>\n",
       "      <td>...</td>\n",
       "      <td>...</td>\n",
       "      <td>...</td>\n",
       "      <td>...</td>\n",
       "      <td>...</td>\n",
       "      <td>...</td>\n",
       "      <td>...</td>\n",
       "      <td>...</td>\n",
       "      <td>...</td>\n",
       "      <td>...</td>\n",
       "      <td>...</td>\n",
       "      <td>...</td>\n",
       "      <td>...</td>\n",
       "      <td>...</td>\n",
       "      <td>...</td>\n",
       "    </tr>\n",
       "    <tr>\n",
       "      <th>3057</th>\n",
       "      <td>2024-04-17</td>\n",
       "      <td>3083.0000</td>\n",
       "      <td>3119.0000</td>\n",
       "      <td>2926.0000</td>\n",
       "      <td>2984.0000</td>\n",
       "      <td>1.550000e+10</td>\n",
       "      <td>5093979.0</td>\n",
       "      <td>3.722000e+11</td>\n",
       "      <td>3075.50000</td>\n",
       "      <td>0.029751</td>\n",
       "      <td>...</td>\n",
       "      <td>0</td>\n",
       "      <td>0</td>\n",
       "      <td>0</td>\n",
       "      <td>0</td>\n",
       "      <td>0</td>\n",
       "      <td>1</td>\n",
       "      <td>0</td>\n",
       "      <td>0</td>\n",
       "      <td>0</td>\n",
       "      <td>0</td>\n",
       "    </tr>\n",
       "    <tr>\n",
       "      <th>3058</th>\n",
       "      <td>2024-04-18</td>\n",
       "      <td>2986.0000</td>\n",
       "      <td>3087.0000</td>\n",
       "      <td>2960.0000</td>\n",
       "      <td>3064.0000</td>\n",
       "      <td>1.350000e+10</td>\n",
       "      <td>4453302.0</td>\n",
       "      <td>3.706000e+11</td>\n",
       "      <td>3101.00000</td>\n",
       "      <td>0.011932</td>\n",
       "      <td>...</td>\n",
       "      <td>0</td>\n",
       "      <td>0</td>\n",
       "      <td>0</td>\n",
       "      <td>0</td>\n",
       "      <td>0</td>\n",
       "      <td>0</td>\n",
       "      <td>1</td>\n",
       "      <td>0</td>\n",
       "      <td>0</td>\n",
       "      <td>0</td>\n",
       "    </tr>\n",
       "    <tr>\n",
       "      <th>3059</th>\n",
       "      <td>2024-04-19</td>\n",
       "      <td>3061.0000</td>\n",
       "      <td>3117.0000</td>\n",
       "      <td>2879.0000</td>\n",
       "      <td>3085.0000</td>\n",
       "      <td>1.740000e+10</td>\n",
       "      <td>5675824.0</td>\n",
       "      <td>3.746000e+11</td>\n",
       "      <td>3160.50000</td>\n",
       "      <td>0.023889</td>\n",
       "      <td>...</td>\n",
       "      <td>0</td>\n",
       "      <td>0</td>\n",
       "      <td>0</td>\n",
       "      <td>0</td>\n",
       "      <td>0</td>\n",
       "      <td>0</td>\n",
       "      <td>0</td>\n",
       "      <td>1</td>\n",
       "      <td>0</td>\n",
       "      <td>0</td>\n",
       "    </tr>\n",
       "    <tr>\n",
       "      <th>3060</th>\n",
       "      <td>2024-04-20</td>\n",
       "      <td>3085.0000</td>\n",
       "      <td>3166.0000</td>\n",
       "      <td>3025.0000</td>\n",
       "      <td>3155.0000</td>\n",
       "      <td>8.900000e+09</td>\n",
       "      <td>2884086.0</td>\n",
       "      <td>3.776000e+11</td>\n",
       "      <td>3168.50000</td>\n",
       "      <td>0.004261</td>\n",
       "      <td>...</td>\n",
       "      <td>0</td>\n",
       "      <td>0</td>\n",
       "      <td>0</td>\n",
       "      <td>0</td>\n",
       "      <td>0</td>\n",
       "      <td>0</td>\n",
       "      <td>0</td>\n",
       "      <td>0</td>\n",
       "      <td>1</td>\n",
       "      <td>0</td>\n",
       "    </tr>\n",
       "    <tr>\n",
       "      <th>3061</th>\n",
       "      <td>2024-04-21</td>\n",
       "      <td>3153.0000</td>\n",
       "      <td>3191.0000</td>\n",
       "      <td>3120.0000</td>\n",
       "      <td>3146.0000</td>\n",
       "      <td>8.200000e+09</td>\n",
       "      <td>2603957.0</td>\n",
       "      <td>3.867000e+11</td>\n",
       "      <td>NaN</td>\n",
       "      <td>NaN</td>\n",
       "      <td>...</td>\n",
       "      <td>0</td>\n",
       "      <td>0</td>\n",
       "      <td>0</td>\n",
       "      <td>0</td>\n",
       "      <td>0</td>\n",
       "      <td>0</td>\n",
       "      <td>0</td>\n",
       "      <td>0</td>\n",
       "      <td>0</td>\n",
       "      <td>1</td>\n",
       "    </tr>\n",
       "  </tbody>\n",
       "</table>\n",
       "<p>3062 rows × 111 columns</p>\n",
       "</div>"
      ],
      "text/plain": [
       "            date       open       high        low      close        volume  \\\n",
       "0     2015-11-15     0.8912     0.9215     0.8750     0.9064  4.118000e+05   \n",
       "1     2015-11-16     0.9062     0.9447     0.8920     0.9290  6.209000e+05   \n",
       "2     2015-11-17     0.9249     1.0300     0.9058     1.0100  1.100000e+06   \n",
       "3     2015-11-18     0.9900     1.0100     0.9405     0.9900  6.811000e+05   \n",
       "4     2015-11-19     0.9887     1.0100     0.9375     0.9555  4.435000e+05   \n",
       "...          ...        ...        ...        ...        ...           ...   \n",
       "3057  2024-04-17  3083.0000  3119.0000  2926.0000  2984.0000  1.550000e+10   \n",
       "3058  2024-04-18  2986.0000  3087.0000  2960.0000  3064.0000  1.350000e+10   \n",
       "3059  2024-04-19  3061.0000  3117.0000  2879.0000  3085.0000  1.740000e+10   \n",
       "3060  2024-04-20  3085.0000  3166.0000  3025.0000  3155.0000  8.900000e+09   \n",
       "3061  2024-04-21  3153.0000  3191.0000  3120.0000  3146.0000  8.200000e+09   \n",
       "\n",
       "      volume_eth    market_cap  tmw_avg_high_close  tmw_percent_increase  ...  \\\n",
       "0       458365.0  6.720000e+07             0.93685              0.032503  ...   \n",
       "1       676442.0  6.860000e+07             1.02000              0.089216  ...   \n",
       "2      1183690.0  7.220000e+07             1.00000             -0.010000  ...   \n",
       "3       691994.0  7.360000e+07             0.98275             -0.007377  ...   \n",
       "4       455866.0  7.280000e+07             0.94030             -0.016165  ...   \n",
       "...          ...           ...                 ...                   ...  ...   \n",
       "3057   5093979.0  3.722000e+11          3075.50000              0.029751  ...   \n",
       "3058   4453302.0  3.706000e+11          3101.00000              0.011932  ...   \n",
       "3059   5675824.0  3.746000e+11          3160.50000              0.023889  ...   \n",
       "3060   2884086.0  3.776000e+11          3168.50000              0.004261  ...   \n",
       "3061   2603957.0  3.867000e+11                 NaN                   NaN  ...   \n",
       "\n",
       "      october  november  december  monday  tuesday  wednesday  thursday  \\\n",
       "0           0         1         0       0        0          0         0   \n",
       "1           0         1         0       1        0          0         0   \n",
       "2           0         1         0       0        1          0         0   \n",
       "3           0         1         0       0        0          1         0   \n",
       "4           0         1         0       0        0          0         1   \n",
       "...       ...       ...       ...     ...      ...        ...       ...   \n",
       "3057        0         0         0       0        0          1         0   \n",
       "3058        0         0         0       0        0          0         1   \n",
       "3059        0         0         0       0        0          0         0   \n",
       "3060        0         0         0       0        0          0         0   \n",
       "3061        0         0         0       0        0          0         0   \n",
       "\n",
       "      friday  saturday  sunday  \n",
       "0          0         0       1  \n",
       "1          0         0       0  \n",
       "2          0         0       0  \n",
       "3          0         0       0  \n",
       "4          0         0       0  \n",
       "...      ...       ...     ...  \n",
       "3057       0         0       0  \n",
       "3058       0         0       0  \n",
       "3059       1         0       0  \n",
       "3060       0         1       0  \n",
       "3061       0         0       1  \n",
       "\n",
       "[3062 rows x 111 columns]"
      ]
     },
     "execution_count": 3,
     "metadata": {},
     "output_type": "execute_result"
    }
   ],
   "source": [
    "eth_ohlc = pd.read_csv('../data/transformed/ohlc/ethereum.csv')\n",
    "eth_ohlc"
   ]
  },
  {
   "cell_type": "code",
   "execution_count": 4,
   "metadata": {},
   "outputs": [
    {
     "name": "stdout",
     "output_type": "stream",
     "text": [
      "['date', 'open', 'high', 'low', 'close', 'volume', 'volume_eth', 'market_cap', 'tmw_avg_high_close', 'tmw_percent_increase', 'tmw_1_0_percent_increase_binary', 'tmw_1_25_percent_increase_binary', 'tmw_1_5_percent_increase_binary', 'tmw_1_75_percent_increase_binary', 'tmw_2_0_percent_increase_binary', 'tmw_2_25_percent_increase_binary', 'tmw_2_5_percent_increase_binary', 'tmw_2_75_percent_increase_binary', 'tmw_3_0_percent_increase_binary', 'tmw_positive_percent_increase_binary', 'ema_2', 'rsi_2', 'sma_2', 'last_2_day_1_0_percent_increase_count', 'last_2_day_1_25_percent_increase_count', 'last_2_day_1_5_percent_increase_count', 'last_2_day_1_75_percent_increase_count', 'last_2_day_2_0_percent_increase_count', 'last_2_day_2_25_percent_increase_count', 'last_2_day_2_5_percent_increase_count', 'last_2_day_2_75_percent_increase_count', 'last_2_day_3_0_percent_increase_count', 'ema_5', 'rsi_5', 'sma_5', 'last_5_day_1_0_percent_increase_count', 'last_5_day_1_25_percent_increase_count', 'last_5_day_1_5_percent_increase_count', 'last_5_day_1_75_percent_increase_count', 'last_5_day_2_0_percent_increase_count', 'last_5_day_2_25_percent_increase_count', 'last_5_day_2_5_percent_increase_count', 'last_5_day_2_75_percent_increase_count', 'last_5_day_3_0_percent_increase_count', 'ema_10', 'rsi_10', 'sma_10', 'last_10_day_1_0_percent_increase_count', 'last_10_day_1_25_percent_increase_count', 'last_10_day_1_5_percent_increase_count', 'last_10_day_1_75_percent_increase_count', 'last_10_day_2_0_percent_increase_count', 'last_10_day_2_25_percent_increase_count', 'last_10_day_2_5_percent_increase_count', 'last_10_day_2_75_percent_increase_count', 'last_10_day_3_0_percent_increase_count', 'ema_25', 'rsi_25', 'sma_25', 'last_25_day_1_0_percent_increase_count', 'last_25_day_1_25_percent_increase_count', 'last_25_day_1_5_percent_increase_count', 'last_25_day_1_75_percent_increase_count', 'last_25_day_2_0_percent_increase_count', 'last_25_day_2_25_percent_increase_count', 'last_25_day_2_5_percent_increase_count', 'last_25_day_2_75_percent_increase_count', 'last_25_day_3_0_percent_increase_count', 'ema_50', 'rsi_50', 'sma_50', 'last_50_day_1_0_percent_increase_count', 'last_50_day_1_25_percent_increase_count', 'last_50_day_1_5_percent_increase_count', 'last_50_day_1_75_percent_increase_count', 'last_50_day_2_0_percent_increase_count', 'last_50_day_2_25_percent_increase_count', 'last_50_day_2_5_percent_increase_count', 'last_50_day_2_75_percent_increase_count', 'last_50_day_3_0_percent_increase_count', 'ema_100', 'rsi_100', 'sma_100', 'last_100_day_1_0_percent_increase_count', 'last_100_day_1_25_percent_increase_count', 'last_100_day_1_5_percent_increase_count', 'last_100_day_1_75_percent_increase_count', 'last_100_day_2_0_percent_increase_count', 'last_100_day_2_25_percent_increase_count', 'last_100_day_2_5_percent_increase_count', 'last_100_day_2_75_percent_increase_count', 'last_100_day_3_0_percent_increase_count', 'january', 'february', 'march', 'april', 'may', 'june', 'july', 'august', 'september', 'october', 'november', 'december', 'monday', 'tuesday', 'wednesday', 'thursday', 'friday', 'saturday', 'sunday']\n"
     ]
    }
   ],
   "source": [
    "column_names = eth_ohlc.columns.tolist()\n",
    "print(column_names)"
   ]
  },
  {
   "cell_type": "markdown",
   "metadata": {},
   "source": [
    "## Make 10 random forest models for each of the 10 response variables. Do an analysis of precision scores (Positive Predicted Value, PPV) across thresholds."
   ]
  },
  {
   "cell_type": "markdown",
   "metadata": {},
   "source": [
    "### This is the backtesting function. Its like cross-validation, but for time series data. For a particular model, it returns a dataframe consisting of 'target' (what the actual value of the respone variable was) and 'probability', the predicted value of our model which signifies the proabality of a response of 1."
   ]
  },
  {
   "cell_type": "code",
   "execution_count": 5,
   "metadata": {},
   "outputs": [],
   "source": [
    "def get_backtested_predictions_df(data, predictors, model, response_var, start=1000, step=100):\n",
    "    \n",
    "    def predict(train, test, predictors, model):\n",
    "        model.fit(train[predictors], train[response_var])\n",
    "        probability = model.predict_proba(test[predictors])[:,1]\n",
    "        proba_series = pd.Series(probability, index=test.index, name=\"probability\")\n",
    "        combined = pd.concat([test[response_var], test['tmw_percent_increase'], proba_series], axis=1)\n",
    "        return combined\n",
    "\n",
    "    all_predictions = []\n",
    "    for i in range(start, data.shape[0], step):\n",
    "        train = data.iloc[0:i].copy()\n",
    "        test = data.iloc[i:(i+100)].copy()\n",
    "        predictions = predict(train, test, predictors, model)\n",
    "        all_predictions.append(predictions)\n",
    "\n",
    "    data_with_predictions = pd.concat(all_predictions)\n",
    "    \n",
    "    return data_with_predictions"
   ]
  },
  {
   "cell_type": "code",
   "execution_count": 6,
   "metadata": {},
   "outputs": [],
   "source": [
    "predictors = []\n",
    "periods = [2, 5, 10, 25, 50, 100]\n",
    "percent_increase_counts = ['1_0', '1_25', '1_5', '1_75', '2_0', '2_25', '2_5', '2_75', '3_0']\n",
    "for period in periods:\n",
    "    for indicator in ['ema', 'rsi', 'sma']:\n",
    "        predictors.append(f'{indicator}_{period}')\n",
    "    for percent in percent_increase_counts:\n",
    "        predictors.append(f'last_{period}_day_{percent}_percent_increase_count')\n",
    "months = ['january', 'february', 'march', 'april', 'may', 'june', 'july', 'august', 'september', 'october', 'november', 'december']\n",
    "predictors.extend(months)\n",
    "weekdays = ['monday', 'tuesday', 'wednesday', 'thursday', 'friday', 'saturday', 'sunday']\n",
    "predictors.extend(weekdays)\n",
    "\n",
    "model = RandomForestClassifier(n_estimators=250, min_samples_split=200, random_state=1)"
   ]
  },
  {
   "cell_type": "markdown",
   "metadata": {},
   "source": [
    "### Get backtested predictions for each of the 9 response variables we made, plus the 10th control response variable of > 0% increase tomorrow"
   ]
  },
  {
   "cell_type": "code",
   "execution_count": 8,
   "metadata": {},
   "outputs": [],
   "source": [
    "list_of_dfs = []\n",
    "intervals = [1 + i * 0.25 for i in range(int((3 - 1) / 0.25) + 1)] # 1-3, by .25\n",
    "for i in intervals:\n",
    "    df = get_backtested_predictions_df(eth_ohlc, predictors, model, f\"tmw_{str(i).replace('.', '_')}_percent_increase_binary\")\n",
    "    list_of_dfs.append(df)"
   ]
  },
  {
   "cell_type": "code",
   "execution_count": null,
   "metadata": {},
   "outputs": [],
   "source": [
    "# the 10th response varaible of whehter tomorrows return is over 0.0%\n",
    "list_of_dfs.append(get_backtested_predictions_df(eth_ohlc, predictors, model, f\"tmw_positive_percent_increase_binary\"))"
   ]
  },
  {
   "cell_type": "code",
   "execution_count": 37,
   "metadata": {},
   "outputs": [
    {
     "data": {
      "text/html": [
       "<div>\n",
       "<style scoped>\n",
       "    .dataframe tbody tr th:only-of-type {\n",
       "        vertical-align: middle;\n",
       "    }\n",
       "\n",
       "    .dataframe tbody tr th {\n",
       "        vertical-align: top;\n",
       "    }\n",
       "\n",
       "    .dataframe thead th {\n",
       "        text-align: right;\n",
       "    }\n",
       "</style>\n",
       "<table border=\"1\" class=\"dataframe\">\n",
       "  <thead>\n",
       "    <tr style=\"text-align: right;\">\n",
       "      <th></th>\n",
       "      <th>tmw_1_5_percent_increase_binary</th>\n",
       "      <th>tmw_percent_increase</th>\n",
       "      <th>probability</th>\n",
       "      <th>pred_50.0</th>\n",
       "      <th>pred_50.25</th>\n",
       "      <th>pred_50.5</th>\n",
       "      <th>pred_50.75</th>\n",
       "      <th>pred_51.0</th>\n",
       "      <th>pred_51.25</th>\n",
       "      <th>pred_51.5</th>\n",
       "      <th>...</th>\n",
       "      <th>pred_67.75</th>\n",
       "      <th>pred_68.0</th>\n",
       "      <th>pred_68.25</th>\n",
       "      <th>pred_68.5</th>\n",
       "      <th>pred_68.75</th>\n",
       "      <th>pred_69.0</th>\n",
       "      <th>pred_69.25</th>\n",
       "      <th>pred_69.5</th>\n",
       "      <th>pred_69.75</th>\n",
       "      <th>pred_70.0</th>\n",
       "    </tr>\n",
       "  </thead>\n",
       "  <tbody>\n",
       "    <tr>\n",
       "      <th>1000</th>\n",
       "      <td>0</td>\n",
       "      <td>0.006079</td>\n",
       "      <td>0.548271</td>\n",
       "      <td>True</td>\n",
       "      <td>True</td>\n",
       "      <td>True</td>\n",
       "      <td>True</td>\n",
       "      <td>True</td>\n",
       "      <td>True</td>\n",
       "      <td>True</td>\n",
       "      <td>...</td>\n",
       "      <td>False</td>\n",
       "      <td>False</td>\n",
       "      <td>False</td>\n",
       "      <td>False</td>\n",
       "      <td>False</td>\n",
       "      <td>False</td>\n",
       "      <td>False</td>\n",
       "      <td>False</td>\n",
       "      <td>False</td>\n",
       "      <td>False</td>\n",
       "    </tr>\n",
       "    <tr>\n",
       "      <th>1001</th>\n",
       "      <td>0</td>\n",
       "      <td>-0.047685</td>\n",
       "      <td>0.517924</td>\n",
       "      <td>True</td>\n",
       "      <td>True</td>\n",
       "      <td>True</td>\n",
       "      <td>True</td>\n",
       "      <td>True</td>\n",
       "      <td>True</td>\n",
       "      <td>True</td>\n",
       "      <td>...</td>\n",
       "      <td>False</td>\n",
       "      <td>False</td>\n",
       "      <td>False</td>\n",
       "      <td>False</td>\n",
       "      <td>False</td>\n",
       "      <td>False</td>\n",
       "      <td>False</td>\n",
       "      <td>False</td>\n",
       "      <td>False</td>\n",
       "      <td>False</td>\n",
       "    </tr>\n",
       "    <tr>\n",
       "      <th>1002</th>\n",
       "      <td>0</td>\n",
       "      <td>-0.013621</td>\n",
       "      <td>0.640777</td>\n",
       "      <td>True</td>\n",
       "      <td>True</td>\n",
       "      <td>True</td>\n",
       "      <td>True</td>\n",
       "      <td>True</td>\n",
       "      <td>True</td>\n",
       "      <td>True</td>\n",
       "      <td>...</td>\n",
       "      <td>False</td>\n",
       "      <td>False</td>\n",
       "      <td>False</td>\n",
       "      <td>False</td>\n",
       "      <td>False</td>\n",
       "      <td>False</td>\n",
       "      <td>False</td>\n",
       "      <td>False</td>\n",
       "      <td>False</td>\n",
       "      <td>False</td>\n",
       "    </tr>\n",
       "    <tr>\n",
       "      <th>1003</th>\n",
       "      <td>1</td>\n",
       "      <td>0.047939</td>\n",
       "      <td>0.595422</td>\n",
       "      <td>True</td>\n",
       "      <td>True</td>\n",
       "      <td>True</td>\n",
       "      <td>True</td>\n",
       "      <td>True</td>\n",
       "      <td>True</td>\n",
       "      <td>True</td>\n",
       "      <td>...</td>\n",
       "      <td>False</td>\n",
       "      <td>False</td>\n",
       "      <td>False</td>\n",
       "      <td>False</td>\n",
       "      <td>False</td>\n",
       "      <td>False</td>\n",
       "      <td>False</td>\n",
       "      <td>False</td>\n",
       "      <td>False</td>\n",
       "      <td>False</td>\n",
       "    </tr>\n",
       "    <tr>\n",
       "      <th>1004</th>\n",
       "      <td>1</td>\n",
       "      <td>0.037185</td>\n",
       "      <td>0.512278</td>\n",
       "      <td>True</td>\n",
       "      <td>True</td>\n",
       "      <td>True</td>\n",
       "      <td>True</td>\n",
       "      <td>True</td>\n",
       "      <td>False</td>\n",
       "      <td>False</td>\n",
       "      <td>...</td>\n",
       "      <td>False</td>\n",
       "      <td>False</td>\n",
       "      <td>False</td>\n",
       "      <td>False</td>\n",
       "      <td>False</td>\n",
       "      <td>False</td>\n",
       "      <td>False</td>\n",
       "      <td>False</td>\n",
       "      <td>False</td>\n",
       "      <td>False</td>\n",
       "    </tr>\n",
       "    <tr>\n",
       "      <th>...</th>\n",
       "      <td>...</td>\n",
       "      <td>...</td>\n",
       "      <td>...</td>\n",
       "      <td>...</td>\n",
       "      <td>...</td>\n",
       "      <td>...</td>\n",
       "      <td>...</td>\n",
       "      <td>...</td>\n",
       "      <td>...</td>\n",
       "      <td>...</td>\n",
       "      <td>...</td>\n",
       "      <td>...</td>\n",
       "      <td>...</td>\n",
       "      <td>...</td>\n",
       "      <td>...</td>\n",
       "      <td>...</td>\n",
       "      <td>...</td>\n",
       "      <td>...</td>\n",
       "      <td>...</td>\n",
       "      <td>...</td>\n",
       "      <td>...</td>\n",
       "    </tr>\n",
       "    <tr>\n",
       "      <th>3052</th>\n",
       "      <td>0</td>\n",
       "      <td>-0.028227</td>\n",
       "      <td>0.507019</td>\n",
       "      <td>True</td>\n",
       "      <td>True</td>\n",
       "      <td>True</td>\n",
       "      <td>False</td>\n",
       "      <td>False</td>\n",
       "      <td>False</td>\n",
       "      <td>False</td>\n",
       "      <td>...</td>\n",
       "      <td>False</td>\n",
       "      <td>False</td>\n",
       "      <td>False</td>\n",
       "      <td>False</td>\n",
       "      <td>False</td>\n",
       "      <td>False</td>\n",
       "      <td>False</td>\n",
       "      <td>False</td>\n",
       "      <td>False</td>\n",
       "      <td>False</td>\n",
       "    </tr>\n",
       "    <tr>\n",
       "      <th>3053</th>\n",
       "      <td>1</td>\n",
       "      <td>0.046368</td>\n",
       "      <td>0.569980</td>\n",
       "      <td>True</td>\n",
       "      <td>True</td>\n",
       "      <td>True</td>\n",
       "      <td>True</td>\n",
       "      <td>True</td>\n",
       "      <td>True</td>\n",
       "      <td>True</td>\n",
       "      <td>...</td>\n",
       "      <td>False</td>\n",
       "      <td>False</td>\n",
       "      <td>False</td>\n",
       "      <td>False</td>\n",
       "      <td>False</td>\n",
       "      <td>False</td>\n",
       "      <td>False</td>\n",
       "      <td>False</td>\n",
       "      <td>False</td>\n",
       "      <td>False</td>\n",
       "    </tr>\n",
       "    <tr>\n",
       "      <th>3054</th>\n",
       "      <td>0</td>\n",
       "      <td>0.010047</td>\n",
       "      <td>0.375886</td>\n",
       "      <td>False</td>\n",
       "      <td>False</td>\n",
       "      <td>False</td>\n",
       "      <td>False</td>\n",
       "      <td>False</td>\n",
       "      <td>False</td>\n",
       "      <td>False</td>\n",
       "      <td>...</td>\n",
       "      <td>False</td>\n",
       "      <td>False</td>\n",
       "      <td>False</td>\n",
       "      <td>False</td>\n",
       "      <td>False</td>\n",
       "      <td>False</td>\n",
       "      <td>False</td>\n",
       "      <td>False</td>\n",
       "      <td>False</td>\n",
       "      <td>False</td>\n",
       "    </tr>\n",
       "    <tr>\n",
       "      <th>3055</th>\n",
       "      <td>0</td>\n",
       "      <td>0.000161</td>\n",
       "      <td>0.394011</td>\n",
       "      <td>False</td>\n",
       "      <td>False</td>\n",
       "      <td>False</td>\n",
       "      <td>False</td>\n",
       "      <td>False</td>\n",
       "      <td>False</td>\n",
       "      <td>False</td>\n",
       "      <td>...</td>\n",
       "      <td>False</td>\n",
       "      <td>False</td>\n",
       "      <td>False</td>\n",
       "      <td>False</td>\n",
       "      <td>False</td>\n",
       "      <td>False</td>\n",
       "      <td>False</td>\n",
       "      <td>False</td>\n",
       "      <td>False</td>\n",
       "      <td>False</td>\n",
       "    </tr>\n",
       "    <tr>\n",
       "      <th>3056</th>\n",
       "      <td>0</td>\n",
       "      <td>-0.009995</td>\n",
       "      <td>0.370105</td>\n",
       "      <td>False</td>\n",
       "      <td>False</td>\n",
       "      <td>False</td>\n",
       "      <td>False</td>\n",
       "      <td>False</td>\n",
       "      <td>False</td>\n",
       "      <td>False</td>\n",
       "      <td>...</td>\n",
       "      <td>False</td>\n",
       "      <td>False</td>\n",
       "      <td>False</td>\n",
       "      <td>False</td>\n",
       "      <td>False</td>\n",
       "      <td>False</td>\n",
       "      <td>False</td>\n",
       "      <td>False</td>\n",
       "      <td>False</td>\n",
       "      <td>False</td>\n",
       "    </tr>\n",
       "  </tbody>\n",
       "</table>\n",
       "<p>2057 rows × 84 columns</p>\n",
       "</div>"
      ],
      "text/plain": [
       "      tmw_1_5_percent_increase_binary  tmw_percent_increase  probability  \\\n",
       "1000                                0              0.006079     0.548271   \n",
       "1001                                0             -0.047685     0.517924   \n",
       "1002                                0             -0.013621     0.640777   \n",
       "1003                                1              0.047939     0.595422   \n",
       "1004                                1              0.037185     0.512278   \n",
       "...                               ...                   ...          ...   \n",
       "3052                                0             -0.028227     0.507019   \n",
       "3053                                1              0.046368     0.569980   \n",
       "3054                                0              0.010047     0.375886   \n",
       "3055                                0              0.000161     0.394011   \n",
       "3056                                0             -0.009995     0.370105   \n",
       "\n",
       "      pred_50.0  pred_50.25  pred_50.5  pred_50.75  pred_51.0  pred_51.25  \\\n",
       "1000       True        True       True        True       True        True   \n",
       "1001       True        True       True        True       True        True   \n",
       "1002       True        True       True        True       True        True   \n",
       "1003       True        True       True        True       True        True   \n",
       "1004       True        True       True        True       True       False   \n",
       "...         ...         ...        ...         ...        ...         ...   \n",
       "3052       True        True       True       False      False       False   \n",
       "3053       True        True       True        True       True        True   \n",
       "3054      False       False      False       False      False       False   \n",
       "3055      False       False      False       False      False       False   \n",
       "3056      False       False      False       False      False       False   \n",
       "\n",
       "      pred_51.5  ...  pred_67.75  pred_68.0  pred_68.25  pred_68.5  \\\n",
       "1000       True  ...       False      False       False      False   \n",
       "1001       True  ...       False      False       False      False   \n",
       "1002       True  ...       False      False       False      False   \n",
       "1003       True  ...       False      False       False      False   \n",
       "1004      False  ...       False      False       False      False   \n",
       "...         ...  ...         ...        ...         ...        ...   \n",
       "3052      False  ...       False      False       False      False   \n",
       "3053       True  ...       False      False       False      False   \n",
       "3054      False  ...       False      False       False      False   \n",
       "3055      False  ...       False      False       False      False   \n",
       "3056      False  ...       False      False       False      False   \n",
       "\n",
       "      pred_68.75  pred_69.0  pred_69.25  pred_69.5  pred_69.75  pred_70.0  \n",
       "1000       False      False       False      False       False      False  \n",
       "1001       False      False       False      False       False      False  \n",
       "1002       False      False       False      False       False      False  \n",
       "1003       False      False       False      False       False      False  \n",
       "1004       False      False       False      False       False      False  \n",
       "...          ...        ...         ...        ...         ...        ...  \n",
       "3052       False      False       False      False       False      False  \n",
       "3053       False      False       False      False       False      False  \n",
       "3054       False      False       False      False       False      False  \n",
       "3055       False      False       False      False       False      False  \n",
       "3056       False      False       False      False       False      False  \n",
       "\n",
       "[2057 rows x 84 columns]"
      ]
     },
     "execution_count": 37,
     "metadata": {},
     "output_type": "execute_result"
    }
   ],
   "source": [
    "list_of_dfs[2]"
   ]
  },
  {
   "cell_type": "markdown",
   "metadata": {},
   "source": [
    "### Plot PPV's (positive predictive value, precision score) for each of the 9 response variables along an interval"
   ]
  },
  {
   "cell_type": "code",
   "execution_count": 45,
   "metadata": {},
   "outputs": [],
   "source": [
    "def plot_ppv_by_threshold(list_of_dfs, use_over_0_percent_target, min_true_count, threshold_start, threshold_end, threshold_step):\n",
    "    # Initialize a Plotly figure\n",
    "    fig = go.Figure()\n",
    "\n",
    "    # Loop through each DataFrame and interval\n",
    "    for df in list_of_dfs:\n",
    "        filtered_thresholds = []\n",
    "        filtered_ppvs = []\n",
    "        filtered_hover_texts = []  # List to store hover text information only for true_count >= min_true_count\n",
    "\n",
    "        # Use regular expressions to extract the number or word describing the interval\n",
    "        first_column_name = df.columns[0]\n",
    "        match = re.search(r'tmw_([\\d_]+|\\w+)_percent_increase_binary', first_column_name)\n",
    "        if match:\n",
    "            interval = match.group(1).replace('_', '.')  # Replace underscores with dots for floating point values\n",
    "            if interval == 'positive':\n",
    "                interval_label = 'Positive'\n",
    "            else:\n",
    "                interval_label = f'{interval}'\n",
    "                \n",
    "        thresholds = [x * threshold_step for x in range(int(threshold_start / threshold_step), int(threshold_end / threshold_step) + 1)]\n",
    "        for threshold in thresholds:\n",
    "            col_name = f'pred_{threshold}'\n",
    "            df[col_name] = df['probability'] >= (threshold / 100)\n",
    "            \n",
    "            # Calculate the confusion matrix\n",
    "            # response_col_name = f\"tmw_{str(interval).replace('.', '_')}_percent_increase_binary\"\n",
    "            if use_over_0_percent_target:\n",
    "                cm = confusion_matrix(df['tmw_percent_increase_binary'], df[col_name])\n",
    "            else:\n",
    "                response_col_name = df.columns[0]\n",
    "                cm = confusion_matrix(df[response_col_name], df[col_name])\n",
    "\n",
    "            tn, fp, fn, tp = cm.ravel()\n",
    "            ppv = tp / (tp + fp) if (tp + fp) > 0 else 0\n",
    "\n",
    "            # Calculate value counts for hover information\n",
    "            value_counts = df[col_name].value_counts().to_dict()\n",
    "            false_count = value_counts.get(False, 0)\n",
    "            true_count = value_counts.get(True, 0)\n",
    "            \n",
    "            # Only include data points where true_count >= min_true_count\n",
    "            if true_count >= min_true_count:\n",
    "                filtered_thresholds.append(threshold)\n",
    "                filtered_ppvs.append(ppv)\n",
    "                hover_text = f\"{interval}% Return Tomorrow<br>Threshold: {threshold}<br>PPV: {ppv:.4f}<br>0: {false_count}<br>1: {true_count}\"\n",
    "                filtered_hover_texts.append(hover_text)\n",
    "\n",
    "        # Add a trace for each DataFrame, only if there are valid data points\n",
    "        if filtered_ppvs:\n",
    "            fig.add_trace(go.Scatter(\n",
    "                x=filtered_thresholds,\n",
    "                y=filtered_ppvs,\n",
    "                mode='lines+markers',\n",
    "                name=f'{interval_label}% Return Tomorrow',  # Using a dynamically generated name based on interval\n",
    "                text=filtered_hover_texts,\n",
    "                hoverinfo=\"text\"\n",
    "            ))\n",
    "\n",
    "    # Update plot layout with a title for the legend\n",
    "    fig.update_layout(\n",
    "        title=f'Precision Score of Models Accross Different Threshold Ranges. (Filtered by sum(prediction=1) >= {min_true_count})',\n",
    "        xaxis_title='Probability Threshold (%)',\n",
    "        yaxis_title='Positive Predictive Value (PPV, Precision)',\n",
    "        legend_title=\"Model With Response Variable\",  # Setting the title of the legend\n",
    "        hovermode=\"closest\"  # Ensure hover-effect shows for the closest data point\n",
    "    )\n",
    "\n",
    "    # Show the plot\n",
    "    fig.show()"
   ]
  },
  {
   "cell_type": "markdown",
   "metadata": {},
   "source": [
    "#### A min_true_count = 100, means that over all the 2057 predictions made, 100 where predicted as 1\n",
    "#### 2057/365 = 5.63 years\n",
    "#### The model makes, on average, 100 / 5.63 = 17.8 predictions per year"
   ]
  },
  {
   "cell_type": "code",
   "execution_count": 46,
   "metadata": {},
   "outputs": [
    {
     "data": {
      "application/vnd.plotly.v1+json": {
       "config": {
        "plotlyServerURL": "https://plot.ly"
       },
       "data": [
        {
         "hoverinfo": "text",
         "mode": "lines+markers",
         "name": "1.0% Return Tomorrow",
         "text": [
          "1.0% Return Tomorrow<br>Threshold: 50.0<br>PPV: 0.5428<br>0: 1379<br>1: 678",
          "1.0% Return Tomorrow<br>Threshold: 50.25<br>PPV: 0.5420<br>0: 1391<br>1: 666",
          "1.0% Return Tomorrow<br>Threshold: 50.5<br>PPV: 0.5463<br>0: 1409<br>1: 648",
          "1.0% Return Tomorrow<br>Threshold: 50.75<br>PPV: 0.5497<br>0: 1433<br>1: 624",
          "1.0% Return Tomorrow<br>Threshold: 51.0<br>PPV: 0.5557<br>0: 1456<br>1: 601",
          "1.0% Return Tomorrow<br>Threshold: 51.25<br>PPV: 0.5601<br>0: 1475<br>1: 582",
          "1.0% Return Tomorrow<br>Threshold: 51.5<br>PPV: 0.5694<br>0: 1495<br>1: 562",
          "1.0% Return Tomorrow<br>Threshold: 51.75<br>PPV: 0.5727<br>0: 1514<br>1: 543",
          "1.0% Return Tomorrow<br>Threshold: 52.0<br>PPV: 0.5725<br>0: 1533<br>1: 524",
          "1.0% Return Tomorrow<br>Threshold: 52.25<br>PPV: 0.5746<br>0: 1554<br>1: 503",
          "1.0% Return Tomorrow<br>Threshold: 52.5<br>PPV: 0.5756<br>0: 1581<br>1: 476",
          "1.0% Return Tomorrow<br>Threshold: 52.75<br>PPV: 0.5795<br>0: 1598<br>1: 459",
          "1.0% Return Tomorrow<br>Threshold: 53.0<br>PPV: 0.5734<br>0: 1614<br>1: 443",
          "1.0% Return Tomorrow<br>Threshold: 53.25<br>PPV: 0.5778<br>0: 1633<br>1: 424",
          "1.0% Return Tomorrow<br>Threshold: 53.5<br>PPV: 0.5764<br>0: 1658<br>1: 399",
          "1.0% Return Tomorrow<br>Threshold: 53.75<br>PPV: 0.5873<br>0: 1679<br>1: 378",
          "1.0% Return Tomorrow<br>Threshold: 54.0<br>PPV: 0.5950<br>0: 1699<br>1: 358",
          "1.0% Return Tomorrow<br>Threshold: 54.25<br>PPV: 0.6029<br>0: 1712<br>1: 345",
          "1.0% Return Tomorrow<br>Threshold: 54.5<br>PPV: 0.6018<br>0: 1718<br>1: 339",
          "1.0% Return Tomorrow<br>Threshold: 54.75<br>PPV: 0.5975<br>0: 1734<br>1: 323",
          "1.0% Return Tomorrow<br>Threshold: 55.0<br>PPV: 0.5987<br>0: 1753<br>1: 304",
          "1.0% Return Tomorrow<br>Threshold: 55.25<br>PPV: 0.6027<br>0: 1765<br>1: 292",
          "1.0% Return Tomorrow<br>Threshold: 55.5<br>PPV: 0.6043<br>0: 1779<br>1: 278",
          "1.0% Return Tomorrow<br>Threshold: 55.75<br>PPV: 0.6045<br>0: 1789<br>1: 268",
          "1.0% Return Tomorrow<br>Threshold: 56.0<br>PPV: 0.5953<br>0: 1800<br>1: 257",
          "1.0% Return Tomorrow<br>Threshold: 56.25<br>PPV: 0.5896<br>0: 1806<br>1: 251",
          "1.0% Return Tomorrow<br>Threshold: 56.5<br>PPV: 0.5932<br>0: 1821<br>1: 236",
          "1.0% Return Tomorrow<br>Threshold: 56.75<br>PPV: 0.5837<br>0: 1836<br>1: 221",
          "1.0% Return Tomorrow<br>Threshold: 57.0<br>PPV: 0.5888<br>0: 1843<br>1: 214",
          "1.0% Return Tomorrow<br>Threshold: 57.25<br>PPV: 0.5871<br>0: 1856<br>1: 201",
          "1.0% Return Tomorrow<br>Threshold: 57.5<br>PPV: 0.5876<br>0: 1863<br>1: 194",
          "1.0% Return Tomorrow<br>Threshold: 57.75<br>PPV: 0.5882<br>0: 1870<br>1: 187",
          "1.0% Return Tomorrow<br>Threshold: 58.0<br>PPV: 0.5872<br>0: 1885<br>1: 172",
          "1.0% Return Tomorrow<br>Threshold: 58.25<br>PPV: 0.5915<br>0: 1893<br>1: 164",
          "1.0% Return Tomorrow<br>Threshold: 58.5<br>PPV: 0.6000<br>0: 1897<br>1: 160",
          "1.0% Return Tomorrow<br>Threshold: 58.75<br>PPV: 0.6159<br>0: 1906<br>1: 151",
          "1.0% Return Tomorrow<br>Threshold: 59.0<br>PPV: 0.6338<br>0: 1915<br>1: 142",
          "1.0% Return Tomorrow<br>Threshold: 59.25<br>PPV: 0.6324<br>0: 1921<br>1: 136",
          "1.0% Return Tomorrow<br>Threshold: 59.5<br>PPV: 0.6260<br>0: 1926<br>1: 131",
          "1.0% Return Tomorrow<br>Threshold: 59.75<br>PPV: 0.6371<br>0: 1933<br>1: 124",
          "1.0% Return Tomorrow<br>Threshold: 60.0<br>PPV: 0.6552<br>0: 1941<br>1: 116",
          "1.0% Return Tomorrow<br>Threshold: 60.25<br>PPV: 0.6636<br>0: 1947<br>1: 110"
         ],
         "type": "scatter",
         "x": [
          50,
          50.25,
          50.5,
          50.75,
          51,
          51.25,
          51.5,
          51.75,
          52,
          52.25,
          52.5,
          52.75,
          53,
          53.25,
          53.5,
          53.75,
          54,
          54.25,
          54.5,
          54.75,
          55,
          55.25,
          55.5,
          55.75,
          56,
          56.25,
          56.5,
          56.75,
          57,
          57.25,
          57.5,
          57.75,
          58,
          58.25,
          58.5,
          58.75,
          59,
          59.25,
          59.5,
          59.75,
          60,
          60.25
         ],
         "y": [
          0.5427728613569321,
          0.5420420420420421,
          0.5462962962962963,
          0.5496794871794872,
          0.5557404326123128,
          0.5601374570446735,
          0.5693950177935944,
          0.572744014732965,
          0.5725190839694656,
          0.5745526838966203,
          0.5756302521008403,
          0.579520697167756,
          0.5733634311512416,
          0.5778301886792453,
          0.5764411027568922,
          0.5873015873015873,
          0.5949720670391061,
          0.6028985507246377,
          0.6017699115044248,
          0.5975232198142415,
          0.5986842105263158,
          0.6027397260273972,
          0.60431654676259,
          0.6044776119402985,
          0.5953307392996109,
          0.5896414342629482,
          0.5932203389830508,
          0.583710407239819,
          0.5887850467289719,
          0.5870646766169154,
          0.5876288659793815,
          0.5882352941176471,
          0.5872093023255814,
          0.5914634146341463,
          0.6,
          0.6158940397350994,
          0.6338028169014085,
          0.6323529411764706,
          0.6259541984732825,
          0.6370967741935484,
          0.6551724137931034,
          0.6636363636363637
         ]
        },
        {
         "hoverinfo": "text",
         "mode": "lines+markers",
         "name": "1.25% Return Tomorrow",
         "text": [
          "1.25% Return Tomorrow<br>Threshold: 50.0<br>PPV: 0.5378<br>0: 1594<br>1: 463",
          "1.25% Return Tomorrow<br>Threshold: 50.25<br>PPV: 0.5479<br>0: 1608<br>1: 449",
          "1.25% Return Tomorrow<br>Threshold: 50.5<br>PPV: 0.5442<br>0: 1616<br>1: 441",
          "1.25% Return Tomorrow<br>Threshold: 50.75<br>PPV: 0.5480<br>0: 1630<br>1: 427",
          "1.25% Return Tomorrow<br>Threshold: 51.0<br>PPV: 0.5539<br>0: 1649<br>1: 408",
          "1.25% Return Tomorrow<br>Threshold: 51.25<br>PPV: 0.5544<br>0: 1662<br>1: 395",
          "1.25% Return Tomorrow<br>Threshold: 51.5<br>PPV: 0.5538<br>0: 1676<br>1: 381",
          "1.25% Return Tomorrow<br>Threshold: 51.75<br>PPV: 0.5477<br>0: 1690<br>1: 367",
          "1.25% Return Tomorrow<br>Threshold: 52.0<br>PPV: 0.5493<br>0: 1702<br>1: 355",
          "1.25% Return Tomorrow<br>Threshold: 52.25<br>PPV: 0.5441<br>0: 1717<br>1: 340",
          "1.25% Return Tomorrow<br>Threshold: 52.5<br>PPV: 0.5463<br>0: 1722<br>1: 335",
          "1.25% Return Tomorrow<br>Threshold: 52.75<br>PPV: 0.5521<br>0: 1740<br>1: 317",
          "1.25% Return Tomorrow<br>Threshold: 53.0<br>PPV: 0.5530<br>0: 1755<br>1: 302",
          "1.25% Return Tomorrow<br>Threshold: 53.25<br>PPV: 0.5590<br>0: 1769<br>1: 288",
          "1.25% Return Tomorrow<br>Threshold: 53.5<br>PPV: 0.5683<br>0: 1779<br>1: 278",
          "1.25% Return Tomorrow<br>Threshold: 53.75<br>PPV: 0.5611<br>0: 1795<br>1: 262",
          "1.25% Return Tomorrow<br>Threshold: 54.0<br>PPV: 0.5610<br>0: 1811<br>1: 246",
          "1.25% Return Tomorrow<br>Threshold: 54.25<br>PPV: 0.5598<br>0: 1823<br>1: 234",
          "1.25% Return Tomorrow<br>Threshold: 54.5<br>PPV: 0.5551<br>0: 1830<br>1: 227",
          "1.25% Return Tomorrow<br>Threshold: 54.75<br>PPV: 0.5611<br>0: 1836<br>1: 221",
          "1.25% Return Tomorrow<br>Threshold: 55.0<br>PPV: 0.5634<br>0: 1844<br>1: 213",
          "1.25% Return Tomorrow<br>Threshold: 55.25<br>PPV: 0.5622<br>0: 1856<br>1: 201",
          "1.25% Return Tomorrow<br>Threshold: 55.5<br>PPV: 0.5590<br>0: 1862<br>1: 195",
          "1.25% Return Tomorrow<br>Threshold: 55.75<br>PPV: 0.5602<br>0: 1866<br>1: 191",
          "1.25% Return Tomorrow<br>Threshold: 56.0<br>PPV: 0.5519<br>0: 1874<br>1: 183",
          "1.25% Return Tomorrow<br>Threshold: 56.25<br>PPV: 0.5537<br>0: 1880<br>1: 177",
          "1.25% Return Tomorrow<br>Threshold: 56.5<br>PPV: 0.5482<br>0: 1891<br>1: 166",
          "1.25% Return Tomorrow<br>Threshold: 56.75<br>PPV: 0.5563<br>0: 1897<br>1: 160",
          "1.25% Return Tomorrow<br>Threshold: 57.0<br>PPV: 0.5733<br>0: 1907<br>1: 150",
          "1.25% Return Tomorrow<br>Threshold: 57.25<br>PPV: 0.5833<br>0: 1913<br>1: 144",
          "1.25% Return Tomorrow<br>Threshold: 57.5<br>PPV: 0.5882<br>0: 1921<br>1: 136",
          "1.25% Return Tomorrow<br>Threshold: 57.75<br>PPV: 0.6016<br>0: 1929<br>1: 128",
          "1.25% Return Tomorrow<br>Threshold: 58.0<br>PPV: 0.6198<br>0: 1936<br>1: 121",
          "1.25% Return Tomorrow<br>Threshold: 58.25<br>PPV: 0.6216<br>0: 1946<br>1: 111",
          "1.25% Return Tomorrow<br>Threshold: 58.5<br>PPV: 0.6311<br>0: 1954<br>1: 103"
         ],
         "type": "scatter",
         "x": [
          50,
          50.25,
          50.5,
          50.75,
          51,
          51.25,
          51.5,
          51.75,
          52,
          52.25,
          52.5,
          52.75,
          53,
          53.25,
          53.5,
          53.75,
          54,
          54.25,
          54.5,
          54.75,
          55,
          55.25,
          55.5,
          55.75,
          56,
          56.25,
          56.5,
          56.75,
          57,
          57.25,
          57.5,
          57.75,
          58,
          58.25,
          58.5
         ],
         "y": [
          0.5377969762419006,
          0.5478841870824054,
          0.54421768707483,
          0.5480093676814989,
          0.553921568627451,
          0.5544303797468354,
          0.5538057742782152,
          0.547683923705722,
          0.5492957746478874,
          0.5441176470588235,
          0.5462686567164179,
          0.5520504731861199,
          0.5529801324503312,
          0.5590277777777778,
          0.5683453237410072,
          0.5610687022900763,
          0.5609756097560976,
          0.5598290598290598,
          0.5550660792951542,
          0.5610859728506787,
          0.5633802816901409,
          0.5621890547263682,
          0.558974358974359,
          0.5602094240837696,
          0.5519125683060109,
          0.5536723163841808,
          0.5481927710843374,
          0.55625,
          0.5733333333333334,
          0.5833333333333334,
          0.5882352941176471,
          0.6015625,
          0.6198347107438017,
          0.6216216216216216,
          0.6310679611650486
         ]
        },
        {
         "hoverinfo": "text",
         "mode": "lines+markers",
         "name": "1.5% Return Tomorrow",
         "text": [
          "1.5% Return Tomorrow<br>Threshold: 50.0<br>PPV: 0.5120<br>0: 1766<br>1: 291",
          "1.5% Return Tomorrow<br>Threshold: 50.25<br>PPV: 0.5125<br>0: 1778<br>1: 279",
          "1.5% Return Tomorrow<br>Threshold: 50.5<br>PPV: 0.5129<br>0: 1786<br>1: 271",
          "1.5% Return Tomorrow<br>Threshold: 50.75<br>PPV: 0.5132<br>0: 1792<br>1: 265",
          "1.5% Return Tomorrow<br>Threshold: 51.0<br>PPV: 0.5174<br>0: 1798<br>1: 259",
          "1.5% Return Tomorrow<br>Threshold: 51.25<br>PPV: 0.5202<br>0: 1809<br>1: 248",
          "1.5% Return Tomorrow<br>Threshold: 51.5<br>PPV: 0.5148<br>0: 1820<br>1: 237",
          "1.5% Return Tomorrow<br>Threshold: 51.75<br>PPV: 0.5221<br>0: 1831<br>1: 226",
          "1.5% Return Tomorrow<br>Threshold: 52.0<br>PPV: 0.5116<br>0: 1842<br>1: 215",
          "1.5% Return Tomorrow<br>Threshold: 52.25<br>PPV: 0.5271<br>0: 1854<br>1: 203",
          "1.5% Return Tomorrow<br>Threshold: 52.5<br>PPV: 0.5253<br>0: 1859<br>1: 198",
          "1.5% Return Tomorrow<br>Threshold: 52.75<br>PPV: 0.5337<br>0: 1864<br>1: 193",
          "1.5% Return Tomorrow<br>Threshold: 53.0<br>PPV: 0.5355<br>0: 1874<br>1: 183",
          "1.5% Return Tomorrow<br>Threshold: 53.25<br>PPV: 0.5460<br>0: 1883<br>1: 174",
          "1.5% Return Tomorrow<br>Threshold: 53.5<br>PPV: 0.5542<br>0: 1891<br>1: 166",
          "1.5% Return Tomorrow<br>Threshold: 53.75<br>PPV: 0.5443<br>0: 1899<br>1: 158",
          "1.5% Return Tomorrow<br>Threshold: 54.0<br>PPV: 0.5667<br>0: 1907<br>1: 150",
          "1.5% Return Tomorrow<br>Threshold: 54.25<br>PPV: 0.5734<br>0: 1914<br>1: 143",
          "1.5% Return Tomorrow<br>Threshold: 54.5<br>PPV: 0.5683<br>0: 1918<br>1: 139",
          "1.5% Return Tomorrow<br>Threshold: 54.75<br>PPV: 0.5909<br>0: 1925<br>1: 132",
          "1.5% Return Tomorrow<br>Threshold: 55.0<br>PPV: 0.5902<br>0: 1935<br>1: 122",
          "1.5% Return Tomorrow<br>Threshold: 55.25<br>PPV: 0.5847<br>0: 1939<br>1: 118",
          "1.5% Return Tomorrow<br>Threshold: 55.5<br>PPV: 0.5929<br>0: 1944<br>1: 113",
          "1.5% Return Tomorrow<br>Threshold: 55.75<br>PPV: 0.5963<br>0: 1948<br>1: 109",
          "1.5% Return Tomorrow<br>Threshold: 56.0<br>PPV: 0.6117<br>0: 1954<br>1: 103",
          "1.5% Return Tomorrow<br>Threshold: 56.25<br>PPV: 0.6139<br>0: 1956<br>1: 101"
         ],
         "type": "scatter",
         "x": [
          50,
          50.25,
          50.5,
          50.75,
          51,
          51.25,
          51.5,
          51.75,
          52,
          52.25,
          52.5,
          52.75,
          53,
          53.25,
          53.5,
          53.75,
          54,
          54.25,
          54.5,
          54.75,
          55,
          55.25,
          55.5,
          55.75,
          56,
          56.25
         ],
         "y": [
          0.5120274914089347,
          0.5125448028673835,
          0.5129151291512916,
          0.5132075471698113,
          0.5173745173745173,
          0.5201612903225806,
          0.5147679324894515,
          0.5221238938053098,
          0.5116279069767442,
          0.5270935960591133,
          0.5252525252525253,
          0.533678756476684,
          0.5355191256830601,
          0.5459770114942529,
          0.5542168674698795,
          0.5443037974683544,
          0.5666666666666667,
          0.5734265734265734,
          0.5683453237410072,
          0.5909090909090909,
          0.5901639344262295,
          0.5847457627118644,
          0.5929203539823009,
          0.5963302752293578,
          0.6116504854368932,
          0.6138613861386139
         ]
        },
        {
         "hoverinfo": "text",
         "mode": "lines+markers",
         "name": "1.75% Return Tomorrow",
         "text": [
          "1.75% Return Tomorrow<br>Threshold: 50.0<br>PPV: 0.4978<br>0: 1834<br>1: 223",
          "1.75% Return Tomorrow<br>Threshold: 50.25<br>PPV: 0.5118<br>0: 1846<br>1: 211",
          "1.75% Return Tomorrow<br>Threshold: 50.5<br>PPV: 0.5147<br>0: 1853<br>1: 204",
          "1.75% Return Tomorrow<br>Threshold: 50.75<br>PPV: 0.5204<br>0: 1861<br>1: 196",
          "1.75% Return Tomorrow<br>Threshold: 51.0<br>PPV: 0.5196<br>0: 1878<br>1: 179",
          "1.75% Return Tomorrow<br>Threshold: 51.25<br>PPV: 0.5291<br>0: 1885<br>1: 172",
          "1.75% Return Tomorrow<br>Threshold: 51.5<br>PPV: 0.5301<br>0: 1891<br>1: 166",
          "1.75% Return Tomorrow<br>Threshold: 51.75<br>PPV: 0.5280<br>0: 1896<br>1: 161",
          "1.75% Return Tomorrow<br>Threshold: 52.0<br>PPV: 0.5298<br>0: 1906<br>1: 151",
          "1.75% Return Tomorrow<br>Threshold: 52.25<br>PPV: 0.5390<br>0: 1916<br>1: 141",
          "1.75% Return Tomorrow<br>Threshold: 52.5<br>PPV: 0.5414<br>0: 1924<br>1: 133",
          "1.75% Return Tomorrow<br>Threshold: 52.75<br>PPV: 0.5610<br>0: 1934<br>1: 123",
          "1.75% Return Tomorrow<br>Threshold: 53.0<br>PPV: 0.5556<br>0: 1940<br>1: 117",
          "1.75% Return Tomorrow<br>Threshold: 53.25<br>PPV: 0.5714<br>0: 1945<br>1: 112",
          "1.75% Return Tomorrow<br>Threshold: 53.5<br>PPV: 0.5701<br>0: 1950<br>1: 107",
          "1.75% Return Tomorrow<br>Threshold: 53.75<br>PPV: 0.5922<br>0: 1954<br>1: 103"
         ],
         "type": "scatter",
         "x": [
          50,
          50.25,
          50.5,
          50.75,
          51,
          51.25,
          51.5,
          51.75,
          52,
          52.25,
          52.5,
          52.75,
          53,
          53.25,
          53.5,
          53.75
         ],
         "y": [
          0.4977578475336323,
          0.5118483412322274,
          0.5147058823529411,
          0.5204081632653061,
          0.5195530726256983,
          0.5290697674418605,
          0.5301204819277109,
          0.5279503105590062,
          0.5298013245033113,
          0.5390070921985816,
          0.5413533834586466,
          0.5609756097560976,
          0.5555555555555556,
          0.5714285714285714,
          0.5700934579439252,
          0.5922330097087378
         ]
        },
        {
         "hoverinfo": "text",
         "mode": "lines+markers",
         "name": "2.0% Return Tomorrow",
         "text": [
          "2.0% Return Tomorrow<br>Threshold: 50.0<br>PPV: 0.5106<br>0: 1916<br>1: 141",
          "2.0% Return Tomorrow<br>Threshold: 50.25<br>PPV: 0.5145<br>0: 1919<br>1: 138",
          "2.0% Return Tomorrow<br>Threshold: 50.5<br>PPV: 0.5263<br>0: 1924<br>1: 133",
          "2.0% Return Tomorrow<br>Threshold: 50.75<br>PPV: 0.5440<br>0: 1932<br>1: 125",
          "2.0% Return Tomorrow<br>Threshold: 51.0<br>PPV: 0.5593<br>0: 1939<br>1: 118",
          "2.0% Return Tomorrow<br>Threshold: 51.25<br>PPV: 0.5625<br>0: 1945<br>1: 112",
          "2.0% Return Tomorrow<br>Threshold: 51.5<br>PPV: 0.5825<br>0: 1954<br>1: 103",
          "2.0% Return Tomorrow<br>Threshold: 51.75<br>PPV: 0.5941<br>0: 1956<br>1: 101"
         ],
         "type": "scatter",
         "x": [
          50,
          50.25,
          50.5,
          50.75,
          51,
          51.25,
          51.5,
          51.75
         ],
         "y": [
          0.5106382978723404,
          0.5144927536231884,
          0.5263157894736842,
          0.544,
          0.559322033898305,
          0.5625,
          0.5825242718446602,
          0.594059405940594
         ]
        },
        {
         "hoverinfo": "text",
         "mode": "lines+markers",
         "name": "2.25% Return Tomorrow",
         "text": [
          "2.25% Return Tomorrow<br>Threshold: 50.0<br>PPV: 0.4950<br>0: 1956<br>1: 101"
         ],
         "type": "scatter",
         "x": [
          50
         ],
         "y": [
          0.49504950495049505
         ]
        },
        {
         "hoverinfo": "text",
         "mode": "lines+markers",
         "name": "Positive% Return Tomorrow",
         "text": [
          "positive% Return Tomorrow<br>Threshold: 50.0<br>PPV: 0.6551<br>0: 10<br>1: 2047",
          "positive% Return Tomorrow<br>Threshold: 50.25<br>PPV: 0.6553<br>0: 12<br>1: 2045",
          "positive% Return Tomorrow<br>Threshold: 50.5<br>PPV: 0.6556<br>0: 13<br>1: 2044",
          "positive% Return Tomorrow<br>Threshold: 50.75<br>PPV: 0.6556<br>0: 13<br>1: 2044",
          "positive% Return Tomorrow<br>Threshold: 51.0<br>PPV: 0.6554<br>0: 14<br>1: 2043",
          "positive% Return Tomorrow<br>Threshold: 51.25<br>PPV: 0.6552<br>0: 15<br>1: 2042",
          "positive% Return Tomorrow<br>Threshold: 51.5<br>PPV: 0.6554<br>0: 17<br>1: 2040",
          "positive% Return Tomorrow<br>Threshold: 51.75<br>PPV: 0.6552<br>0: 18<br>1: 2039",
          "positive% Return Tomorrow<br>Threshold: 52.0<br>PPV: 0.6555<br>0: 19<br>1: 2038",
          "positive% Return Tomorrow<br>Threshold: 52.25<br>PPV: 0.6555<br>0: 19<br>1: 2038",
          "positive% Return Tomorrow<br>Threshold: 52.5<br>PPV: 0.6552<br>0: 21<br>1: 2036",
          "positive% Return Tomorrow<br>Threshold: 52.75<br>PPV: 0.6554<br>0: 23<br>1: 2034",
          "positive% Return Tomorrow<br>Threshold: 53.0<br>PPV: 0.6552<br>0: 27<br>1: 2030",
          "positive% Return Tomorrow<br>Threshold: 53.25<br>PPV: 0.6552<br>0: 30<br>1: 2027",
          "positive% Return Tomorrow<br>Threshold: 53.5<br>PPV: 0.6550<br>0: 31<br>1: 2026",
          "positive% Return Tomorrow<br>Threshold: 53.75<br>PPV: 0.6550<br>0: 37<br>1: 2020",
          "positive% Return Tomorrow<br>Threshold: 54.0<br>PPV: 0.6562<br>0: 44<br>1: 2013",
          "positive% Return Tomorrow<br>Threshold: 54.25<br>PPV: 0.6561<br>0: 45<br>1: 2012",
          "positive% Return Tomorrow<br>Threshold: 54.5<br>PPV: 0.6564<br>0: 49<br>1: 2008",
          "positive% Return Tomorrow<br>Threshold: 54.75<br>PPV: 0.6552<br>0: 56<br>1: 2001",
          "positive% Return Tomorrow<br>Threshold: 55.0<br>PPV: 0.6551<br>0: 62<br>1: 1995",
          "positive% Return Tomorrow<br>Threshold: 55.25<br>PPV: 0.6561<br>0: 68<br>1: 1989",
          "positive% Return Tomorrow<br>Threshold: 55.5<br>PPV: 0.6559<br>0: 75<br>1: 1982",
          "positive% Return Tomorrow<br>Threshold: 55.75<br>PPV: 0.6565<br>0: 83<br>1: 1974",
          "positive% Return Tomorrow<br>Threshold: 56.0<br>PPV: 0.6570<br>0: 89<br>1: 1968",
          "positive% Return Tomorrow<br>Threshold: 56.25<br>PPV: 0.6582<br>0: 100<br>1: 1957",
          "positive% Return Tomorrow<br>Threshold: 56.5<br>PPV: 0.6585<br>0: 107<br>1: 1950",
          "positive% Return Tomorrow<br>Threshold: 56.75<br>PPV: 0.6601<br>0: 124<br>1: 1933",
          "positive% Return Tomorrow<br>Threshold: 57.0<br>PPV: 0.6608<br>0: 138<br>1: 1919",
          "positive% Return Tomorrow<br>Threshold: 57.25<br>PPV: 0.6614<br>0: 155<br>1: 1902",
          "positive% Return Tomorrow<br>Threshold: 57.5<br>PPV: 0.6605<br>0: 169<br>1: 1888",
          "positive% Return Tomorrow<br>Threshold: 57.75<br>PPV: 0.6606<br>0: 183<br>1: 1874",
          "positive% Return Tomorrow<br>Threshold: 58.0<br>PPV: 0.6600<br>0: 195<br>1: 1862",
          "positive% Return Tomorrow<br>Threshold: 58.25<br>PPV: 0.6583<br>0: 216<br>1: 1841",
          "positive% Return Tomorrow<br>Threshold: 58.5<br>PPV: 0.6606<br>0: 236<br>1: 1821",
          "positive% Return Tomorrow<br>Threshold: 58.75<br>PPV: 0.6606<br>0: 254<br>1: 1803",
          "positive% Return Tomorrow<br>Threshold: 59.0<br>PPV: 0.6586<br>0: 276<br>1: 1781",
          "positive% Return Tomorrow<br>Threshold: 59.25<br>PPV: 0.6598<br>0: 308<br>1: 1749",
          "positive% Return Tomorrow<br>Threshold: 59.5<br>PPV: 0.6599<br>0: 328<br>1: 1729",
          "positive% Return Tomorrow<br>Threshold: 59.75<br>PPV: 0.6606<br>0: 348<br>1: 1709",
          "positive% Return Tomorrow<br>Threshold: 60.0<br>PPV: 0.6623<br>0: 372<br>1: 1685",
          "positive% Return Tomorrow<br>Threshold: 60.25<br>PPV: 0.6628<br>0: 399<br>1: 1658",
          "positive% Return Tomorrow<br>Threshold: 60.5<br>PPV: 0.6601<br>0: 436<br>1: 1621",
          "positive% Return Tomorrow<br>Threshold: 60.75<br>PPV: 0.6614<br>0: 474<br>1: 1583",
          "positive% Return Tomorrow<br>Threshold: 61.0<br>PPV: 0.6652<br>0: 507<br>1: 1550",
          "positive% Return Tomorrow<br>Threshold: 61.25<br>PPV: 0.6671<br>0: 543<br>1: 1514",
          "positive% Return Tomorrow<br>Threshold: 61.5<br>PPV: 0.6660<br>0: 584<br>1: 1473",
          "positive% Return Tomorrow<br>Threshold: 61.75<br>PPV: 0.6657<br>0: 630<br>1: 1427",
          "positive% Return Tomorrow<br>Threshold: 62.0<br>PPV: 0.6631<br>0: 674<br>1: 1383",
          "positive% Return Tomorrow<br>Threshold: 62.25<br>PPV: 0.6634<br>0: 714<br>1: 1343",
          "positive% Return Tomorrow<br>Threshold: 62.5<br>PPV: 0.6631<br>0: 757<br>1: 1300",
          "positive% Return Tomorrow<br>Threshold: 62.75<br>PPV: 0.6629<br>0: 808<br>1: 1249",
          "positive% Return Tomorrow<br>Threshold: 63.0<br>PPV: 0.6625<br>0: 857<br>1: 1200",
          "positive% Return Tomorrow<br>Threshold: 63.25<br>PPV: 0.6623<br>0: 902<br>1: 1155",
          "positive% Return Tomorrow<br>Threshold: 63.5<br>PPV: 0.6634<br>0: 949<br>1: 1108",
          "positive% Return Tomorrow<br>Threshold: 63.75<br>PPV: 0.6626<br>0: 996<br>1: 1061",
          "positive% Return Tomorrow<br>Threshold: 64.0<br>PPV: 0.6577<br>0: 1058<br>1: 999",
          "positive% Return Tomorrow<br>Threshold: 64.25<br>PPV: 0.6552<br>0: 1097<br>1: 960",
          "positive% Return Tomorrow<br>Threshold: 64.5<br>PPV: 0.6527<br>0: 1147<br>1: 910",
          "positive% Return Tomorrow<br>Threshold: 64.75<br>PPV: 0.6553<br>0: 1181<br>1: 876",
          "positive% Return Tomorrow<br>Threshold: 65.0<br>PPV: 0.6582<br>0: 1232<br>1: 825",
          "positive% Return Tomorrow<br>Threshold: 65.25<br>PPV: 0.6565<br>0: 1268<br>1: 789",
          "positive% Return Tomorrow<br>Threshold: 65.5<br>PPV: 0.6586<br>0: 1313<br>1: 744",
          "positive% Return Tomorrow<br>Threshold: 65.75<br>PPV: 0.6580<br>0: 1364<br>1: 693",
          "positive% Return Tomorrow<br>Threshold: 66.0<br>PPV: 0.6697<br>0: 1403<br>1: 654",
          "positive% Return Tomorrow<br>Threshold: 66.25<br>PPV: 0.6802<br>0: 1441<br>1: 616",
          "positive% Return Tomorrow<br>Threshold: 66.5<br>PPV: 0.6795<br>0: 1486<br>1: 571",
          "positive% Return Tomorrow<br>Threshold: 66.75<br>PPV: 0.6843<br>0: 1528<br>1: 529",
          "positive% Return Tomorrow<br>Threshold: 67.0<br>PPV: 0.6781<br>0: 1560<br>1: 497",
          "positive% Return Tomorrow<br>Threshold: 67.25<br>PPV: 0.6825<br>0: 1594<br>1: 463",
          "positive% Return Tomorrow<br>Threshold: 67.5<br>PPV: 0.6714<br>0: 1637<br>1: 420",
          "positive% Return Tomorrow<br>Threshold: 67.75<br>PPV: 0.6735<br>0: 1668<br>1: 389",
          "positive% Return Tomorrow<br>Threshold: 68.0<br>PPV: 0.6732<br>0: 1702<br>1: 355",
          "positive% Return Tomorrow<br>Threshold: 68.25<br>PPV: 0.6737<br>0: 1726<br>1: 331",
          "positive% Return Tomorrow<br>Threshold: 68.5<br>PPV: 0.6645<br>0: 1747<br>1: 310",
          "positive% Return Tomorrow<br>Threshold: 68.75<br>PPV: 0.6655<br>0: 1770<br>1: 287",
          "positive% Return Tomorrow<br>Threshold: 69.0<br>PPV: 0.6667<br>0: 1796<br>1: 261",
          "positive% Return Tomorrow<br>Threshold: 69.25<br>PPV: 0.6653<br>0: 1812<br>1: 245",
          "positive% Return Tomorrow<br>Threshold: 69.5<br>PPV: 0.6528<br>0: 1841<br>1: 216",
          "positive% Return Tomorrow<br>Threshold: 69.75<br>PPV: 0.6617<br>0: 1856<br>1: 201",
          "positive% Return Tomorrow<br>Threshold: 70.0<br>PPV: 0.6758<br>0: 1875<br>1: 182"
         ],
         "type": "scatter",
         "x": [
          50,
          50.25,
          50.5,
          50.75,
          51,
          51.25,
          51.5,
          51.75,
          52,
          52.25,
          52.5,
          52.75,
          53,
          53.25,
          53.5,
          53.75,
          54,
          54.25,
          54.5,
          54.75,
          55,
          55.25,
          55.5,
          55.75,
          56,
          56.25,
          56.5,
          56.75,
          57,
          57.25,
          57.5,
          57.75,
          58,
          58.25,
          58.5,
          58.75,
          59,
          59.25,
          59.5,
          59.75,
          60,
          60.25,
          60.5,
          60.75,
          61,
          61.25,
          61.5,
          61.75,
          62,
          62.25,
          62.5,
          62.75,
          63,
          63.25,
          63.5,
          63.75,
          64,
          64.25,
          64.5,
          64.75,
          65,
          65.25,
          65.5,
          65.75,
          66,
          66.25,
          66.5,
          66.75,
          67,
          67.25,
          67.5,
          67.75,
          68,
          68.25,
          68.5,
          68.75,
          69,
          69.25,
          69.5,
          69.75,
          70
         ],
         "y": [
          0.655105031753786,
          0.6552567237163814,
          0.6555772994129159,
          0.6555772994129159,
          0.6554087126774352,
          0.6552399608227228,
          0.6553921568627451,
          0.6552231486022561,
          0.6555446516192346,
          0.6555446516192346,
          0.6552062868369352,
          0.6553588987217306,
          0.6551724137931034,
          0.6551554020720276,
          0.6549851924975321,
          0.654950495049505,
          0.6562344759066071,
          0.6560636182902585,
          0.6563745019920318,
          0.6551724137931034,
          0.6551378446115288,
          0.6561085972850679,
          0.6559031281533805,
          0.6565349544072948,
          0.6570121951219512,
          0.6581502299437915,
          0.6584615384615384,
          0.6601138127263321,
          0.6607608129233976,
          0.6614090431125131,
          0.6604872881355932,
          0.6606189967982924,
          0.6600429645542427,
          0.6583378598587724,
          0.6606260296540363,
          0.6605657237936772,
          0.6586187535092645,
          0.6598056032018296,
          0.659919028340081,
          0.660620245757753,
          0.6623145400593472,
          0.6628468033775633,
          0.6600863664404688,
          0.6614024005053696,
          0.6651612903225806,
          0.667107001321004,
          0.6659877800407332,
          0.6657323055360898,
          0.6630513376717281,
          0.663440059568131,
          0.6630769230769231,
          0.6629303442754203,
          0.6625,
          0.6623376623376623,
          0.6633574007220217,
          0.6625824693685203,
          0.6576576576576577,
          0.6552083333333333,
          0.6527472527472528,
          0.6552511415525114,
          0.6581818181818182,
          0.6565272496831432,
          0.6586021505376344,
          0.658008658008658,
          0.6697247706422018,
          0.6801948051948052,
          0.6795096322241682,
          0.6843100189035917,
          0.6780684104627767,
          0.6825053995680346,
          0.6714285714285714,
          0.6735218508997429,
          0.6732394366197183,
          0.6737160120845922,
          0.6645161290322581,
          0.6655052264808362,
          0.6666666666666666,
          0.6653061224489796,
          0.6527777777777778,
          0.6616915422885572,
          0.6758241758241759
         ]
        }
       ],
       "layout": {
        "hovermode": "closest",
        "legend": {
         "title": {
          "text": "Model With Response Variable"
         }
        },
        "template": {
         "data": {
          "bar": [
           {
            "error_x": {
             "color": "#2a3f5f"
            },
            "error_y": {
             "color": "#2a3f5f"
            },
            "marker": {
             "line": {
              "color": "#E5ECF6",
              "width": 0.5
             },
             "pattern": {
              "fillmode": "overlay",
              "size": 10,
              "solidity": 0.2
             }
            },
            "type": "bar"
           }
          ],
          "barpolar": [
           {
            "marker": {
             "line": {
              "color": "#E5ECF6",
              "width": 0.5
             },
             "pattern": {
              "fillmode": "overlay",
              "size": 10,
              "solidity": 0.2
             }
            },
            "type": "barpolar"
           }
          ],
          "carpet": [
           {
            "aaxis": {
             "endlinecolor": "#2a3f5f",
             "gridcolor": "white",
             "linecolor": "white",
             "minorgridcolor": "white",
             "startlinecolor": "#2a3f5f"
            },
            "baxis": {
             "endlinecolor": "#2a3f5f",
             "gridcolor": "white",
             "linecolor": "white",
             "minorgridcolor": "white",
             "startlinecolor": "#2a3f5f"
            },
            "type": "carpet"
           }
          ],
          "choropleth": [
           {
            "colorbar": {
             "outlinewidth": 0,
             "ticks": ""
            },
            "type": "choropleth"
           }
          ],
          "contour": [
           {
            "colorbar": {
             "outlinewidth": 0,
             "ticks": ""
            },
            "colorscale": [
             [
              0,
              "#0d0887"
             ],
             [
              0.1111111111111111,
              "#46039f"
             ],
             [
              0.2222222222222222,
              "#7201a8"
             ],
             [
              0.3333333333333333,
              "#9c179e"
             ],
             [
              0.4444444444444444,
              "#bd3786"
             ],
             [
              0.5555555555555556,
              "#d8576b"
             ],
             [
              0.6666666666666666,
              "#ed7953"
             ],
             [
              0.7777777777777778,
              "#fb9f3a"
             ],
             [
              0.8888888888888888,
              "#fdca26"
             ],
             [
              1,
              "#f0f921"
             ]
            ],
            "type": "contour"
           }
          ],
          "contourcarpet": [
           {
            "colorbar": {
             "outlinewidth": 0,
             "ticks": ""
            },
            "type": "contourcarpet"
           }
          ],
          "heatmap": [
           {
            "colorbar": {
             "outlinewidth": 0,
             "ticks": ""
            },
            "colorscale": [
             [
              0,
              "#0d0887"
             ],
             [
              0.1111111111111111,
              "#46039f"
             ],
             [
              0.2222222222222222,
              "#7201a8"
             ],
             [
              0.3333333333333333,
              "#9c179e"
             ],
             [
              0.4444444444444444,
              "#bd3786"
             ],
             [
              0.5555555555555556,
              "#d8576b"
             ],
             [
              0.6666666666666666,
              "#ed7953"
             ],
             [
              0.7777777777777778,
              "#fb9f3a"
             ],
             [
              0.8888888888888888,
              "#fdca26"
             ],
             [
              1,
              "#f0f921"
             ]
            ],
            "type": "heatmap"
           }
          ],
          "heatmapgl": [
           {
            "colorbar": {
             "outlinewidth": 0,
             "ticks": ""
            },
            "colorscale": [
             [
              0,
              "#0d0887"
             ],
             [
              0.1111111111111111,
              "#46039f"
             ],
             [
              0.2222222222222222,
              "#7201a8"
             ],
             [
              0.3333333333333333,
              "#9c179e"
             ],
             [
              0.4444444444444444,
              "#bd3786"
             ],
             [
              0.5555555555555556,
              "#d8576b"
             ],
             [
              0.6666666666666666,
              "#ed7953"
             ],
             [
              0.7777777777777778,
              "#fb9f3a"
             ],
             [
              0.8888888888888888,
              "#fdca26"
             ],
             [
              1,
              "#f0f921"
             ]
            ],
            "type": "heatmapgl"
           }
          ],
          "histogram": [
           {
            "marker": {
             "pattern": {
              "fillmode": "overlay",
              "size": 10,
              "solidity": 0.2
             }
            },
            "type": "histogram"
           }
          ],
          "histogram2d": [
           {
            "colorbar": {
             "outlinewidth": 0,
             "ticks": ""
            },
            "colorscale": [
             [
              0,
              "#0d0887"
             ],
             [
              0.1111111111111111,
              "#46039f"
             ],
             [
              0.2222222222222222,
              "#7201a8"
             ],
             [
              0.3333333333333333,
              "#9c179e"
             ],
             [
              0.4444444444444444,
              "#bd3786"
             ],
             [
              0.5555555555555556,
              "#d8576b"
             ],
             [
              0.6666666666666666,
              "#ed7953"
             ],
             [
              0.7777777777777778,
              "#fb9f3a"
             ],
             [
              0.8888888888888888,
              "#fdca26"
             ],
             [
              1,
              "#f0f921"
             ]
            ],
            "type": "histogram2d"
           }
          ],
          "histogram2dcontour": [
           {
            "colorbar": {
             "outlinewidth": 0,
             "ticks": ""
            },
            "colorscale": [
             [
              0,
              "#0d0887"
             ],
             [
              0.1111111111111111,
              "#46039f"
             ],
             [
              0.2222222222222222,
              "#7201a8"
             ],
             [
              0.3333333333333333,
              "#9c179e"
             ],
             [
              0.4444444444444444,
              "#bd3786"
             ],
             [
              0.5555555555555556,
              "#d8576b"
             ],
             [
              0.6666666666666666,
              "#ed7953"
             ],
             [
              0.7777777777777778,
              "#fb9f3a"
             ],
             [
              0.8888888888888888,
              "#fdca26"
             ],
             [
              1,
              "#f0f921"
             ]
            ],
            "type": "histogram2dcontour"
           }
          ],
          "mesh3d": [
           {
            "colorbar": {
             "outlinewidth": 0,
             "ticks": ""
            },
            "type": "mesh3d"
           }
          ],
          "parcoords": [
           {
            "line": {
             "colorbar": {
              "outlinewidth": 0,
              "ticks": ""
             }
            },
            "type": "parcoords"
           }
          ],
          "pie": [
           {
            "automargin": true,
            "type": "pie"
           }
          ],
          "scatter": [
           {
            "fillpattern": {
             "fillmode": "overlay",
             "size": 10,
             "solidity": 0.2
            },
            "type": "scatter"
           }
          ],
          "scatter3d": [
           {
            "line": {
             "colorbar": {
              "outlinewidth": 0,
              "ticks": ""
             }
            },
            "marker": {
             "colorbar": {
              "outlinewidth": 0,
              "ticks": ""
             }
            },
            "type": "scatter3d"
           }
          ],
          "scattercarpet": [
           {
            "marker": {
             "colorbar": {
              "outlinewidth": 0,
              "ticks": ""
             }
            },
            "type": "scattercarpet"
           }
          ],
          "scattergeo": [
           {
            "marker": {
             "colorbar": {
              "outlinewidth": 0,
              "ticks": ""
             }
            },
            "type": "scattergeo"
           }
          ],
          "scattergl": [
           {
            "marker": {
             "colorbar": {
              "outlinewidth": 0,
              "ticks": ""
             }
            },
            "type": "scattergl"
           }
          ],
          "scattermapbox": [
           {
            "marker": {
             "colorbar": {
              "outlinewidth": 0,
              "ticks": ""
             }
            },
            "type": "scattermapbox"
           }
          ],
          "scatterpolar": [
           {
            "marker": {
             "colorbar": {
              "outlinewidth": 0,
              "ticks": ""
             }
            },
            "type": "scatterpolar"
           }
          ],
          "scatterpolargl": [
           {
            "marker": {
             "colorbar": {
              "outlinewidth": 0,
              "ticks": ""
             }
            },
            "type": "scatterpolargl"
           }
          ],
          "scatterternary": [
           {
            "marker": {
             "colorbar": {
              "outlinewidth": 0,
              "ticks": ""
             }
            },
            "type": "scatterternary"
           }
          ],
          "surface": [
           {
            "colorbar": {
             "outlinewidth": 0,
             "ticks": ""
            },
            "colorscale": [
             [
              0,
              "#0d0887"
             ],
             [
              0.1111111111111111,
              "#46039f"
             ],
             [
              0.2222222222222222,
              "#7201a8"
             ],
             [
              0.3333333333333333,
              "#9c179e"
             ],
             [
              0.4444444444444444,
              "#bd3786"
             ],
             [
              0.5555555555555556,
              "#d8576b"
             ],
             [
              0.6666666666666666,
              "#ed7953"
             ],
             [
              0.7777777777777778,
              "#fb9f3a"
             ],
             [
              0.8888888888888888,
              "#fdca26"
             ],
             [
              1,
              "#f0f921"
             ]
            ],
            "type": "surface"
           }
          ],
          "table": [
           {
            "cells": {
             "fill": {
              "color": "#EBF0F8"
             },
             "line": {
              "color": "white"
             }
            },
            "header": {
             "fill": {
              "color": "#C8D4E3"
             },
             "line": {
              "color": "white"
             }
            },
            "type": "table"
           }
          ]
         },
         "layout": {
          "annotationdefaults": {
           "arrowcolor": "#2a3f5f",
           "arrowhead": 0,
           "arrowwidth": 1
          },
          "autotypenumbers": "strict",
          "coloraxis": {
           "colorbar": {
            "outlinewidth": 0,
            "ticks": ""
           }
          },
          "colorscale": {
           "diverging": [
            [
             0,
             "#8e0152"
            ],
            [
             0.1,
             "#c51b7d"
            ],
            [
             0.2,
             "#de77ae"
            ],
            [
             0.3,
             "#f1b6da"
            ],
            [
             0.4,
             "#fde0ef"
            ],
            [
             0.5,
             "#f7f7f7"
            ],
            [
             0.6,
             "#e6f5d0"
            ],
            [
             0.7,
             "#b8e186"
            ],
            [
             0.8,
             "#7fbc41"
            ],
            [
             0.9,
             "#4d9221"
            ],
            [
             1,
             "#276419"
            ]
           ],
           "sequential": [
            [
             0,
             "#0d0887"
            ],
            [
             0.1111111111111111,
             "#46039f"
            ],
            [
             0.2222222222222222,
             "#7201a8"
            ],
            [
             0.3333333333333333,
             "#9c179e"
            ],
            [
             0.4444444444444444,
             "#bd3786"
            ],
            [
             0.5555555555555556,
             "#d8576b"
            ],
            [
             0.6666666666666666,
             "#ed7953"
            ],
            [
             0.7777777777777778,
             "#fb9f3a"
            ],
            [
             0.8888888888888888,
             "#fdca26"
            ],
            [
             1,
             "#f0f921"
            ]
           ],
           "sequentialminus": [
            [
             0,
             "#0d0887"
            ],
            [
             0.1111111111111111,
             "#46039f"
            ],
            [
             0.2222222222222222,
             "#7201a8"
            ],
            [
             0.3333333333333333,
             "#9c179e"
            ],
            [
             0.4444444444444444,
             "#bd3786"
            ],
            [
             0.5555555555555556,
             "#d8576b"
            ],
            [
             0.6666666666666666,
             "#ed7953"
            ],
            [
             0.7777777777777778,
             "#fb9f3a"
            ],
            [
             0.8888888888888888,
             "#fdca26"
            ],
            [
             1,
             "#f0f921"
            ]
           ]
          },
          "colorway": [
           "#636efa",
           "#EF553B",
           "#00cc96",
           "#ab63fa",
           "#FFA15A",
           "#19d3f3",
           "#FF6692",
           "#B6E880",
           "#FF97FF",
           "#FECB52"
          ],
          "font": {
           "color": "#2a3f5f"
          },
          "geo": {
           "bgcolor": "white",
           "lakecolor": "white",
           "landcolor": "#E5ECF6",
           "showlakes": true,
           "showland": true,
           "subunitcolor": "white"
          },
          "hoverlabel": {
           "align": "left"
          },
          "hovermode": "closest",
          "mapbox": {
           "style": "light"
          },
          "paper_bgcolor": "white",
          "plot_bgcolor": "#E5ECF6",
          "polar": {
           "angularaxis": {
            "gridcolor": "white",
            "linecolor": "white",
            "ticks": ""
           },
           "bgcolor": "#E5ECF6",
           "radialaxis": {
            "gridcolor": "white",
            "linecolor": "white",
            "ticks": ""
           }
          },
          "scene": {
           "xaxis": {
            "backgroundcolor": "#E5ECF6",
            "gridcolor": "white",
            "gridwidth": 2,
            "linecolor": "white",
            "showbackground": true,
            "ticks": "",
            "zerolinecolor": "white"
           },
           "yaxis": {
            "backgroundcolor": "#E5ECF6",
            "gridcolor": "white",
            "gridwidth": 2,
            "linecolor": "white",
            "showbackground": true,
            "ticks": "",
            "zerolinecolor": "white"
           },
           "zaxis": {
            "backgroundcolor": "#E5ECF6",
            "gridcolor": "white",
            "gridwidth": 2,
            "linecolor": "white",
            "showbackground": true,
            "ticks": "",
            "zerolinecolor": "white"
           }
          },
          "shapedefaults": {
           "line": {
            "color": "#2a3f5f"
           }
          },
          "ternary": {
           "aaxis": {
            "gridcolor": "white",
            "linecolor": "white",
            "ticks": ""
           },
           "baxis": {
            "gridcolor": "white",
            "linecolor": "white",
            "ticks": ""
           },
           "bgcolor": "#E5ECF6",
           "caxis": {
            "gridcolor": "white",
            "linecolor": "white",
            "ticks": ""
           }
          },
          "title": {
           "x": 0.05
          },
          "xaxis": {
           "automargin": true,
           "gridcolor": "white",
           "linecolor": "white",
           "ticks": "",
           "title": {
            "standoff": 15
           },
           "zerolinecolor": "white",
           "zerolinewidth": 2
          },
          "yaxis": {
           "automargin": true,
           "gridcolor": "white",
           "linecolor": "white",
           "ticks": "",
           "title": {
            "standoff": 15
           },
           "zerolinecolor": "white",
           "zerolinewidth": 2
          }
         }
        },
        "title": {
         "text": "Precision Score of Models Accross Different Threshold Ranges. (Filtered by sum(prediction=1) >= 100)"
        },
        "xaxis": {
         "title": {
          "text": "Probability Threshold (%)"
         }
        },
        "yaxis": {
         "title": {
          "text": "Positive Predictive Value (PPV, Precision)"
         }
        }
       }
      }
     },
     "metadata": {},
     "output_type": "display_data"
    }
   ],
   "source": [
    "# def plot_ppv_by_threshold(list_of_dfs, min_true_count, threshold_start, threshold_end, threshold_step):\n",
    "plot_ppv_by_threshold(list_of_dfs, False, 100, 50, 70, 0.25)"
   ]
  },
  {
   "cell_type": "markdown",
   "metadata": {},
   "source": [
    "### If we had no model, and just bought Ethereum every single day, we would achieve each return the following proportion of the time"
   ]
  },
  {
   "cell_type": "code",
   "execution_count": 63,
   "metadata": {},
   "outputs": [
    {
     "name": "stdout",
     "output_type": "stream",
     "text": [
      "Positive: 0.6562955760816723\n",
      "1.0%: 0.4720466699076325\n",
      "1.25%: 0.43364122508507535\n",
      "1.5%: 0.4025279533300924\n",
      "1.75%: 0.3675255226057365\n",
      "2.0%: 0.3354399611084103\n",
      "2.25%: 0.31016042780748665\n",
      "2.75%: 0.25911521633446766\n",
      "3.0%: 0.24258629071463297\n"
     ]
    }
   ],
   "source": [
    "columns_and_labels = [\n",
    "    ('tmw_positive_percent_increase_binary', 'Positive'), ('tmw_1_0_percent_increase_binary', '1.0%'), ('tmw_1_25_percent_increase_binary', '1.25%'), ('tmw_1_5_percent_increase_binary', '1.5%'), ('tmw_1_75_percent_increase_binary', '1.75%'), ('tmw_2_0_percent_increase_binary', '2.0%'), ('tmw_2_25_percent_increase_binary', '2.25%'), ('tmw_2_75_percent_increase_binary', '2.75%'), ('tmw_3_0_percent_increase_binary', '3.0%')\n",
    "]\n",
    "short_names, proportions = [], []\n",
    "for col_name, label in columns_and_labels:\n",
    "    value_counts = eth_ohlc[col_name][1000:].value_counts(normalize=True)\n",
    "    proportions.append(value_counts.get(1, 0))\n",
    "    short_names.append(label)\n",
    "\n",
    "for name, prop in zip(short_names, proportions):\n",
    "    print(f'{name}: {prop}')"
   ]
  },
  {
   "cell_type": "markdown",
   "metadata": {},
   "source": [
    "**Comparing the precision scores from the graph above with these naive baseline 'models' (just buying ethereum every day), we can see that the random forest model significantly outperforms the naive strategy by about 10%-20%, when a specifc return percentage is used as response variable. However, the model that predicts just a positive return is no better than the naive baseline model.**"
   ]
  },
  {
   "cell_type": "markdown",
   "metadata": {},
   "source": [
    "### Adjust the precision scores so that any percent return over 0 is the target"
   ]
  },
  {
   "cell_type": "code",
   "execution_count": 47,
   "metadata": {},
   "outputs": [],
   "source": [
    "for df in list_of_dfs:\n",
    "    df['tmw_percent_increase_binary'] = (df['tmw_percent_increase'] > 0).astype(int)"
   ]
  },
  {
   "cell_type": "code",
   "execution_count": 48,
   "metadata": {},
   "outputs": [
    {
     "data": {
      "application/vnd.plotly.v1+json": {
       "config": {
        "plotlyServerURL": "https://plot.ly"
       },
       "data": [
        {
         "hoverinfo": "text",
         "mode": "lines+markers",
         "name": "1.0% Return Tomorrow",
         "text": [
          "1.0% Return Tomorrow<br>Threshold: 50.0<br>PPV: 0.6637<br>0: 1379<br>1: 678",
          "1.0% Return Tomorrow<br>Threshold: 50.25<br>PPV: 0.6652<br>0: 1391<br>1: 666",
          "1.0% Return Tomorrow<br>Threshold: 50.5<br>PPV: 0.6698<br>0: 1409<br>1: 648",
          "1.0% Return Tomorrow<br>Threshold: 50.75<br>PPV: 0.6731<br>0: 1433<br>1: 624",
          "1.0% Return Tomorrow<br>Threshold: 51.0<br>PPV: 0.6805<br>0: 1456<br>1: 601",
          "1.0% Return Tomorrow<br>Threshold: 51.25<br>PPV: 0.6804<br>0: 1475<br>1: 582",
          "1.0% Return Tomorrow<br>Threshold: 51.5<br>PPV: 0.6886<br>0: 1495<br>1: 562",
          "1.0% Return Tomorrow<br>Threshold: 51.75<br>PPV: 0.6888<br>0: 1514<br>1: 543",
          "1.0% Return Tomorrow<br>Threshold: 52.0<br>PPV: 0.6889<br>0: 1533<br>1: 524",
          "1.0% Return Tomorrow<br>Threshold: 52.25<br>PPV: 0.6899<br>0: 1554<br>1: 503",
          "1.0% Return Tomorrow<br>Threshold: 52.5<br>PPV: 0.6912<br>0: 1581<br>1: 476",
          "1.0% Return Tomorrow<br>Threshold: 52.75<br>PPV: 0.6841<br>0: 1598<br>1: 459",
          "1.0% Return Tomorrow<br>Threshold: 53.0<br>PPV: 0.6817<br>0: 1614<br>1: 443",
          "1.0% Return Tomorrow<br>Threshold: 53.25<br>PPV: 0.6863<br>0: 1633<br>1: 424",
          "1.0% Return Tomorrow<br>Threshold: 53.5<br>PPV: 0.6817<br>0: 1658<br>1: 399",
          "1.0% Return Tomorrow<br>Threshold: 53.75<br>PPV: 0.6931<br>0: 1679<br>1: 378",
          "1.0% Return Tomorrow<br>Threshold: 54.0<br>PPV: 0.7067<br>0: 1699<br>1: 358",
          "1.0% Return Tomorrow<br>Threshold: 54.25<br>PPV: 0.7159<br>0: 1712<br>1: 345",
          "1.0% Return Tomorrow<br>Threshold: 54.5<br>PPV: 0.7139<br>0: 1718<br>1: 339",
          "1.0% Return Tomorrow<br>Threshold: 54.75<br>PPV: 0.6997<br>0: 1734<br>1: 323",
          "1.0% Return Tomorrow<br>Threshold: 55.0<br>PPV: 0.7039<br>0: 1753<br>1: 304",
          "1.0% Return Tomorrow<br>Threshold: 55.25<br>PPV: 0.7021<br>0: 1765<br>1: 292",
          "1.0% Return Tomorrow<br>Threshold: 55.5<br>PPV: 0.6978<br>0: 1779<br>1: 278",
          "1.0% Return Tomorrow<br>Threshold: 55.75<br>PPV: 0.6978<br>0: 1789<br>1: 268",
          "1.0% Return Tomorrow<br>Threshold: 56.0<br>PPV: 0.6926<br>0: 1800<br>1: 257",
          "1.0% Return Tomorrow<br>Threshold: 56.25<br>PPV: 0.6892<br>0: 1806<br>1: 251",
          "1.0% Return Tomorrow<br>Threshold: 56.5<br>PPV: 0.6864<br>0: 1821<br>1: 236",
          "1.0% Return Tomorrow<br>Threshold: 56.75<br>PPV: 0.6833<br>0: 1836<br>1: 221",
          "1.0% Return Tomorrow<br>Threshold: 57.0<br>PPV: 0.6869<br>0: 1843<br>1: 214",
          "1.0% Return Tomorrow<br>Threshold: 57.25<br>PPV: 0.6816<br>0: 1856<br>1: 201",
          "1.0% Return Tomorrow<br>Threshold: 57.5<br>PPV: 0.6804<br>0: 1863<br>1: 194",
          "1.0% Return Tomorrow<br>Threshold: 57.75<br>PPV: 0.6845<br>0: 1870<br>1: 187",
          "1.0% Return Tomorrow<br>Threshold: 58.0<br>PPV: 0.6802<br>0: 1885<br>1: 172",
          "1.0% Return Tomorrow<br>Threshold: 58.25<br>PPV: 0.6890<br>0: 1893<br>1: 164",
          "1.0% Return Tomorrow<br>Threshold: 58.5<br>PPV: 0.7000<br>0: 1897<br>1: 160",
          "1.0% Return Tomorrow<br>Threshold: 58.75<br>PPV: 0.7152<br>0: 1906<br>1: 151",
          "1.0% Return Tomorrow<br>Threshold: 59.0<br>PPV: 0.7394<br>0: 1915<br>1: 142",
          "1.0% Return Tomorrow<br>Threshold: 59.25<br>PPV: 0.7279<br>0: 1921<br>1: 136",
          "1.0% Return Tomorrow<br>Threshold: 59.5<br>PPV: 0.7176<br>0: 1926<br>1: 131",
          "1.0% Return Tomorrow<br>Threshold: 59.75<br>PPV: 0.7339<br>0: 1933<br>1: 124",
          "1.0% Return Tomorrow<br>Threshold: 60.0<br>PPV: 0.7586<br>0: 1941<br>1: 116",
          "1.0% Return Tomorrow<br>Threshold: 60.25<br>PPV: 0.7636<br>0: 1947<br>1: 110"
         ],
         "type": "scatter",
         "x": [
          50,
          50.25,
          50.5,
          50.75,
          51,
          51.25,
          51.5,
          51.75,
          52,
          52.25,
          52.5,
          52.75,
          53,
          53.25,
          53.5,
          53.75,
          54,
          54.25,
          54.5,
          54.75,
          55,
          55.25,
          55.5,
          55.75,
          56,
          56.25,
          56.5,
          56.75,
          57,
          57.25,
          57.5,
          57.75,
          58,
          58.25,
          58.5,
          58.75,
          59,
          59.25,
          59.5,
          59.75,
          60,
          60.25
         ],
         "y": [
          0.6637168141592921,
          0.6651651651651652,
          0.6697530864197531,
          0.6730769230769231,
          0.6805324459234608,
          0.6804123711340206,
          0.6886120996441281,
          0.6887661141804788,
          0.6889312977099237,
          0.6898608349900597,
          0.6911764705882353,
          0.6840958605664488,
          0.6817155756207675,
          0.6863207547169812,
          0.681704260651629,
          0.6931216931216931,
          0.7067039106145251,
          0.7159420289855073,
          0.7138643067846607,
          0.6996904024767802,
          0.7039473684210527,
          0.702054794520548,
          0.697841726618705,
          0.6977611940298507,
          0.6926070038910506,
          0.6892430278884463,
          0.6864406779661016,
          0.6832579185520362,
          0.6869158878504673,
          0.681592039800995,
          0.6804123711340206,
          0.6844919786096256,
          0.6802325581395349,
          0.6890243902439024,
          0.7,
          0.7152317880794702,
          0.7394366197183099,
          0.7279411764705882,
          0.7175572519083969,
          0.7338709677419355,
          0.7586206896551724,
          0.7636363636363637
         ]
        },
        {
         "hoverinfo": "text",
         "mode": "lines+markers",
         "name": "1.25% Return Tomorrow",
         "text": [
          "1.25% Return Tomorrow<br>Threshold: 50.0<br>PPV: 0.6760<br>0: 1594<br>1: 463",
          "1.25% Return Tomorrow<br>Threshold: 50.25<br>PPV: 0.6837<br>0: 1608<br>1: 449",
          "1.25% Return Tomorrow<br>Threshold: 50.5<br>PPV: 0.6825<br>0: 1616<br>1: 441",
          "1.25% Return Tomorrow<br>Threshold: 50.75<br>PPV: 0.6862<br>0: 1630<br>1: 427",
          "1.25% Return Tomorrow<br>Threshold: 51.0<br>PPV: 0.6863<br>0: 1649<br>1: 408",
          "1.25% Return Tomorrow<br>Threshold: 51.25<br>PPV: 0.6886<br>0: 1662<br>1: 395",
          "1.25% Return Tomorrow<br>Threshold: 51.5<br>PPV: 0.6824<br>0: 1676<br>1: 381",
          "1.25% Return Tomorrow<br>Threshold: 51.75<br>PPV: 0.6812<br>0: 1690<br>1: 367",
          "1.25% Return Tomorrow<br>Threshold: 52.0<br>PPV: 0.6845<br>0: 1702<br>1: 355",
          "1.25% Return Tomorrow<br>Threshold: 52.25<br>PPV: 0.6794<br>0: 1717<br>1: 340",
          "1.25% Return Tomorrow<br>Threshold: 52.5<br>PPV: 0.6806<br>0: 1722<br>1: 335",
          "1.25% Return Tomorrow<br>Threshold: 52.75<br>PPV: 0.6845<br>0: 1740<br>1: 317",
          "1.25% Return Tomorrow<br>Threshold: 53.0<br>PPV: 0.6854<br>0: 1755<br>1: 302",
          "1.25% Return Tomorrow<br>Threshold: 53.25<br>PPV: 0.6944<br>0: 1769<br>1: 288",
          "1.25% Return Tomorrow<br>Threshold: 53.5<br>PPV: 0.7050<br>0: 1779<br>1: 278",
          "1.25% Return Tomorrow<br>Threshold: 53.75<br>PPV: 0.6985<br>0: 1795<br>1: 262",
          "1.25% Return Tomorrow<br>Threshold: 54.0<br>PPV: 0.6911<br>0: 1811<br>1: 246",
          "1.25% Return Tomorrow<br>Threshold: 54.25<br>PPV: 0.6923<br>0: 1823<br>1: 234",
          "1.25% Return Tomorrow<br>Threshold: 54.5<br>PPV: 0.6916<br>0: 1830<br>1: 227",
          "1.25% Return Tomorrow<br>Threshold: 54.75<br>PPV: 0.6968<br>0: 1836<br>1: 221",
          "1.25% Return Tomorrow<br>Threshold: 55.0<br>PPV: 0.7042<br>0: 1844<br>1: 213",
          "1.25% Return Tomorrow<br>Threshold: 55.25<br>PPV: 0.7015<br>0: 1856<br>1: 201",
          "1.25% Return Tomorrow<br>Threshold: 55.5<br>PPV: 0.7026<br>0: 1862<br>1: 195",
          "1.25% Return Tomorrow<br>Threshold: 55.75<br>PPV: 0.7068<br>0: 1866<br>1: 191",
          "1.25% Return Tomorrow<br>Threshold: 56.0<br>PPV: 0.6995<br>0: 1874<br>1: 183",
          "1.25% Return Tomorrow<br>Threshold: 56.25<br>PPV: 0.6949<br>0: 1880<br>1: 177",
          "1.25% Return Tomorrow<br>Threshold: 56.5<br>PPV: 0.6867<br>0: 1891<br>1: 166",
          "1.25% Return Tomorrow<br>Threshold: 56.75<br>PPV: 0.6813<br>0: 1897<br>1: 160",
          "1.25% Return Tomorrow<br>Threshold: 57.0<br>PPV: 0.7000<br>0: 1907<br>1: 150",
          "1.25% Return Tomorrow<br>Threshold: 57.25<br>PPV: 0.7083<br>0: 1913<br>1: 144",
          "1.25% Return Tomorrow<br>Threshold: 57.5<br>PPV: 0.7132<br>0: 1921<br>1: 136",
          "1.25% Return Tomorrow<br>Threshold: 57.75<br>PPV: 0.7266<br>0: 1929<br>1: 128",
          "1.25% Return Tomorrow<br>Threshold: 58.0<br>PPV: 0.7355<br>0: 1936<br>1: 121",
          "1.25% Return Tomorrow<br>Threshold: 58.25<br>PPV: 0.7297<br>0: 1946<br>1: 111",
          "1.25% Return Tomorrow<br>Threshold: 58.5<br>PPV: 0.7476<br>0: 1954<br>1: 103"
         ],
         "type": "scatter",
         "x": [
          50,
          50.25,
          50.5,
          50.75,
          51,
          51.25,
          51.5,
          51.75,
          52,
          52.25,
          52.5,
          52.75,
          53,
          53.25,
          53.5,
          53.75,
          54,
          54.25,
          54.5,
          54.75,
          55,
          55.25,
          55.5,
          55.75,
          56,
          56.25,
          56.5,
          56.75,
          57,
          57.25,
          57.5,
          57.75,
          58,
          58.25,
          58.5
         ],
         "y": [
          0.6760259179265659,
          0.6837416481069042,
          0.6825396825396826,
          0.6861826697892272,
          0.6862745098039216,
          0.6886075949367089,
          0.6824146981627297,
          0.6811989100817438,
          0.6845070422535211,
          0.6794117647058824,
          0.6805970149253732,
          0.6845425867507886,
          0.6854304635761589,
          0.6944444444444444,
          0.7050359712230215,
          0.6984732824427481,
          0.6910569105691057,
          0.6923076923076923,
          0.6916299559471366,
          0.6968325791855203,
          0.704225352112676,
          0.7014925373134329,
          0.7025641025641025,
          0.7068062827225131,
          0.6994535519125683,
          0.6949152542372882,
          0.6867469879518072,
          0.68125,
          0.7,
          0.7083333333333334,
          0.7132352941176471,
          0.7265625,
          0.7355371900826446,
          0.7297297297297297,
          0.7475728155339806
         ]
        },
        {
         "hoverinfo": "text",
         "mode": "lines+markers",
         "name": "1.5% Return Tomorrow",
         "text": [
          "1.5% Return Tomorrow<br>Threshold: 50.0<br>PPV: 0.6804<br>0: 1766<br>1: 291",
          "1.5% Return Tomorrow<br>Threshold: 50.25<br>PPV: 0.6810<br>0: 1778<br>1: 279",
          "1.5% Return Tomorrow<br>Threshold: 50.5<br>PPV: 0.6863<br>0: 1786<br>1: 271",
          "1.5% Return Tomorrow<br>Threshold: 50.75<br>PPV: 0.6906<br>0: 1792<br>1: 265",
          "1.5% Return Tomorrow<br>Threshold: 51.0<br>PPV: 0.6873<br>0: 1798<br>1: 259",
          "1.5% Return Tomorrow<br>Threshold: 51.25<br>PPV: 0.6935<br>0: 1809<br>1: 248",
          "1.5% Return Tomorrow<br>Threshold: 51.5<br>PPV: 0.6920<br>0: 1820<br>1: 237",
          "1.5% Return Tomorrow<br>Threshold: 51.75<br>PPV: 0.7035<br>0: 1831<br>1: 226",
          "1.5% Return Tomorrow<br>Threshold: 52.0<br>PPV: 0.7023<br>0: 1842<br>1: 215",
          "1.5% Return Tomorrow<br>Threshold: 52.25<br>PPV: 0.7044<br>0: 1854<br>1: 203",
          "1.5% Return Tomorrow<br>Threshold: 52.5<br>PPV: 0.6970<br>0: 1859<br>1: 198",
          "1.5% Return Tomorrow<br>Threshold: 52.75<br>PPV: 0.6995<br>0: 1864<br>1: 193",
          "1.5% Return Tomorrow<br>Threshold: 53.0<br>PPV: 0.7049<br>0: 1874<br>1: 183",
          "1.5% Return Tomorrow<br>Threshold: 53.25<br>PPV: 0.7126<br>0: 1883<br>1: 174",
          "1.5% Return Tomorrow<br>Threshold: 53.5<br>PPV: 0.7229<br>0: 1891<br>1: 166",
          "1.5% Return Tomorrow<br>Threshold: 53.75<br>PPV: 0.7089<br>0: 1899<br>1: 158",
          "1.5% Return Tomorrow<br>Threshold: 54.0<br>PPV: 0.7200<br>0: 1907<br>1: 150",
          "1.5% Return Tomorrow<br>Threshold: 54.25<br>PPV: 0.7273<br>0: 1914<br>1: 143",
          "1.5% Return Tomorrow<br>Threshold: 54.5<br>PPV: 0.7194<br>0: 1918<br>1: 139",
          "1.5% Return Tomorrow<br>Threshold: 54.75<br>PPV: 0.7424<br>0: 1925<br>1: 132",
          "1.5% Return Tomorrow<br>Threshold: 55.0<br>PPV: 0.7377<br>0: 1935<br>1: 122",
          "1.5% Return Tomorrow<br>Threshold: 55.25<br>PPV: 0.7373<br>0: 1939<br>1: 118",
          "1.5% Return Tomorrow<br>Threshold: 55.5<br>PPV: 0.7345<br>0: 1944<br>1: 113",
          "1.5% Return Tomorrow<br>Threshold: 55.75<br>PPV: 0.7339<br>0: 1948<br>1: 109",
          "1.5% Return Tomorrow<br>Threshold: 56.0<br>PPV: 0.7476<br>0: 1954<br>1: 103",
          "1.5% Return Tomorrow<br>Threshold: 56.25<br>PPV: 0.7525<br>0: 1956<br>1: 101"
         ],
         "type": "scatter",
         "x": [
          50,
          50.25,
          50.5,
          50.75,
          51,
          51.25,
          51.5,
          51.75,
          52,
          52.25,
          52.5,
          52.75,
          53,
          53.25,
          53.5,
          53.75,
          54,
          54.25,
          54.5,
          54.75,
          55,
          55.25,
          55.5,
          55.75,
          56,
          56.25
         ],
         "y": [
          0.6804123711340206,
          0.6810035842293907,
          0.6863468634686347,
          0.690566037735849,
          0.6872586872586872,
          0.6935483870967742,
          0.6919831223628692,
          0.7035398230088495,
          0.7023255813953488,
          0.7044334975369458,
          0.696969696969697,
          0.6994818652849741,
          0.7049180327868853,
          0.7126436781609196,
          0.7228915662650602,
          0.7088607594936709,
          0.72,
          0.7272727272727273,
          0.7194244604316546,
          0.7424242424242424,
          0.7377049180327869,
          0.7372881355932204,
          0.7345132743362832,
          0.7339449541284404,
          0.7475728155339806,
          0.7524752475247525
         ]
        },
        {
         "hoverinfo": "text",
         "mode": "lines+markers",
         "name": "1.75% Return Tomorrow",
         "text": [
          "1.75% Return Tomorrow<br>Threshold: 50.0<br>PPV: 0.6816<br>0: 1834<br>1: 223",
          "1.75% Return Tomorrow<br>Threshold: 50.25<br>PPV: 0.6872<br>0: 1846<br>1: 211",
          "1.75% Return Tomorrow<br>Threshold: 50.5<br>PPV: 0.6961<br>0: 1853<br>1: 204",
          "1.75% Return Tomorrow<br>Threshold: 50.75<br>PPV: 0.6939<br>0: 1861<br>1: 196",
          "1.75% Return Tomorrow<br>Threshold: 51.0<br>PPV: 0.6872<br>0: 1878<br>1: 179",
          "1.75% Return Tomorrow<br>Threshold: 51.25<br>PPV: 0.6919<br>0: 1885<br>1: 172",
          "1.75% Return Tomorrow<br>Threshold: 51.5<br>PPV: 0.6988<br>0: 1891<br>1: 166",
          "1.75% Return Tomorrow<br>Threshold: 51.75<br>PPV: 0.7019<br>0: 1896<br>1: 161",
          "1.75% Return Tomorrow<br>Threshold: 52.0<br>PPV: 0.6887<br>0: 1906<br>1: 151",
          "1.75% Return Tomorrow<br>Threshold: 52.25<br>PPV: 0.7021<br>0: 1916<br>1: 141",
          "1.75% Return Tomorrow<br>Threshold: 52.5<br>PPV: 0.6992<br>0: 1924<br>1: 133",
          "1.75% Return Tomorrow<br>Threshold: 52.75<br>PPV: 0.7154<br>0: 1934<br>1: 123",
          "1.75% Return Tomorrow<br>Threshold: 53.0<br>PPV: 0.7179<br>0: 1940<br>1: 117",
          "1.75% Return Tomorrow<br>Threshold: 53.25<br>PPV: 0.7321<br>0: 1945<br>1: 112",
          "1.75% Return Tomorrow<br>Threshold: 53.5<br>PPV: 0.7383<br>0: 1950<br>1: 107",
          "1.75% Return Tomorrow<br>Threshold: 53.75<br>PPV: 0.7476<br>0: 1954<br>1: 103"
         ],
         "type": "scatter",
         "x": [
          50,
          50.25,
          50.5,
          50.75,
          51,
          51.25,
          51.5,
          51.75,
          52,
          52.25,
          52.5,
          52.75,
          53,
          53.25,
          53.5,
          53.75
         ],
         "y": [
          0.6816143497757847,
          0.6872037914691943,
          0.696078431372549,
          0.6938775510204082,
          0.6871508379888268,
          0.6918604651162791,
          0.6987951807228916,
          0.7018633540372671,
          0.6887417218543046,
          0.7021276595744681,
          0.6992481203007519,
          0.7154471544715447,
          0.717948717948718,
          0.7321428571428571,
          0.7383177570093458,
          0.7475728155339806
         ]
        },
        {
         "hoverinfo": "text",
         "mode": "lines+markers",
         "name": "2.0% Return Tomorrow",
         "text": [
          "2.0% Return Tomorrow<br>Threshold: 50.0<br>PPV: 0.7234<br>0: 1916<br>1: 141",
          "2.0% Return Tomorrow<br>Threshold: 50.25<br>PPV: 0.7319<br>0: 1919<br>1: 138",
          "2.0% Return Tomorrow<br>Threshold: 50.5<br>PPV: 0.7444<br>0: 1924<br>1: 133",
          "2.0% Return Tomorrow<br>Threshold: 50.75<br>PPV: 0.7440<br>0: 1932<br>1: 125",
          "2.0% Return Tomorrow<br>Threshold: 51.0<br>PPV: 0.7542<br>0: 1939<br>1: 118",
          "2.0% Return Tomorrow<br>Threshold: 51.25<br>PPV: 0.7411<br>0: 1945<br>1: 112",
          "2.0% Return Tomorrow<br>Threshold: 51.5<br>PPV: 0.7476<br>0: 1954<br>1: 103",
          "2.0% Return Tomorrow<br>Threshold: 51.75<br>PPV: 0.7426<br>0: 1956<br>1: 101"
         ],
         "type": "scatter",
         "x": [
          50,
          50.25,
          50.5,
          50.75,
          51,
          51.25,
          51.5,
          51.75
         ],
         "y": [
          0.723404255319149,
          0.7318840579710145,
          0.7443609022556391,
          0.744,
          0.7542372881355932,
          0.7410714285714286,
          0.7475728155339806,
          0.7425742574257426
         ]
        },
        {
         "hoverinfo": "text",
         "mode": "lines+markers",
         "name": "2.25% Return Tomorrow",
         "text": [
          "2.25% Return Tomorrow<br>Threshold: 50.0<br>PPV: 0.7129<br>0: 1956<br>1: 101"
         ],
         "type": "scatter",
         "x": [
          50
         ],
         "y": [
          0.7128712871287128
         ]
        },
        {
         "hoverinfo": "text",
         "mode": "lines+markers",
         "name": "Positive% Return Tomorrow",
         "text": [
          "positive% Return Tomorrow<br>Threshold: 50.0<br>PPV: 0.6551<br>0: 10<br>1: 2047",
          "positive% Return Tomorrow<br>Threshold: 50.25<br>PPV: 0.6553<br>0: 12<br>1: 2045",
          "positive% Return Tomorrow<br>Threshold: 50.5<br>PPV: 0.6556<br>0: 13<br>1: 2044",
          "positive% Return Tomorrow<br>Threshold: 50.75<br>PPV: 0.6556<br>0: 13<br>1: 2044",
          "positive% Return Tomorrow<br>Threshold: 51.0<br>PPV: 0.6554<br>0: 14<br>1: 2043",
          "positive% Return Tomorrow<br>Threshold: 51.25<br>PPV: 0.6552<br>0: 15<br>1: 2042",
          "positive% Return Tomorrow<br>Threshold: 51.5<br>PPV: 0.6554<br>0: 17<br>1: 2040",
          "positive% Return Tomorrow<br>Threshold: 51.75<br>PPV: 0.6552<br>0: 18<br>1: 2039",
          "positive% Return Tomorrow<br>Threshold: 52.0<br>PPV: 0.6555<br>0: 19<br>1: 2038",
          "positive% Return Tomorrow<br>Threshold: 52.25<br>PPV: 0.6555<br>0: 19<br>1: 2038",
          "positive% Return Tomorrow<br>Threshold: 52.5<br>PPV: 0.6552<br>0: 21<br>1: 2036",
          "positive% Return Tomorrow<br>Threshold: 52.75<br>PPV: 0.6554<br>0: 23<br>1: 2034",
          "positive% Return Tomorrow<br>Threshold: 53.0<br>PPV: 0.6552<br>0: 27<br>1: 2030",
          "positive% Return Tomorrow<br>Threshold: 53.25<br>PPV: 0.6552<br>0: 30<br>1: 2027",
          "positive% Return Tomorrow<br>Threshold: 53.5<br>PPV: 0.6550<br>0: 31<br>1: 2026",
          "positive% Return Tomorrow<br>Threshold: 53.75<br>PPV: 0.6550<br>0: 37<br>1: 2020",
          "positive% Return Tomorrow<br>Threshold: 54.0<br>PPV: 0.6562<br>0: 44<br>1: 2013",
          "positive% Return Tomorrow<br>Threshold: 54.25<br>PPV: 0.6561<br>0: 45<br>1: 2012",
          "positive% Return Tomorrow<br>Threshold: 54.5<br>PPV: 0.6564<br>0: 49<br>1: 2008",
          "positive% Return Tomorrow<br>Threshold: 54.75<br>PPV: 0.6552<br>0: 56<br>1: 2001",
          "positive% Return Tomorrow<br>Threshold: 55.0<br>PPV: 0.6551<br>0: 62<br>1: 1995",
          "positive% Return Tomorrow<br>Threshold: 55.25<br>PPV: 0.6561<br>0: 68<br>1: 1989",
          "positive% Return Tomorrow<br>Threshold: 55.5<br>PPV: 0.6559<br>0: 75<br>1: 1982",
          "positive% Return Tomorrow<br>Threshold: 55.75<br>PPV: 0.6565<br>0: 83<br>1: 1974",
          "positive% Return Tomorrow<br>Threshold: 56.0<br>PPV: 0.6570<br>0: 89<br>1: 1968",
          "positive% Return Tomorrow<br>Threshold: 56.25<br>PPV: 0.6582<br>0: 100<br>1: 1957",
          "positive% Return Tomorrow<br>Threshold: 56.5<br>PPV: 0.6585<br>0: 107<br>1: 1950",
          "positive% Return Tomorrow<br>Threshold: 56.75<br>PPV: 0.6601<br>0: 124<br>1: 1933",
          "positive% Return Tomorrow<br>Threshold: 57.0<br>PPV: 0.6608<br>0: 138<br>1: 1919",
          "positive% Return Tomorrow<br>Threshold: 57.25<br>PPV: 0.6614<br>0: 155<br>1: 1902",
          "positive% Return Tomorrow<br>Threshold: 57.5<br>PPV: 0.6605<br>0: 169<br>1: 1888",
          "positive% Return Tomorrow<br>Threshold: 57.75<br>PPV: 0.6606<br>0: 183<br>1: 1874",
          "positive% Return Tomorrow<br>Threshold: 58.0<br>PPV: 0.6600<br>0: 195<br>1: 1862",
          "positive% Return Tomorrow<br>Threshold: 58.25<br>PPV: 0.6583<br>0: 216<br>1: 1841",
          "positive% Return Tomorrow<br>Threshold: 58.5<br>PPV: 0.6606<br>0: 236<br>1: 1821",
          "positive% Return Tomorrow<br>Threshold: 58.75<br>PPV: 0.6606<br>0: 254<br>1: 1803",
          "positive% Return Tomorrow<br>Threshold: 59.0<br>PPV: 0.6586<br>0: 276<br>1: 1781",
          "positive% Return Tomorrow<br>Threshold: 59.25<br>PPV: 0.6598<br>0: 308<br>1: 1749",
          "positive% Return Tomorrow<br>Threshold: 59.5<br>PPV: 0.6599<br>0: 328<br>1: 1729",
          "positive% Return Tomorrow<br>Threshold: 59.75<br>PPV: 0.6606<br>0: 348<br>1: 1709",
          "positive% Return Tomorrow<br>Threshold: 60.0<br>PPV: 0.6623<br>0: 372<br>1: 1685",
          "positive% Return Tomorrow<br>Threshold: 60.25<br>PPV: 0.6628<br>0: 399<br>1: 1658",
          "positive% Return Tomorrow<br>Threshold: 60.5<br>PPV: 0.6601<br>0: 436<br>1: 1621",
          "positive% Return Tomorrow<br>Threshold: 60.75<br>PPV: 0.6614<br>0: 474<br>1: 1583",
          "positive% Return Tomorrow<br>Threshold: 61.0<br>PPV: 0.6652<br>0: 507<br>1: 1550",
          "positive% Return Tomorrow<br>Threshold: 61.25<br>PPV: 0.6671<br>0: 543<br>1: 1514",
          "positive% Return Tomorrow<br>Threshold: 61.5<br>PPV: 0.6660<br>0: 584<br>1: 1473",
          "positive% Return Tomorrow<br>Threshold: 61.75<br>PPV: 0.6657<br>0: 630<br>1: 1427",
          "positive% Return Tomorrow<br>Threshold: 62.0<br>PPV: 0.6631<br>0: 674<br>1: 1383",
          "positive% Return Tomorrow<br>Threshold: 62.25<br>PPV: 0.6634<br>0: 714<br>1: 1343",
          "positive% Return Tomorrow<br>Threshold: 62.5<br>PPV: 0.6631<br>0: 757<br>1: 1300",
          "positive% Return Tomorrow<br>Threshold: 62.75<br>PPV: 0.6629<br>0: 808<br>1: 1249",
          "positive% Return Tomorrow<br>Threshold: 63.0<br>PPV: 0.6625<br>0: 857<br>1: 1200",
          "positive% Return Tomorrow<br>Threshold: 63.25<br>PPV: 0.6623<br>0: 902<br>1: 1155",
          "positive% Return Tomorrow<br>Threshold: 63.5<br>PPV: 0.6634<br>0: 949<br>1: 1108",
          "positive% Return Tomorrow<br>Threshold: 63.75<br>PPV: 0.6626<br>0: 996<br>1: 1061",
          "positive% Return Tomorrow<br>Threshold: 64.0<br>PPV: 0.6577<br>0: 1058<br>1: 999",
          "positive% Return Tomorrow<br>Threshold: 64.25<br>PPV: 0.6552<br>0: 1097<br>1: 960",
          "positive% Return Tomorrow<br>Threshold: 64.5<br>PPV: 0.6527<br>0: 1147<br>1: 910",
          "positive% Return Tomorrow<br>Threshold: 64.75<br>PPV: 0.6553<br>0: 1181<br>1: 876",
          "positive% Return Tomorrow<br>Threshold: 65.0<br>PPV: 0.6582<br>0: 1232<br>1: 825",
          "positive% Return Tomorrow<br>Threshold: 65.25<br>PPV: 0.6565<br>0: 1268<br>1: 789",
          "positive% Return Tomorrow<br>Threshold: 65.5<br>PPV: 0.6586<br>0: 1313<br>1: 744",
          "positive% Return Tomorrow<br>Threshold: 65.75<br>PPV: 0.6580<br>0: 1364<br>1: 693",
          "positive% Return Tomorrow<br>Threshold: 66.0<br>PPV: 0.6697<br>0: 1403<br>1: 654",
          "positive% Return Tomorrow<br>Threshold: 66.25<br>PPV: 0.6802<br>0: 1441<br>1: 616",
          "positive% Return Tomorrow<br>Threshold: 66.5<br>PPV: 0.6795<br>0: 1486<br>1: 571",
          "positive% Return Tomorrow<br>Threshold: 66.75<br>PPV: 0.6843<br>0: 1528<br>1: 529",
          "positive% Return Tomorrow<br>Threshold: 67.0<br>PPV: 0.6781<br>0: 1560<br>1: 497",
          "positive% Return Tomorrow<br>Threshold: 67.25<br>PPV: 0.6825<br>0: 1594<br>1: 463",
          "positive% Return Tomorrow<br>Threshold: 67.5<br>PPV: 0.6714<br>0: 1637<br>1: 420",
          "positive% Return Tomorrow<br>Threshold: 67.75<br>PPV: 0.6735<br>0: 1668<br>1: 389",
          "positive% Return Tomorrow<br>Threshold: 68.0<br>PPV: 0.6732<br>0: 1702<br>1: 355",
          "positive% Return Tomorrow<br>Threshold: 68.25<br>PPV: 0.6737<br>0: 1726<br>1: 331",
          "positive% Return Tomorrow<br>Threshold: 68.5<br>PPV: 0.6645<br>0: 1747<br>1: 310",
          "positive% Return Tomorrow<br>Threshold: 68.75<br>PPV: 0.6655<br>0: 1770<br>1: 287",
          "positive% Return Tomorrow<br>Threshold: 69.0<br>PPV: 0.6667<br>0: 1796<br>1: 261",
          "positive% Return Tomorrow<br>Threshold: 69.25<br>PPV: 0.6653<br>0: 1812<br>1: 245",
          "positive% Return Tomorrow<br>Threshold: 69.5<br>PPV: 0.6528<br>0: 1841<br>1: 216",
          "positive% Return Tomorrow<br>Threshold: 69.75<br>PPV: 0.6617<br>0: 1856<br>1: 201",
          "positive% Return Tomorrow<br>Threshold: 70.0<br>PPV: 0.6758<br>0: 1875<br>1: 182"
         ],
         "type": "scatter",
         "x": [
          50,
          50.25,
          50.5,
          50.75,
          51,
          51.25,
          51.5,
          51.75,
          52,
          52.25,
          52.5,
          52.75,
          53,
          53.25,
          53.5,
          53.75,
          54,
          54.25,
          54.5,
          54.75,
          55,
          55.25,
          55.5,
          55.75,
          56,
          56.25,
          56.5,
          56.75,
          57,
          57.25,
          57.5,
          57.75,
          58,
          58.25,
          58.5,
          58.75,
          59,
          59.25,
          59.5,
          59.75,
          60,
          60.25,
          60.5,
          60.75,
          61,
          61.25,
          61.5,
          61.75,
          62,
          62.25,
          62.5,
          62.75,
          63,
          63.25,
          63.5,
          63.75,
          64,
          64.25,
          64.5,
          64.75,
          65,
          65.25,
          65.5,
          65.75,
          66,
          66.25,
          66.5,
          66.75,
          67,
          67.25,
          67.5,
          67.75,
          68,
          68.25,
          68.5,
          68.75,
          69,
          69.25,
          69.5,
          69.75,
          70
         ],
         "y": [
          0.655105031753786,
          0.6552567237163814,
          0.6555772994129159,
          0.6555772994129159,
          0.6554087126774352,
          0.6552399608227228,
          0.6553921568627451,
          0.6552231486022561,
          0.6555446516192346,
          0.6555446516192346,
          0.6552062868369352,
          0.6553588987217306,
          0.6551724137931034,
          0.6551554020720276,
          0.6549851924975321,
          0.654950495049505,
          0.6562344759066071,
          0.6560636182902585,
          0.6563745019920318,
          0.6551724137931034,
          0.6551378446115288,
          0.6561085972850679,
          0.6559031281533805,
          0.6565349544072948,
          0.6570121951219512,
          0.6581502299437915,
          0.6584615384615384,
          0.6601138127263321,
          0.6607608129233976,
          0.6614090431125131,
          0.6604872881355932,
          0.6606189967982924,
          0.6600429645542427,
          0.6583378598587724,
          0.6606260296540363,
          0.6605657237936772,
          0.6586187535092645,
          0.6598056032018296,
          0.659919028340081,
          0.660620245757753,
          0.6623145400593472,
          0.6628468033775633,
          0.6600863664404688,
          0.6614024005053696,
          0.6651612903225806,
          0.667107001321004,
          0.6659877800407332,
          0.6657323055360898,
          0.6630513376717281,
          0.663440059568131,
          0.6630769230769231,
          0.6629303442754203,
          0.6625,
          0.6623376623376623,
          0.6633574007220217,
          0.6625824693685203,
          0.6576576576576577,
          0.6552083333333333,
          0.6527472527472528,
          0.6552511415525114,
          0.6581818181818182,
          0.6565272496831432,
          0.6586021505376344,
          0.658008658008658,
          0.6697247706422018,
          0.6801948051948052,
          0.6795096322241682,
          0.6843100189035917,
          0.6780684104627767,
          0.6825053995680346,
          0.6714285714285714,
          0.6735218508997429,
          0.6732394366197183,
          0.6737160120845922,
          0.6645161290322581,
          0.6655052264808362,
          0.6666666666666666,
          0.6653061224489796,
          0.6527777777777778,
          0.6616915422885572,
          0.6758241758241759
         ]
        }
       ],
       "layout": {
        "hovermode": "closest",
        "legend": {
         "title": {
          "text": "Model With Response Variable"
         }
        },
        "template": {
         "data": {
          "bar": [
           {
            "error_x": {
             "color": "#2a3f5f"
            },
            "error_y": {
             "color": "#2a3f5f"
            },
            "marker": {
             "line": {
              "color": "#E5ECF6",
              "width": 0.5
             },
             "pattern": {
              "fillmode": "overlay",
              "size": 10,
              "solidity": 0.2
             }
            },
            "type": "bar"
           }
          ],
          "barpolar": [
           {
            "marker": {
             "line": {
              "color": "#E5ECF6",
              "width": 0.5
             },
             "pattern": {
              "fillmode": "overlay",
              "size": 10,
              "solidity": 0.2
             }
            },
            "type": "barpolar"
           }
          ],
          "carpet": [
           {
            "aaxis": {
             "endlinecolor": "#2a3f5f",
             "gridcolor": "white",
             "linecolor": "white",
             "minorgridcolor": "white",
             "startlinecolor": "#2a3f5f"
            },
            "baxis": {
             "endlinecolor": "#2a3f5f",
             "gridcolor": "white",
             "linecolor": "white",
             "minorgridcolor": "white",
             "startlinecolor": "#2a3f5f"
            },
            "type": "carpet"
           }
          ],
          "choropleth": [
           {
            "colorbar": {
             "outlinewidth": 0,
             "ticks": ""
            },
            "type": "choropleth"
           }
          ],
          "contour": [
           {
            "colorbar": {
             "outlinewidth": 0,
             "ticks": ""
            },
            "colorscale": [
             [
              0,
              "#0d0887"
             ],
             [
              0.1111111111111111,
              "#46039f"
             ],
             [
              0.2222222222222222,
              "#7201a8"
             ],
             [
              0.3333333333333333,
              "#9c179e"
             ],
             [
              0.4444444444444444,
              "#bd3786"
             ],
             [
              0.5555555555555556,
              "#d8576b"
             ],
             [
              0.6666666666666666,
              "#ed7953"
             ],
             [
              0.7777777777777778,
              "#fb9f3a"
             ],
             [
              0.8888888888888888,
              "#fdca26"
             ],
             [
              1,
              "#f0f921"
             ]
            ],
            "type": "contour"
           }
          ],
          "contourcarpet": [
           {
            "colorbar": {
             "outlinewidth": 0,
             "ticks": ""
            },
            "type": "contourcarpet"
           }
          ],
          "heatmap": [
           {
            "colorbar": {
             "outlinewidth": 0,
             "ticks": ""
            },
            "colorscale": [
             [
              0,
              "#0d0887"
             ],
             [
              0.1111111111111111,
              "#46039f"
             ],
             [
              0.2222222222222222,
              "#7201a8"
             ],
             [
              0.3333333333333333,
              "#9c179e"
             ],
             [
              0.4444444444444444,
              "#bd3786"
             ],
             [
              0.5555555555555556,
              "#d8576b"
             ],
             [
              0.6666666666666666,
              "#ed7953"
             ],
             [
              0.7777777777777778,
              "#fb9f3a"
             ],
             [
              0.8888888888888888,
              "#fdca26"
             ],
             [
              1,
              "#f0f921"
             ]
            ],
            "type": "heatmap"
           }
          ],
          "heatmapgl": [
           {
            "colorbar": {
             "outlinewidth": 0,
             "ticks": ""
            },
            "colorscale": [
             [
              0,
              "#0d0887"
             ],
             [
              0.1111111111111111,
              "#46039f"
             ],
             [
              0.2222222222222222,
              "#7201a8"
             ],
             [
              0.3333333333333333,
              "#9c179e"
             ],
             [
              0.4444444444444444,
              "#bd3786"
             ],
             [
              0.5555555555555556,
              "#d8576b"
             ],
             [
              0.6666666666666666,
              "#ed7953"
             ],
             [
              0.7777777777777778,
              "#fb9f3a"
             ],
             [
              0.8888888888888888,
              "#fdca26"
             ],
             [
              1,
              "#f0f921"
             ]
            ],
            "type": "heatmapgl"
           }
          ],
          "histogram": [
           {
            "marker": {
             "pattern": {
              "fillmode": "overlay",
              "size": 10,
              "solidity": 0.2
             }
            },
            "type": "histogram"
           }
          ],
          "histogram2d": [
           {
            "colorbar": {
             "outlinewidth": 0,
             "ticks": ""
            },
            "colorscale": [
             [
              0,
              "#0d0887"
             ],
             [
              0.1111111111111111,
              "#46039f"
             ],
             [
              0.2222222222222222,
              "#7201a8"
             ],
             [
              0.3333333333333333,
              "#9c179e"
             ],
             [
              0.4444444444444444,
              "#bd3786"
             ],
             [
              0.5555555555555556,
              "#d8576b"
             ],
             [
              0.6666666666666666,
              "#ed7953"
             ],
             [
              0.7777777777777778,
              "#fb9f3a"
             ],
             [
              0.8888888888888888,
              "#fdca26"
             ],
             [
              1,
              "#f0f921"
             ]
            ],
            "type": "histogram2d"
           }
          ],
          "histogram2dcontour": [
           {
            "colorbar": {
             "outlinewidth": 0,
             "ticks": ""
            },
            "colorscale": [
             [
              0,
              "#0d0887"
             ],
             [
              0.1111111111111111,
              "#46039f"
             ],
             [
              0.2222222222222222,
              "#7201a8"
             ],
             [
              0.3333333333333333,
              "#9c179e"
             ],
             [
              0.4444444444444444,
              "#bd3786"
             ],
             [
              0.5555555555555556,
              "#d8576b"
             ],
             [
              0.6666666666666666,
              "#ed7953"
             ],
             [
              0.7777777777777778,
              "#fb9f3a"
             ],
             [
              0.8888888888888888,
              "#fdca26"
             ],
             [
              1,
              "#f0f921"
             ]
            ],
            "type": "histogram2dcontour"
           }
          ],
          "mesh3d": [
           {
            "colorbar": {
             "outlinewidth": 0,
             "ticks": ""
            },
            "type": "mesh3d"
           }
          ],
          "parcoords": [
           {
            "line": {
             "colorbar": {
              "outlinewidth": 0,
              "ticks": ""
             }
            },
            "type": "parcoords"
           }
          ],
          "pie": [
           {
            "automargin": true,
            "type": "pie"
           }
          ],
          "scatter": [
           {
            "fillpattern": {
             "fillmode": "overlay",
             "size": 10,
             "solidity": 0.2
            },
            "type": "scatter"
           }
          ],
          "scatter3d": [
           {
            "line": {
             "colorbar": {
              "outlinewidth": 0,
              "ticks": ""
             }
            },
            "marker": {
             "colorbar": {
              "outlinewidth": 0,
              "ticks": ""
             }
            },
            "type": "scatter3d"
           }
          ],
          "scattercarpet": [
           {
            "marker": {
             "colorbar": {
              "outlinewidth": 0,
              "ticks": ""
             }
            },
            "type": "scattercarpet"
           }
          ],
          "scattergeo": [
           {
            "marker": {
             "colorbar": {
              "outlinewidth": 0,
              "ticks": ""
             }
            },
            "type": "scattergeo"
           }
          ],
          "scattergl": [
           {
            "marker": {
             "colorbar": {
              "outlinewidth": 0,
              "ticks": ""
             }
            },
            "type": "scattergl"
           }
          ],
          "scattermapbox": [
           {
            "marker": {
             "colorbar": {
              "outlinewidth": 0,
              "ticks": ""
             }
            },
            "type": "scattermapbox"
           }
          ],
          "scatterpolar": [
           {
            "marker": {
             "colorbar": {
              "outlinewidth": 0,
              "ticks": ""
             }
            },
            "type": "scatterpolar"
           }
          ],
          "scatterpolargl": [
           {
            "marker": {
             "colorbar": {
              "outlinewidth": 0,
              "ticks": ""
             }
            },
            "type": "scatterpolargl"
           }
          ],
          "scatterternary": [
           {
            "marker": {
             "colorbar": {
              "outlinewidth": 0,
              "ticks": ""
             }
            },
            "type": "scatterternary"
           }
          ],
          "surface": [
           {
            "colorbar": {
             "outlinewidth": 0,
             "ticks": ""
            },
            "colorscale": [
             [
              0,
              "#0d0887"
             ],
             [
              0.1111111111111111,
              "#46039f"
             ],
             [
              0.2222222222222222,
              "#7201a8"
             ],
             [
              0.3333333333333333,
              "#9c179e"
             ],
             [
              0.4444444444444444,
              "#bd3786"
             ],
             [
              0.5555555555555556,
              "#d8576b"
             ],
             [
              0.6666666666666666,
              "#ed7953"
             ],
             [
              0.7777777777777778,
              "#fb9f3a"
             ],
             [
              0.8888888888888888,
              "#fdca26"
             ],
             [
              1,
              "#f0f921"
             ]
            ],
            "type": "surface"
           }
          ],
          "table": [
           {
            "cells": {
             "fill": {
              "color": "#EBF0F8"
             },
             "line": {
              "color": "white"
             }
            },
            "header": {
             "fill": {
              "color": "#C8D4E3"
             },
             "line": {
              "color": "white"
             }
            },
            "type": "table"
           }
          ]
         },
         "layout": {
          "annotationdefaults": {
           "arrowcolor": "#2a3f5f",
           "arrowhead": 0,
           "arrowwidth": 1
          },
          "autotypenumbers": "strict",
          "coloraxis": {
           "colorbar": {
            "outlinewidth": 0,
            "ticks": ""
           }
          },
          "colorscale": {
           "diverging": [
            [
             0,
             "#8e0152"
            ],
            [
             0.1,
             "#c51b7d"
            ],
            [
             0.2,
             "#de77ae"
            ],
            [
             0.3,
             "#f1b6da"
            ],
            [
             0.4,
             "#fde0ef"
            ],
            [
             0.5,
             "#f7f7f7"
            ],
            [
             0.6,
             "#e6f5d0"
            ],
            [
             0.7,
             "#b8e186"
            ],
            [
             0.8,
             "#7fbc41"
            ],
            [
             0.9,
             "#4d9221"
            ],
            [
             1,
             "#276419"
            ]
           ],
           "sequential": [
            [
             0,
             "#0d0887"
            ],
            [
             0.1111111111111111,
             "#46039f"
            ],
            [
             0.2222222222222222,
             "#7201a8"
            ],
            [
             0.3333333333333333,
             "#9c179e"
            ],
            [
             0.4444444444444444,
             "#bd3786"
            ],
            [
             0.5555555555555556,
             "#d8576b"
            ],
            [
             0.6666666666666666,
             "#ed7953"
            ],
            [
             0.7777777777777778,
             "#fb9f3a"
            ],
            [
             0.8888888888888888,
             "#fdca26"
            ],
            [
             1,
             "#f0f921"
            ]
           ],
           "sequentialminus": [
            [
             0,
             "#0d0887"
            ],
            [
             0.1111111111111111,
             "#46039f"
            ],
            [
             0.2222222222222222,
             "#7201a8"
            ],
            [
             0.3333333333333333,
             "#9c179e"
            ],
            [
             0.4444444444444444,
             "#bd3786"
            ],
            [
             0.5555555555555556,
             "#d8576b"
            ],
            [
             0.6666666666666666,
             "#ed7953"
            ],
            [
             0.7777777777777778,
             "#fb9f3a"
            ],
            [
             0.8888888888888888,
             "#fdca26"
            ],
            [
             1,
             "#f0f921"
            ]
           ]
          },
          "colorway": [
           "#636efa",
           "#EF553B",
           "#00cc96",
           "#ab63fa",
           "#FFA15A",
           "#19d3f3",
           "#FF6692",
           "#B6E880",
           "#FF97FF",
           "#FECB52"
          ],
          "font": {
           "color": "#2a3f5f"
          },
          "geo": {
           "bgcolor": "white",
           "lakecolor": "white",
           "landcolor": "#E5ECF6",
           "showlakes": true,
           "showland": true,
           "subunitcolor": "white"
          },
          "hoverlabel": {
           "align": "left"
          },
          "hovermode": "closest",
          "mapbox": {
           "style": "light"
          },
          "paper_bgcolor": "white",
          "plot_bgcolor": "#E5ECF6",
          "polar": {
           "angularaxis": {
            "gridcolor": "white",
            "linecolor": "white",
            "ticks": ""
           },
           "bgcolor": "#E5ECF6",
           "radialaxis": {
            "gridcolor": "white",
            "linecolor": "white",
            "ticks": ""
           }
          },
          "scene": {
           "xaxis": {
            "backgroundcolor": "#E5ECF6",
            "gridcolor": "white",
            "gridwidth": 2,
            "linecolor": "white",
            "showbackground": true,
            "ticks": "",
            "zerolinecolor": "white"
           },
           "yaxis": {
            "backgroundcolor": "#E5ECF6",
            "gridcolor": "white",
            "gridwidth": 2,
            "linecolor": "white",
            "showbackground": true,
            "ticks": "",
            "zerolinecolor": "white"
           },
           "zaxis": {
            "backgroundcolor": "#E5ECF6",
            "gridcolor": "white",
            "gridwidth": 2,
            "linecolor": "white",
            "showbackground": true,
            "ticks": "",
            "zerolinecolor": "white"
           }
          },
          "shapedefaults": {
           "line": {
            "color": "#2a3f5f"
           }
          },
          "ternary": {
           "aaxis": {
            "gridcolor": "white",
            "linecolor": "white",
            "ticks": ""
           },
           "baxis": {
            "gridcolor": "white",
            "linecolor": "white",
            "ticks": ""
           },
           "bgcolor": "#E5ECF6",
           "caxis": {
            "gridcolor": "white",
            "linecolor": "white",
            "ticks": ""
           }
          },
          "title": {
           "x": 0.05
          },
          "xaxis": {
           "automargin": true,
           "gridcolor": "white",
           "linecolor": "white",
           "ticks": "",
           "title": {
            "standoff": 15
           },
           "zerolinecolor": "white",
           "zerolinewidth": 2
          },
          "yaxis": {
           "automargin": true,
           "gridcolor": "white",
           "linecolor": "white",
           "ticks": "",
           "title": {
            "standoff": 15
           },
           "zerolinecolor": "white",
           "zerolinewidth": 2
          }
         }
        },
        "title": {
         "text": "Precision Score of Models Accross Different Threshold Ranges. (Filtered by sum(prediction=1) >= 100)"
        },
        "xaxis": {
         "title": {
          "text": "Probability Threshold (%)"
         }
        },
        "yaxis": {
         "title": {
          "text": "Positive Predictive Value (PPV, Precision)"
         }
        }
       }
      }
     },
     "metadata": {},
     "output_type": "display_data"
    }
   ],
   "source": [
    "plot_ppv_by_threshold(list_of_dfs, True, 100, 50, 70, 0.25)"
   ]
  },
  {
   "cell_type": "markdown",
   "metadata": {},
   "source": [
    "**Compared to the baseline naive 'model' of a positive return occuring 0.6563 of the time, these actual models outperform that. However, the model that predicts a positive% return is not significantly better than the naive baseline model, expect slightly at the higher probability thresholds**"
   ]
  },
  {
   "cell_type": "markdown",
   "metadata": {},
   "source": [
    "\n",
    "\n",
    "## Now let's try several different models and hyperparameter combinations, and find the best one."
   ]
  },
  {
   "cell_type": "markdown",
   "metadata": {},
   "source": [
    "### To reduce computational cost of going through different hyperparamters, probability thresholds, and response variable type we will focus on predicting just 1 predictor variable, 1.0% Return Tomorrow, using a single threshold probability of 0.55. "
   ]
  },
  {
   "cell_type": "code",
   "execution_count": 7,
   "metadata": {},
   "outputs": [],
   "source": [
    "predictors = []\n",
    "periods = [2, 5, 10, 25, 50, 100]\n",
    "percent_increase_counts = ['1_0', '1_25', '1_5', '1_75', '2_0', '2_25', '2_5', '2_75', '3_0']\n",
    "for period in periods:\n",
    "    for indicator in ['ema', 'rsi', 'sma']:\n",
    "        predictors.append(f'{indicator}_{period}')\n",
    "    for percent in percent_increase_counts:\n",
    "        predictors.append(f'last_{period}_day_{percent}_percent_increase_count')\n",
    "months = ['january', 'february', 'march', 'april', 'may', 'june', 'july', 'august', 'september', 'october', 'november', 'december']\n",
    "predictors.extend(months)\n",
    "weekdays = ['monday', 'tuesday', 'wednesday', 'thursday', 'friday', 'saturday', 'sunday']\n",
    "predictors.extend(weekdays)"
   ]
  },
  {
   "cell_type": "markdown",
   "metadata": {},
   "source": [
    "### Random Forest Classifier"
   ]
  },
  {
   "cell_type": "code",
   "execution_count": 50,
   "metadata": {},
   "outputs": [
    {
     "name": "stdout",
     "output_type": "stream",
     "text": [
      "{'n_estimators': 100, 'min_samples_split': 50, 'precision_score': 0.5509259259259259}\n",
      "{'n_estimators': 100, 'min_samples_split': 100, 'precision_score': 0.5793871866295265}\n",
      "{'n_estimators': 100, 'min_samples_split': 200, 'precision_score': 0.6026936026936027}\n",
      "{'n_estimators': 250, 'min_samples_split': 50, 'precision_score': 0.5756097560975609}\n",
      "{'n_estimators': 250, 'min_samples_split': 100, 'precision_score': 0.5855614973262032}\n",
      "{'n_estimators': 250, 'min_samples_split': 200, 'precision_score': 0.5986842105263158}\n",
      "{'n_estimators': 500, 'min_samples_split': 50, 'precision_score': 0.5641646489104116}\n",
      "{'n_estimators': 500, 'min_samples_split': 100, 'precision_score': 0.5846994535519126}\n",
      "{'n_estimators': 500, 'min_samples_split': 200, 'precision_score': 0.5898305084745763}\n"
     ]
    }
   ],
   "source": [
    "n_estimators_values = [100, 250, 500] # num bootstraps\n",
    "min_samples_split_values = [50, 100, 200] # small=more overfit. \n",
    "\n",
    "results = []\n",
    "for n_estimators in n_estimators_values:\n",
    "    for min_samples_split in min_samples_split_values:\n",
    "        model = RandomForestClassifier(n_estimators=n_estimators, min_samples_split=min_samples_split, random_state=1)\n",
    "        \n",
    "        # Get precision score\n",
    "        df = get_backtested_predictions_df(eth_ohlc, predictors, model, \"tmw_1_0_percent_increase_binary\")\n",
    "        df['prediction'] = df['probability'] >= 0.55\n",
    "        score = precision_score(df['tmw_1_0_percent_increase_binary'], df['prediction'])\n",
    "        \n",
    "        # Store the results\n",
    "        results.append({\n",
    "            'n_estimators': n_estimators,\n",
    "            'min_samples_split': min_samples_split,\n",
    "            'precision_score': score,\n",
    "            'num positive predictions': df['prediction'].value_counts()\n",
    "        })\n",
    "\n",
    "for result in results:\n",
    "    print(result)"
   ]
  },
  {
   "cell_type": "markdown",
   "metadata": {},
   "source": [
    "### LASSO Regression"
   ]
  },
  {
   "cell_type": "code",
   "execution_count": 8,
   "metadata": {},
   "outputs": [
    {
     "name": "stdout",
     "output_type": "stream",
     "text": [
      "0.576271186440678\n"
     ]
    },
    {
     "data": {
      "text/plain": [
       "prediction\n",
       "False    1880\n",
       "True      177\n",
       "Name: count, dtype: int64"
      ]
     },
     "execution_count": 8,
     "metadata": {},
     "output_type": "execute_result"
    }
   ],
   "source": [
    "# model = LogisticRegression(penalty='l1', C=.1, solver='liblinear', random_state=1)  # error, failed to converge,\n",
    "model = LogisticRegression(penalty='l1', C=.1, solver='liblinear', random_state=1, max_iter=1000)\n",
    "\n",
    "df = get_backtested_predictions_df(eth_ohlc, predictors, model, \"tmw_1_0_percent_increase_binary\", start=1000, step=100)\n",
    "df['prediction'] = df['probability'] >= 0.55\n",
    "print(precision_score(df['tmw_1_0_percent_increase_binary'], df['prediction']))\n",
    "df['prediction'].value_counts()"
   ]
  },
  {
   "cell_type": "code",
   "execution_count": 92,
   "metadata": {},
   "outputs": [
    {
     "data": {
      "text/html": [
       "<style>#sk-container-id-1 {\n",
       "  /* Definition of color scheme common for light and dark mode */\n",
       "  --sklearn-color-text: black;\n",
       "  --sklearn-color-line: gray;\n",
       "  /* Definition of color scheme for unfitted estimators */\n",
       "  --sklearn-color-unfitted-level-0: #fff5e6;\n",
       "  --sklearn-color-unfitted-level-1: #f6e4d2;\n",
       "  --sklearn-color-unfitted-level-2: #ffe0b3;\n",
       "  --sklearn-color-unfitted-level-3: chocolate;\n",
       "  /* Definition of color scheme for fitted estimators */\n",
       "  --sklearn-color-fitted-level-0: #f0f8ff;\n",
       "  --sklearn-color-fitted-level-1: #d4ebff;\n",
       "  --sklearn-color-fitted-level-2: #b3dbfd;\n",
       "  --sklearn-color-fitted-level-3: cornflowerblue;\n",
       "\n",
       "  /* Specific color for light theme */\n",
       "  --sklearn-color-text-on-default-background: var(--sg-text-color, var(--theme-code-foreground, var(--jp-content-font-color1, black)));\n",
       "  --sklearn-color-background: var(--sg-background-color, var(--theme-background, var(--jp-layout-color0, white)));\n",
       "  --sklearn-color-border-box: var(--sg-text-color, var(--theme-code-foreground, var(--jp-content-font-color1, black)));\n",
       "  --sklearn-color-icon: #696969;\n",
       "\n",
       "  @media (prefers-color-scheme: dark) {\n",
       "    /* Redefinition of color scheme for dark theme */\n",
       "    --sklearn-color-text-on-default-background: var(--sg-text-color, var(--theme-code-foreground, var(--jp-content-font-color1, white)));\n",
       "    --sklearn-color-background: var(--sg-background-color, var(--theme-background, var(--jp-layout-color0, #111)));\n",
       "    --sklearn-color-border-box: var(--sg-text-color, var(--theme-code-foreground, var(--jp-content-font-color1, white)));\n",
       "    --sklearn-color-icon: #878787;\n",
       "  }\n",
       "}\n",
       "\n",
       "#sk-container-id-1 {\n",
       "  color: var(--sklearn-color-text);\n",
       "}\n",
       "\n",
       "#sk-container-id-1 pre {\n",
       "  padding: 0;\n",
       "}\n",
       "\n",
       "#sk-container-id-1 input.sk-hidden--visually {\n",
       "  border: 0;\n",
       "  clip: rect(1px 1px 1px 1px);\n",
       "  clip: rect(1px, 1px, 1px, 1px);\n",
       "  height: 1px;\n",
       "  margin: -1px;\n",
       "  overflow: hidden;\n",
       "  padding: 0;\n",
       "  position: absolute;\n",
       "  width: 1px;\n",
       "}\n",
       "\n",
       "#sk-container-id-1 div.sk-dashed-wrapped {\n",
       "  border: 1px dashed var(--sklearn-color-line);\n",
       "  margin: 0 0.4em 0.5em 0.4em;\n",
       "  box-sizing: border-box;\n",
       "  padding-bottom: 0.4em;\n",
       "  background-color: var(--sklearn-color-background);\n",
       "}\n",
       "\n",
       "#sk-container-id-1 div.sk-container {\n",
       "  /* jupyter's `normalize.less` sets `[hidden] { display: none; }`\n",
       "     but bootstrap.min.css set `[hidden] { display: none !important; }`\n",
       "     so we also need the `!important` here to be able to override the\n",
       "     default hidden behavior on the sphinx rendered scikit-learn.org.\n",
       "     See: https://github.com/scikit-learn/scikit-learn/issues/21755 */\n",
       "  display: inline-block !important;\n",
       "  position: relative;\n",
       "}\n",
       "\n",
       "#sk-container-id-1 div.sk-text-repr-fallback {\n",
       "  display: none;\n",
       "}\n",
       "\n",
       "div.sk-parallel-item,\n",
       "div.sk-serial,\n",
       "div.sk-item {\n",
       "  /* draw centered vertical line to link estimators */\n",
       "  background-image: linear-gradient(var(--sklearn-color-text-on-default-background), var(--sklearn-color-text-on-default-background));\n",
       "  background-size: 2px 100%;\n",
       "  background-repeat: no-repeat;\n",
       "  background-position: center center;\n",
       "}\n",
       "\n",
       "/* Parallel-specific style estimator block */\n",
       "\n",
       "#sk-container-id-1 div.sk-parallel-item::after {\n",
       "  content: \"\";\n",
       "  width: 100%;\n",
       "  border-bottom: 2px solid var(--sklearn-color-text-on-default-background);\n",
       "  flex-grow: 1;\n",
       "}\n",
       "\n",
       "#sk-container-id-1 div.sk-parallel {\n",
       "  display: flex;\n",
       "  align-items: stretch;\n",
       "  justify-content: center;\n",
       "  background-color: var(--sklearn-color-background);\n",
       "  position: relative;\n",
       "}\n",
       "\n",
       "#sk-container-id-1 div.sk-parallel-item {\n",
       "  display: flex;\n",
       "  flex-direction: column;\n",
       "}\n",
       "\n",
       "#sk-container-id-1 div.sk-parallel-item:first-child::after {\n",
       "  align-self: flex-end;\n",
       "  width: 50%;\n",
       "}\n",
       "\n",
       "#sk-container-id-1 div.sk-parallel-item:last-child::after {\n",
       "  align-self: flex-start;\n",
       "  width: 50%;\n",
       "}\n",
       "\n",
       "#sk-container-id-1 div.sk-parallel-item:only-child::after {\n",
       "  width: 0;\n",
       "}\n",
       "\n",
       "/* Serial-specific style estimator block */\n",
       "\n",
       "#sk-container-id-1 div.sk-serial {\n",
       "  display: flex;\n",
       "  flex-direction: column;\n",
       "  align-items: center;\n",
       "  background-color: var(--sklearn-color-background);\n",
       "  padding-right: 1em;\n",
       "  padding-left: 1em;\n",
       "}\n",
       "\n",
       "\n",
       "/* Toggleable style: style used for estimator/Pipeline/ColumnTransformer box that is\n",
       "clickable and can be expanded/collapsed.\n",
       "- Pipeline and ColumnTransformer use this feature and define the default style\n",
       "- Estimators will overwrite some part of the style using the `sk-estimator` class\n",
       "*/\n",
       "\n",
       "/* Pipeline and ColumnTransformer style (default) */\n",
       "\n",
       "#sk-container-id-1 div.sk-toggleable {\n",
       "  /* Default theme specific background. It is overwritten whether we have a\n",
       "  specific estimator or a Pipeline/ColumnTransformer */\n",
       "  background-color: var(--sklearn-color-background);\n",
       "}\n",
       "\n",
       "/* Toggleable label */\n",
       "#sk-container-id-1 label.sk-toggleable__label {\n",
       "  cursor: pointer;\n",
       "  display: block;\n",
       "  width: 100%;\n",
       "  margin-bottom: 0;\n",
       "  padding: 0.5em;\n",
       "  box-sizing: border-box;\n",
       "  text-align: center;\n",
       "}\n",
       "\n",
       "#sk-container-id-1 label.sk-toggleable__label-arrow:before {\n",
       "  /* Arrow on the left of the label */\n",
       "  content: \"▸\";\n",
       "  float: left;\n",
       "  margin-right: 0.25em;\n",
       "  color: var(--sklearn-color-icon);\n",
       "}\n",
       "\n",
       "#sk-container-id-1 label.sk-toggleable__label-arrow:hover:before {\n",
       "  color: var(--sklearn-color-text);\n",
       "}\n",
       "\n",
       "/* Toggleable content - dropdown */\n",
       "\n",
       "#sk-container-id-1 div.sk-toggleable__content {\n",
       "  max-height: 0;\n",
       "  max-width: 0;\n",
       "  overflow: hidden;\n",
       "  text-align: left;\n",
       "  /* unfitted */\n",
       "  background-color: var(--sklearn-color-unfitted-level-0);\n",
       "}\n",
       "\n",
       "#sk-container-id-1 div.sk-toggleable__content.fitted {\n",
       "  /* fitted */\n",
       "  background-color: var(--sklearn-color-fitted-level-0);\n",
       "}\n",
       "\n",
       "#sk-container-id-1 div.sk-toggleable__content pre {\n",
       "  margin: 0.2em;\n",
       "  border-radius: 0.25em;\n",
       "  color: var(--sklearn-color-text);\n",
       "  /* unfitted */\n",
       "  background-color: var(--sklearn-color-unfitted-level-0);\n",
       "}\n",
       "\n",
       "#sk-container-id-1 div.sk-toggleable__content.fitted pre {\n",
       "  /* unfitted */\n",
       "  background-color: var(--sklearn-color-fitted-level-0);\n",
       "}\n",
       "\n",
       "#sk-container-id-1 input.sk-toggleable__control:checked~div.sk-toggleable__content {\n",
       "  /* Expand drop-down */\n",
       "  max-height: 200px;\n",
       "  max-width: 100%;\n",
       "  overflow: auto;\n",
       "}\n",
       "\n",
       "#sk-container-id-1 input.sk-toggleable__control:checked~label.sk-toggleable__label-arrow:before {\n",
       "  content: \"▾\";\n",
       "}\n",
       "\n",
       "/* Pipeline/ColumnTransformer-specific style */\n",
       "\n",
       "#sk-container-id-1 div.sk-label input.sk-toggleable__control:checked~label.sk-toggleable__label {\n",
       "  color: var(--sklearn-color-text);\n",
       "  background-color: var(--sklearn-color-unfitted-level-2);\n",
       "}\n",
       "\n",
       "#sk-container-id-1 div.sk-label.fitted input.sk-toggleable__control:checked~label.sk-toggleable__label {\n",
       "  background-color: var(--sklearn-color-fitted-level-2);\n",
       "}\n",
       "\n",
       "/* Estimator-specific style */\n",
       "\n",
       "/* Colorize estimator box */\n",
       "#sk-container-id-1 div.sk-estimator input.sk-toggleable__control:checked~label.sk-toggleable__label {\n",
       "  /* unfitted */\n",
       "  background-color: var(--sklearn-color-unfitted-level-2);\n",
       "}\n",
       "\n",
       "#sk-container-id-1 div.sk-estimator.fitted input.sk-toggleable__control:checked~label.sk-toggleable__label {\n",
       "  /* fitted */\n",
       "  background-color: var(--sklearn-color-fitted-level-2);\n",
       "}\n",
       "\n",
       "#sk-container-id-1 div.sk-label label.sk-toggleable__label,\n",
       "#sk-container-id-1 div.sk-label label {\n",
       "  /* The background is the default theme color */\n",
       "  color: var(--sklearn-color-text-on-default-background);\n",
       "}\n",
       "\n",
       "/* On hover, darken the color of the background */\n",
       "#sk-container-id-1 div.sk-label:hover label.sk-toggleable__label {\n",
       "  color: var(--sklearn-color-text);\n",
       "  background-color: var(--sklearn-color-unfitted-level-2);\n",
       "}\n",
       "\n",
       "/* Label box, darken color on hover, fitted */\n",
       "#sk-container-id-1 div.sk-label.fitted:hover label.sk-toggleable__label.fitted {\n",
       "  color: var(--sklearn-color-text);\n",
       "  background-color: var(--sklearn-color-fitted-level-2);\n",
       "}\n",
       "\n",
       "/* Estimator label */\n",
       "\n",
       "#sk-container-id-1 div.sk-label label {\n",
       "  font-family: monospace;\n",
       "  font-weight: bold;\n",
       "  display: inline-block;\n",
       "  line-height: 1.2em;\n",
       "}\n",
       "\n",
       "#sk-container-id-1 div.sk-label-container {\n",
       "  text-align: center;\n",
       "}\n",
       "\n",
       "/* Estimator-specific */\n",
       "#sk-container-id-1 div.sk-estimator {\n",
       "  font-family: monospace;\n",
       "  border: 1px dotted var(--sklearn-color-border-box);\n",
       "  border-radius: 0.25em;\n",
       "  box-sizing: border-box;\n",
       "  margin-bottom: 0.5em;\n",
       "  /* unfitted */\n",
       "  background-color: var(--sklearn-color-unfitted-level-0);\n",
       "}\n",
       "\n",
       "#sk-container-id-1 div.sk-estimator.fitted {\n",
       "  /* fitted */\n",
       "  background-color: var(--sklearn-color-fitted-level-0);\n",
       "}\n",
       "\n",
       "/* on hover */\n",
       "#sk-container-id-1 div.sk-estimator:hover {\n",
       "  /* unfitted */\n",
       "  background-color: var(--sklearn-color-unfitted-level-2);\n",
       "}\n",
       "\n",
       "#sk-container-id-1 div.sk-estimator.fitted:hover {\n",
       "  /* fitted */\n",
       "  background-color: var(--sklearn-color-fitted-level-2);\n",
       "}\n",
       "\n",
       "/* Specification for estimator info (e.g. \"i\" and \"?\") */\n",
       "\n",
       "/* Common style for \"i\" and \"?\" */\n",
       "\n",
       ".sk-estimator-doc-link,\n",
       "a:link.sk-estimator-doc-link,\n",
       "a:visited.sk-estimator-doc-link {\n",
       "  float: right;\n",
       "  font-size: smaller;\n",
       "  line-height: 1em;\n",
       "  font-family: monospace;\n",
       "  background-color: var(--sklearn-color-background);\n",
       "  border-radius: 1em;\n",
       "  height: 1em;\n",
       "  width: 1em;\n",
       "  text-decoration: none !important;\n",
       "  margin-left: 1ex;\n",
       "  /* unfitted */\n",
       "  border: var(--sklearn-color-unfitted-level-1) 1pt solid;\n",
       "  color: var(--sklearn-color-unfitted-level-1);\n",
       "}\n",
       "\n",
       ".sk-estimator-doc-link.fitted,\n",
       "a:link.sk-estimator-doc-link.fitted,\n",
       "a:visited.sk-estimator-doc-link.fitted {\n",
       "  /* fitted */\n",
       "  border: var(--sklearn-color-fitted-level-1) 1pt solid;\n",
       "  color: var(--sklearn-color-fitted-level-1);\n",
       "}\n",
       "\n",
       "/* On hover */\n",
       "div.sk-estimator:hover .sk-estimator-doc-link:hover,\n",
       ".sk-estimator-doc-link:hover,\n",
       "div.sk-label-container:hover .sk-estimator-doc-link:hover,\n",
       ".sk-estimator-doc-link:hover {\n",
       "  /* unfitted */\n",
       "  background-color: var(--sklearn-color-unfitted-level-3);\n",
       "  color: var(--sklearn-color-background);\n",
       "  text-decoration: none;\n",
       "}\n",
       "\n",
       "div.sk-estimator.fitted:hover .sk-estimator-doc-link.fitted:hover,\n",
       ".sk-estimator-doc-link.fitted:hover,\n",
       "div.sk-label-container:hover .sk-estimator-doc-link.fitted:hover,\n",
       ".sk-estimator-doc-link.fitted:hover {\n",
       "  /* fitted */\n",
       "  background-color: var(--sklearn-color-fitted-level-3);\n",
       "  color: var(--sklearn-color-background);\n",
       "  text-decoration: none;\n",
       "}\n",
       "\n",
       "/* Span, style for the box shown on hovering the info icon */\n",
       ".sk-estimator-doc-link span {\n",
       "  display: none;\n",
       "  z-index: 9999;\n",
       "  position: relative;\n",
       "  font-weight: normal;\n",
       "  right: .2ex;\n",
       "  padding: .5ex;\n",
       "  margin: .5ex;\n",
       "  width: min-content;\n",
       "  min-width: 20ex;\n",
       "  max-width: 50ex;\n",
       "  color: var(--sklearn-color-text);\n",
       "  box-shadow: 2pt 2pt 4pt #999;\n",
       "  /* unfitted */\n",
       "  background: var(--sklearn-color-unfitted-level-0);\n",
       "  border: .5pt solid var(--sklearn-color-unfitted-level-3);\n",
       "}\n",
       "\n",
       ".sk-estimator-doc-link.fitted span {\n",
       "  /* fitted */\n",
       "  background: var(--sklearn-color-fitted-level-0);\n",
       "  border: var(--sklearn-color-fitted-level-3);\n",
       "}\n",
       "\n",
       ".sk-estimator-doc-link:hover span {\n",
       "  display: block;\n",
       "}\n",
       "\n",
       "/* \"?\"-specific style due to the `<a>` HTML tag */\n",
       "\n",
       "#sk-container-id-1 a.estimator_doc_link {\n",
       "  float: right;\n",
       "  font-size: 1rem;\n",
       "  line-height: 1em;\n",
       "  font-family: monospace;\n",
       "  background-color: var(--sklearn-color-background);\n",
       "  border-radius: 1rem;\n",
       "  height: 1rem;\n",
       "  width: 1rem;\n",
       "  text-decoration: none;\n",
       "  /* unfitted */\n",
       "  color: var(--sklearn-color-unfitted-level-1);\n",
       "  border: var(--sklearn-color-unfitted-level-1) 1pt solid;\n",
       "}\n",
       "\n",
       "#sk-container-id-1 a.estimator_doc_link.fitted {\n",
       "  /* fitted */\n",
       "  border: var(--sklearn-color-fitted-level-1) 1pt solid;\n",
       "  color: var(--sklearn-color-fitted-level-1);\n",
       "}\n",
       "\n",
       "/* On hover */\n",
       "#sk-container-id-1 a.estimator_doc_link:hover {\n",
       "  /* unfitted */\n",
       "  background-color: var(--sklearn-color-unfitted-level-3);\n",
       "  color: var(--sklearn-color-background);\n",
       "  text-decoration: none;\n",
       "}\n",
       "\n",
       "#sk-container-id-1 a.estimator_doc_link.fitted:hover {\n",
       "  /* fitted */\n",
       "  background-color: var(--sklearn-color-fitted-level-3);\n",
       "}\n",
       "</style><div id=\"sk-container-id-1\" class=\"sk-top-container\"><div class=\"sk-text-repr-fallback\"><pre>LogisticRegression(C=0.1, max_iter=1000, penalty=&#x27;l1&#x27;, random_state=1,\n",
       "                   solver=&#x27;liblinear&#x27;)</pre><b>In a Jupyter environment, please rerun this cell to show the HTML representation or trust the notebook. <br />On GitHub, the HTML representation is unable to render, please try loading this page with nbviewer.org.</b></div><div class=\"sk-container\" hidden><div class=\"sk-item\"><div class=\"sk-estimator fitted sk-toggleable\"><input class=\"sk-toggleable__control sk-hidden--visually\" id=\"sk-estimator-id-1\" type=\"checkbox\" checked><label for=\"sk-estimator-id-1\" class=\"sk-toggleable__label fitted sk-toggleable__label-arrow fitted\">&nbsp;&nbsp;LogisticRegression<a class=\"sk-estimator-doc-link fitted\" rel=\"noreferrer\" target=\"_blank\" href=\"https://scikit-learn.org/1.4/modules/generated/sklearn.linear_model.LogisticRegression.html\">?<span>Documentation for LogisticRegression</span></a><span class=\"sk-estimator-doc-link fitted\">i<span>Fitted</span></span></label><div class=\"sk-toggleable__content fitted\"><pre>LogisticRegression(C=0.1, max_iter=1000, penalty=&#x27;l1&#x27;, random_state=1,\n",
       "                   solver=&#x27;liblinear&#x27;)</pre></div> </div></div></div></div>"
      ],
      "text/plain": [
       "LogisticRegression(C=0.1, max_iter=1000, penalty='l1', random_state=1,\n",
       "                   solver='liblinear')"
      ]
     },
     "execution_count": 92,
     "metadata": {},
     "output_type": "execute_result"
    }
   ],
   "source": [
    "model = LogisticRegression(penalty='l1', C=.1, solver='liblinear', random_state=1, max_iter=1000)\n",
    "model.fit(eth_ohlc[predictors], eth_ohlc['tmw_1_0_percent_increase_binary'])"
   ]
  },
  {
   "cell_type": "code",
   "execution_count": 95,
   "metadata": {},
   "outputs": [
    {
     "name": "stdout",
     "output_type": "stream",
     "text": [
      "ema_2: 0.0\n",
      "rsi_2: -0.007193116707537571\n",
      "sma_2: 0.0\n",
      "last_2_day_1_0_percent_increase_count: 0.05553797490225255\n",
      "last_2_day_1_25_percent_increase_count: 0.0\n",
      "last_2_day_1_5_percent_increase_count: 0.0\n",
      "last_2_day_1_75_percent_increase_count: 0.0\n",
      "last_2_day_2_0_percent_increase_count: 0.0\n",
      "last_2_day_2_25_percent_increase_count: 0.0\n",
      "last_2_day_2_5_percent_increase_count: 0.02914822617291995\n",
      "last_2_day_2_75_percent_increase_count: 0.0\n",
      "last_2_day_3_0_percent_increase_count: 0.051143843010660474\n",
      "ema_5: 0.0\n",
      "rsi_5: 0.0\n",
      "sma_5: 0.0\n",
      "last_5_day_1_0_percent_increase_count: 0.0593598611771807\n",
      "last_5_day_1_25_percent_increase_count: 0.0\n",
      "last_5_day_1_5_percent_increase_count: 0.0\n",
      "last_5_day_1_75_percent_increase_count: -0.07600133015743603\n",
      "last_5_day_2_0_percent_increase_count: -0.05699880221238087\n",
      "last_5_day_2_25_percent_increase_count: 0.0\n",
      "last_5_day_2_5_percent_increase_count: 0.0\n",
      "last_5_day_2_75_percent_increase_count: 0.0\n",
      "last_5_day_3_0_percent_increase_count: 0.0625137930950976\n",
      "ema_10: 0.0\n",
      "rsi_10: 0.003052703023629523\n",
      "sma_10: 0.0\n",
      "last_10_day_1_0_percent_increase_count: 0.0\n",
      "last_10_day_1_25_percent_increase_count: 0.0621827543823024\n",
      "last_10_day_1_5_percent_increase_count: -0.012212963844630245\n",
      "last_10_day_1_75_percent_increase_count: -0.006244278383279537\n",
      "last_10_day_2_0_percent_increase_count: 0.0\n",
      "last_10_day_2_25_percent_increase_count: 0.0\n",
      "last_10_day_2_5_percent_increase_count: 0.11585998965315038\n",
      "last_10_day_2_75_percent_increase_count: 0.0\n",
      "last_10_day_3_0_percent_increase_count: -0.0771080855221358\n",
      "ema_25: 0.0\n",
      "rsi_25: -0.017275777964666564\n",
      "sma_25: 0.0\n",
      "last_25_day_1_0_percent_increase_count: 0.0\n",
      "last_25_day_1_25_percent_increase_count: 0.03726717811123233\n",
      "last_25_day_1_5_percent_increase_count: -0.01725845611333981\n",
      "last_25_day_1_75_percent_increase_count: 0.0\n",
      "last_25_day_2_0_percent_increase_count: 0.0\n",
      "last_25_day_2_25_percent_increase_count: 0.023276237356335636\n",
      "last_25_day_2_5_percent_increase_count: 0.0\n",
      "last_25_day_2_75_percent_increase_count: 0.0018116252551351167\n",
      "last_25_day_3_0_percent_increase_count: 0.0\n",
      "ema_50: 0.0\n",
      "rsi_50: 0.04658457742579125\n",
      "sma_50: 0.0\n",
      "last_50_day_1_0_percent_increase_count: -0.024693849274945563\n",
      "last_50_day_1_25_percent_increase_count: 0.0\n",
      "last_50_day_1_5_percent_increase_count: -0.02254524974967456\n",
      "last_50_day_1_75_percent_increase_count: 0.0\n",
      "last_50_day_2_0_percent_increase_count: 0.0\n",
      "last_50_day_2_25_percent_increase_count: -0.019170823123147614\n",
      "last_50_day_2_5_percent_increase_count: 0.0\n",
      "last_50_day_2_75_percent_increase_count: 0.05529245698261733\n",
      "last_50_day_3_0_percent_increase_count: 0.0\n",
      "ema_100: 0.0\n",
      "rsi_100: -0.03750615695097828\n",
      "sma_100: 0.0\n",
      "last_100_day_1_0_percent_increase_count: 0.004342025104417046\n",
      "last_100_day_1_25_percent_increase_count: 0.0\n",
      "last_100_day_1_5_percent_increase_count: 0.0\n",
      "last_100_day_1_75_percent_increase_count: 0.0\n",
      "last_100_day_2_0_percent_increase_count: 0.0\n",
      "last_100_day_2_25_percent_increase_count: 0.02087701114382731\n",
      "last_100_day_2_5_percent_increase_count: -0.020871271484022628\n",
      "last_100_day_2_75_percent_increase_count: 0.0\n",
      "last_100_day_3_0_percent_increase_count: 0.0\n",
      "january: 0.0\n",
      "february: 0.13566842417424968\n",
      "march: 0.0\n",
      "april: 0.0\n",
      "may: 0.0\n",
      "june: 0.0\n",
      "july: 0.0\n",
      "august: 0.0\n",
      "september: 0.0\n",
      "october: 0.0\n",
      "november: 0.0\n",
      "december: 0.0\n",
      "monday: 0.0\n",
      "tuesday: 0.030178259666434164\n",
      "wednesday: 0.0\n",
      "thursday: 0.0\n",
      "friday: 0.0\n",
      "saturday: 0.0\n",
      "sunday: 0.0\n"
     ]
    }
   ],
   "source": [
    "coefficients = model.coef_[0]\n",
    "# Map coefficients to feature names\n",
    "name_coef = {feature: coef for feature, coef in zip(predictors, coefficients)}\n",
    "\n",
    "for feature, coef in name_coef.items():\n",
    "    print(f\"{feature}: {coef}\")"
   ]
  },
  {
   "cell_type": "code",
   "execution_count": 91,
   "metadata": {},
   "outputs": [
    {
     "data": {
      "text/plain": [
       "prediction\n",
       "False    1880\n",
       "True      177\n",
       "Name: count, dtype: int64"
      ]
     },
     "execution_count": 91,
     "metadata": {},
     "output_type": "execute_result"
    }
   ],
   "source": [
    "df['prediction'].value_counts()"
   ]
  },
  {
   "cell_type": "code",
   "execution_count": null,
   "metadata": {},
   "outputs": [],
   "source": [
    "# Small values specify stronger regularization\n",
    "C_values = [0.01, 0.1, 1, 10, 100]\n",
    "\n",
    "results = []\n",
    "for C in C_values:\n",
    "    # LASSO logistic regression model\n",
    "    model = LogisticRegression(penalty='l1', C=C, solver='liblinear', random_state=1)  # 'liblinear' solver supports L1 penalty\n",
    "    \n",
    "    # Get precision score\n",
    "    df = get_backtested_predictions_df(eth_ohlc, predictors, model, \"tmw_1_0_percent_increase_binary\")\n",
    "    df['prediction'] = df['probability'] >= 0.55\n",
    "    score = precision_score(df['tmw_1_0_percent_increase_binary'], df['prediction'])\n",
    "    \n",
    "    # Store the results\n",
    "    results.append({\n",
    "        'C': C,\n",
    "        'precision_score': score,\n",
    "        'num positive predictions': df['prediction'].value_counts()\n",
    "    })\n",
    "\n",
    "for result in results:\n",
    "    print(result)"
   ]
  },
  {
   "cell_type": "markdown",
   "metadata": {},
   "source": [
    "### LightGBM"
   ]
  },
  {
   "cell_type": "code",
   "execution_count": null,
   "metadata": {},
   "outputs": [],
   "source": [
    "num_leaves_values = [15, 31, 45]\n",
    "max_depth_values = [4, 6, 8]\n",
    "learning_rate_values = [0.005, 0.01, 0.05]\n",
    "\n",
    "results = []\n",
    "\n",
    "# Loop through each combination of parameters\n",
    "for num_leaves in num_leaves_values:\n",
    "    for max_depth in max_depth_values:\n",
    "        for learning_rate in learning_rate_values:\n",
    "            # Create and train the model\n",
    "            model = lgb.LGBMClassifier(num_leaves=num_leaves, max_depth=max_depth, learning_rate=learning_rate, random_state=1)\n",
    "            \n",
    "            # Get precision score\n",
    "            df = get_backtested_predictions_df(eth_ohlc, predictors, model, \"tmw_1_0_percent_increase_binary\")\n",
    "            df['prediction'] = df['probability'] >= 0.55\n",
    "            score = precision_score(df['tmw_1_0_percent_increase_binary'], df['prediction'])\n",
    "            \n",
    "            # Store the results\n",
    "            results.append({\n",
    "                'num_leaves': num_leaves,\n",
    "                'max_depth': max_depth,\n",
    "                'learning_rate': learning_rate,\n",
    "                'precision_score': score,\n",
    "                'num positive predictions': df['prediction'].value_counts()\n",
    "            })\n",
    "\n",
    "for result in results:\n",
    "    print(result)"
   ]
  },
  {
   "cell_type": "code",
   "execution_count": 86,
   "metadata": {},
   "outputs": [
    {
     "name": "stdout",
     "output_type": "stream",
     "text": [
      "{'num_leaves': 15, 'max_depth': 4, 'learning_rate': 0.005, 'precision_score': 0.5571428571428572, 'num positive predictions': prediction\n",
      "False    1917\n",
      "True      140\n",
      "Name: count, dtype: int64}\n",
      "{'num_leaves': 15, 'max_depth': 4, 'learning_rate': 0.01, 'precision_score': 0.584192439862543, 'num positive predictions': prediction\n",
      "False    1766\n",
      "True      291\n",
      "Name: count, dtype: int64}\n",
      "{'num_leaves': 15, 'max_depth': 4, 'learning_rate': 0.05, 'precision_score': 0.5466666666666666, 'num positive predictions': prediction\n",
      "False    1607\n",
      "True      450\n",
      "Name: count, dtype: int64}\n",
      "{'num_leaves': 15, 'max_depth': 6, 'learning_rate': 0.005, 'precision_score': 0.5534591194968553, 'num positive predictions': prediction\n",
      "False    1898\n",
      "True      159\n",
      "Name: count, dtype: int64}\n",
      "{'num_leaves': 15, 'max_depth': 6, 'learning_rate': 0.01, 'precision_score': 0.5667655786350149, 'num positive predictions': prediction\n",
      "False    1720\n",
      "True      337\n",
      "Name: count, dtype: int64}\n",
      "{'num_leaves': 15, 'max_depth': 6, 'learning_rate': 0.05, 'precision_score': 0.5433526011560693, 'num positive predictions': prediction\n",
      "False    1538\n",
      "True      519\n",
      "Name: count, dtype: int64}\n",
      "{'num_leaves': 15, 'max_depth': 8, 'learning_rate': 0.005, 'precision_score': 0.5815602836879432, 'num positive predictions': prediction\n",
      "False    1916\n",
      "True      141\n",
      "Name: count, dtype: int64}\n",
      "{'num_leaves': 15, 'max_depth': 8, 'learning_rate': 0.01, 'precision_score': 0.5488505747126436, 'num positive predictions': prediction\n",
      "False    1709\n",
      "True      348\n",
      "Name: count, dtype: int64}\n",
      "{'num_leaves': 15, 'max_depth': 8, 'learning_rate': 0.05, 'precision_score': 0.5503875968992248, 'num positive predictions': prediction\n",
      "False    1541\n",
      "True      516\n",
      "Name: count, dtype: int64}\n",
      "{'num_leaves': 31, 'max_depth': 4, 'learning_rate': 0.005, 'precision_score': 0.5563380281690141, 'num positive predictions': prediction\n",
      "False    1915\n",
      "True      142\n",
      "Name: count, dtype: int64}\n",
      "{'num_leaves': 31, 'max_depth': 4, 'learning_rate': 0.01, 'precision_score': 0.5958188153310104, 'num positive predictions': prediction\n",
      "False    1770\n",
      "True      287\n",
      "Name: count, dtype: int64}\n",
      "{'num_leaves': 31, 'max_depth': 4, 'learning_rate': 0.05, 'precision_score': 0.5496688741721855, 'num positive predictions': prediction\n",
      "False    1604\n",
      "True      453\n",
      "Name: count, dtype: int64}\n",
      "{'num_leaves': 31, 'max_depth': 6, 'learning_rate': 0.005, 'precision_score': 0.5311203319502075, 'num positive predictions': prediction\n",
      "False    1816\n",
      "True      241\n",
      "Name: count, dtype: int64}\n",
      "{'num_leaves': 31, 'max_depth': 6, 'learning_rate': 0.01, 'precision_score': 0.5604395604395604, 'num positive predictions': prediction\n",
      "False    1693\n",
      "True      364\n",
      "Name: count, dtype: int64}\n",
      "{'num_leaves': 31, 'max_depth': 6, 'learning_rate': 0.05, 'precision_score': 0.5235404896421846, 'num positive predictions': prediction\n",
      "False    1526\n",
      "True      531\n",
      "Name: count, dtype: int64}\n",
      "{'num_leaves': 31, 'max_depth': 8, 'learning_rate': 0.005, 'precision_score': 0.5443548387096774, 'num positive predictions': prediction\n",
      "False    1809\n",
      "True      248\n",
      "Name: count, dtype: int64}\n",
      "{'num_leaves': 31, 'max_depth': 8, 'learning_rate': 0.01, 'precision_score': 0.5528255528255528, 'num positive predictions': prediction\n",
      "False    1650\n",
      "True      407\n",
      "Name: count, dtype: int64}\n",
      "{'num_leaves': 31, 'max_depth': 8, 'learning_rate': 0.05, 'precision_score': 0.5363790186125211, 'num positive predictions': prediction\n",
      "False    1466\n",
      "True      591\n",
      "Name: count, dtype: int64}\n",
      "{'num_leaves': 45, 'max_depth': 4, 'learning_rate': 0.005, 'precision_score': 0.5563380281690141, 'num positive predictions': prediction\n",
      "False    1915\n",
      "True      142\n",
      "Name: count, dtype: int64}\n",
      "{'num_leaves': 45, 'max_depth': 4, 'learning_rate': 0.01, 'precision_score': 0.5958188153310104, 'num positive predictions': prediction\n",
      "False    1770\n",
      "True      287\n",
      "Name: count, dtype: int64}\n",
      "{'num_leaves': 45, 'max_depth': 4, 'learning_rate': 0.05, 'precision_score': 0.5496688741721855, 'num positive predictions': prediction\n",
      "False    1604\n",
      "True      453\n",
      "Name: count, dtype: int64}\n",
      "{'num_leaves': 45, 'max_depth': 6, 'learning_rate': 0.005, 'precision_score': 0.5298804780876494, 'num positive predictions': prediction\n",
      "False    1806\n",
      "True      251\n",
      "Name: count, dtype: int64}\n",
      "{'num_leaves': 45, 'max_depth': 6, 'learning_rate': 0.01, 'precision_score': 0.5604395604395604, 'num positive predictions': prediction\n",
      "False    1693\n",
      "True      364\n",
      "Name: count, dtype: int64}\n",
      "{'num_leaves': 45, 'max_depth': 6, 'learning_rate': 0.05, 'precision_score': 0.5337078651685393, 'num positive predictions': prediction\n",
      "False    1523\n",
      "True      534\n",
      "Name: count, dtype: int64}\n",
      "{'num_leaves': 45, 'max_depth': 8, 'learning_rate': 0.005, 'precision_score': 0.5379061371841155, 'num positive predictions': prediction\n",
      "False    1780\n",
      "True      277\n",
      "Name: count, dtype: int64}\n",
      "{'num_leaves': 45, 'max_depth': 8, 'learning_rate': 0.01, 'precision_score': 0.5430622009569378, 'num positive predictions': prediction\n",
      "False    1639\n",
      "True      418\n",
      "Name: count, dtype: int64}\n",
      "{'num_leaves': 45, 'max_depth': 8, 'learning_rate': 0.05, 'precision_score': 0.5297113752122241, 'num positive predictions': prediction\n",
      "False    1468\n",
      "True      589\n",
      "Name: count, dtype: int64}\n"
     ]
    }
   ],
   "source": [
    "for result in results:\n",
    "    print(result)"
   ]
  },
  {
   "cell_type": "markdown",
   "metadata": {},
   "source": [
    "### CatBoost"
   ]
  },
  {
   "cell_type": "code",
   "execution_count": 35,
   "metadata": {},
   "outputs": [
    {
     "data": {
      "text/plain": [
       "0.656934306569343"
      ]
     },
     "execution_count": 35,
     "metadata": {},
     "output_type": "execute_result"
    }
   ],
   "source": [
    "model = cb.CatBoostClassifier(iterations=100, \n",
    "                                learning_rate=.005, \n",
    "                                depth=6,\n",
    "                                verbose=False,\n",
    "                                random_seed=1)\n",
    "\n",
    "df = get_backtested_predictions_df(eth_ohlc, predictors, model, \"tmw_1_0_percent_increase_binary\", start=1000, step=100)\n",
    "df['prediction'] = df['probability'] >= 0.53\n",
    "precision_score(df['tmw_1_0_percent_increase_binary'], df['prediction'])"
   ]
  },
  {
   "cell_type": "code",
   "execution_count": 36,
   "metadata": {},
   "outputs": [
    {
     "data": {
      "text/plain": [
       "prediction\n",
       "False    1920\n",
       "True      137\n",
       "Name: count, dtype: int64"
      ]
     },
     "execution_count": 36,
     "metadata": {},
     "output_type": "execute_result"
    }
   ],
   "source": [
    "df['prediction'].value_counts()"
   ]
  },
  {
   "cell_type": "code",
   "execution_count": 23,
   "metadata": {},
   "outputs": [
    {
     "data": {
      "text/plain": [
       "tmw_1_0_percent_increase_binary\n",
       "0    1086\n",
       "1     971\n",
       "Name: count, dtype: int64"
      ]
     },
     "execution_count": 23,
     "metadata": {},
     "output_type": "execute_result"
    }
   ],
   "source": [
    "df['tmw_1_0_percent_increase_binary'].value_counts()"
   ]
  },
  {
   "cell_type": "code",
   "execution_count": 83,
   "metadata": {},
   "outputs": [
    {
     "data": {
      "text/plain": [
       "prediction\n",
       "False    2035\n",
       "True       22\n",
       "Name: count, dtype: int64"
      ]
     },
     "execution_count": 83,
     "metadata": {},
     "output_type": "execute_result"
    }
   ],
   "source": [
    "df['prediction'].value_counts()"
   ]
  },
  {
   "cell_type": "code",
   "execution_count": 78,
   "metadata": {},
   "outputs": [
    {
     "data": {
      "text/plain": [
       "0.5540229885057472"
      ]
     },
     "execution_count": 78,
     "metadata": {},
     "output_type": "execute_result"
    }
   ],
   "source": [
    "score"
   ]
  },
  {
   "cell_type": "code",
   "execution_count": 84,
   "metadata": {},
   "outputs": [
    {
     "name": "stdout",
     "output_type": "stream",
     "text": [
      "{'iterations': 100, 'learning_rate': 0.01, 'depth': 3, 'precision_score': 0.6363636363636364, 'num positive predictions': prediction\n",
      "False    1969\n",
      "True       88\n",
      "Name: count, dtype: int64}\n",
      "{'iterations': 100, 'learning_rate': 0.01, 'depth': 4, 'precision_score': 0.646551724137931, 'num positive predictions': prediction\n",
      "False    1941\n",
      "True      116\n",
      "Name: count, dtype: int64}\n",
      "{'iterations': 100, 'learning_rate': 0.01, 'depth': 6, 'precision_score': 0.6521739130434783, 'num positive predictions': prediction\n",
      "False    1919\n",
      "True      138\n",
      "Name: count, dtype: int64}\n",
      "{'iterations': 100, 'learning_rate': 0.05, 'depth': 3, 'precision_score': 0.6031746031746031, 'num positive predictions': prediction\n",
      "False    1742\n",
      "True      315\n",
      "Name: count, dtype: int64}\n",
      "{'iterations': 100, 'learning_rate': 0.05, 'depth': 4, 'precision_score': 0.5873015873015873, 'num positive predictions': prediction\n",
      "False    1742\n",
      "True      315\n",
      "Name: count, dtype: int64}\n",
      "{'iterations': 100, 'learning_rate': 0.05, 'depth': 6, 'precision_score': 0.5611702127659575, 'num positive predictions': prediction\n",
      "False    1681\n",
      "True      376\n",
      "Name: count, dtype: int64}\n",
      "{'iterations': 100, 'learning_rate': 0.1, 'depth': 3, 'precision_score': 0.5456989247311828, 'num positive predictions': prediction\n",
      "False    1685\n",
      "True      372\n",
      "Name: count, dtype: int64}\n",
      "{'iterations': 100, 'learning_rate': 0.1, 'depth': 4, 'precision_score': 0.5558252427184466, 'num positive predictions': prediction\n",
      "False    1645\n",
      "True      412\n",
      "Name: count, dtype: int64}\n",
      "{'iterations': 100, 'learning_rate': 0.1, 'depth': 6, 'precision_score': 0.5603271983640081, 'num positive predictions': prediction\n",
      "False    1568\n",
      "True      489\n",
      "Name: count, dtype: int64}\n",
      "{'iterations': 300, 'learning_rate': 0.01, 'depth': 3, 'precision_score': 0.6083333333333333, 'num positive predictions': prediction\n",
      "False    1817\n",
      "True      240\n",
      "Name: count, dtype: int64}\n",
      "{'iterations': 300, 'learning_rate': 0.01, 'depth': 4, 'precision_score': 0.61003861003861, 'num positive predictions': prediction\n",
      "False    1798\n",
      "True      259\n",
      "Name: count, dtype: int64}\n",
      "{'iterations': 300, 'learning_rate': 0.01, 'depth': 6, 'precision_score': 0.602112676056338, 'num positive predictions': prediction\n",
      "False    1773\n",
      "True      284\n",
      "Name: count, dtype: int64}\n",
      "{'iterations': 300, 'learning_rate': 0.05, 'depth': 3, 'precision_score': 0.5405405405405406, 'num positive predictions': prediction\n",
      "False    1613\n",
      "True      444\n",
      "Name: count, dtype: int64}\n",
      "{'iterations': 300, 'learning_rate': 0.05, 'depth': 4, 'precision_score': 0.5216494845360825, 'num positive predictions': prediction\n",
      "False    1572\n",
      "True      485\n",
      "Name: count, dtype: int64}\n",
      "{'iterations': 300, 'learning_rate': 0.05, 'depth': 6, 'precision_score': 0.5269784172661871, 'num positive predictions': prediction\n",
      "False    1501\n",
      "True      556\n",
      "Name: count, dtype: int64}\n",
      "{'iterations': 300, 'learning_rate': 0.1, 'depth': 3, 'precision_score': 0.5053003533568905, 'num positive predictions': prediction\n",
      "False    1491\n",
      "True      566\n",
      "Name: count, dtype: int64}\n",
      "{'iterations': 300, 'learning_rate': 0.1, 'depth': 4, 'precision_score': 0.5109375, 'num positive predictions': prediction\n",
      "False    1417\n",
      "True      640\n",
      "Name: count, dtype: int64}\n",
      "{'iterations': 300, 'learning_rate': 0.1, 'depth': 6, 'precision_score': 0.5155807365439093, 'num positive predictions': prediction\n",
      "False    1351\n",
      "True      706\n",
      "Name: count, dtype: int64}\n",
      "{'iterations': 500, 'learning_rate': 0.01, 'depth': 3, 'precision_score': 0.5886287625418061, 'num positive predictions': prediction\n",
      "False    1758\n",
      "True      299\n",
      "Name: count, dtype: int64}\n",
      "{'iterations': 500, 'learning_rate': 0.01, 'depth': 4, 'precision_score': 0.6025236593059937, 'num positive predictions': prediction\n",
      "False    1740\n",
      "True      317\n",
      "Name: count, dtype: int64}\n",
      "{'iterations': 500, 'learning_rate': 0.01, 'depth': 6, 'precision_score': 0.5718562874251497, 'num positive predictions': prediction\n",
      "False    1723\n",
      "True      334\n",
      "Name: count, dtype: int64}\n",
      "{'iterations': 500, 'learning_rate': 0.05, 'depth': 3, 'precision_score': 0.521415270018622, 'num positive predictions': prediction\n",
      "False    1520\n",
      "True      537\n",
      "Name: count, dtype: int64}\n",
      "{'iterations': 500, 'learning_rate': 0.05, 'depth': 4, 'precision_score': 0.5104669887278583, 'num positive predictions': prediction\n",
      "False    1436\n",
      "True      621\n",
      "Name: count, dtype: int64}\n",
      "{'iterations': 500, 'learning_rate': 0.05, 'depth': 6, 'precision_score': 0.5070866141732283, 'num positive predictions': prediction\n",
      "False    1422\n",
      "True      635\n",
      "Name: count, dtype: int64}\n",
      "{'iterations': 500, 'learning_rate': 0.1, 'depth': 3, 'precision_score': 0.48606811145510836, 'num positive predictions': prediction\n",
      "False    1411\n",
      "True      646\n",
      "Name: count, dtype: int64}\n",
      "{'iterations': 500, 'learning_rate': 0.1, 'depth': 4, 'precision_score': 0.49222065063649223, 'num positive predictions': prediction\n",
      "False    1350\n",
      "True      707\n",
      "Name: count, dtype: int64}\n",
      "{'iterations': 500, 'learning_rate': 0.1, 'depth': 6, 'precision_score': 0.5057618437900128, 'num positive predictions': prediction\n",
      "False    1276\n",
      "True      781\n",
      "Name: count, dtype: int64}\n"
     ]
    }
   ],
   "source": [
    "iterations_values = [100, 300, 500]\n",
    "learning_rate_values = [0.01, 0.05, 0.1]\n",
    "depth_values = [3, 4, 6]\n",
    "\n",
    "results = []\n",
    "\n",
    "for iterations in iterations_values:\n",
    "    for learning_rate in learning_rate_values:\n",
    "        for depth in depth_values:\n",
    "            model = cb.CatBoostClassifier(iterations=iterations, \n",
    "                                          learning_rate=learning_rate, \n",
    "                                          depth=depth,\n",
    "                                          verbose=False, # Turn off verbose output for simplicity\n",
    "                                          random_seed=1)\n",
    "\n",
    "            df = get_backtested_predictions_df(eth_ohlc, predictors, model, \"tmw_1_0_percent_increase_binary\")\n",
    "            df['prediction'] = df['probability'] >= 0.55\n",
    "            score = precision_score(df['tmw_1_0_percent_increase_binary'], df['prediction'])\n",
    "            \n",
    "            results.append({\n",
    "                'iterations': iterations,\n",
    "                'learning_rate': learning_rate,\n",
    "                'depth': depth,\n",
    "                'precision_score': score,\n",
    "                'num positive predictions': df['prediction'].value_counts()\n",
    "            })\n",
    "\n",
    "for result in results:\n",
    "    print(result)"
   ]
  },
  {
   "cell_type": "code",
   "execution_count": 65,
   "metadata": {},
   "outputs": [
    {
     "data": {
      "text/plain": [
       "91"
      ]
     },
     "execution_count": 65,
     "metadata": {},
     "output_type": "execute_result"
    }
   ],
   "source": [
    "len(predictors)"
   ]
  },
  {
   "cell_type": "markdown",
   "metadata": {},
   "source": [
    "## Check if the predictions from backtesting function get more accurate as time goes on (more data is used in each subsequent training set)"
   ]
  },
  {
   "cell_type": "code",
   "execution_count": null,
   "metadata": {},
   "outputs": [],
   "source": []
  }
 ],
 "metadata": {
  "kernelspec": {
   "display_name": "venv_crypto_prediction",
   "language": "python",
   "name": "python3"
  },
  "language_info": {
   "codemirror_mode": {
    "name": "ipython",
    "version": 3
   },
   "file_extension": ".py",
   "mimetype": "text/x-python",
   "name": "python",
   "nbconvert_exporter": "python",
   "pygments_lexer": "ipython3",
   "version": "3.10.5"
  }
 },
 "nbformat": 4,
 "nbformat_minor": 2
}
