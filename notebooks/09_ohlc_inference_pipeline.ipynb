{
 "cells": [
  {
   "cell_type": "code",
   "execution_count": 1,
   "metadata": {},
   "outputs": [
    {
     "name": "stderr",
     "output_type": "stream",
     "text": [
      "/Users/davydsadovskyy/GitBackedShit/crypto-prediction/venv_crypto_prediction/lib/python3.10/site-packages/tqdm/auto.py:21: TqdmWarning: IProgress not found. Please update jupyter and ipywidgets. See https://ipywidgets.readthedocs.io/en/stable/user_install.html\n",
      "  from .autonotebook import tqdm as notebook_tqdm\n"
     ]
    },
    {
     "name": "stdout",
     "output_type": "stream",
     "text": [
      "Current Working Directory: /Users/davydsadovskyy/GitBackedShit/crypto-prediction/notebooks\n"
     ]
    }
   ],
   "source": [
    "import pandas as pd\n",
    "import sys\n",
    "import os\n",
    "sys.path.append(os.path.abspath('../'))\n",
    "from src.hopsworks_connections import upload_data, pull_model, pull_data\n",
    "\n",
    "# Print the current working directory\n",
    "current_working_directory = os.getcwd()\n",
    "print(\"Current Working Directory:\", current_working_directory)"
   ]
  },
  {
   "cell_type": "markdown",
   "metadata": {},
   "source": [
    "### Get the latest 2 days of transformed ethereum data"
   ]
  },
  {
   "cell_type": "code",
   "execution_count": 2,
   "metadata": {},
   "outputs": [
    {
     "name": "stdout",
     "output_type": "stream",
     "text": [
      "Connected. Call `.close()` to terminate connection gracefully.\n"
     ]
    },
    {
     "name": "stderr",
     "output_type": "stream",
     "text": [
      "\n",
      "\n",
      "UserWarning: The installed hopsworks client version 3.4.4 may not be compatible with the connected Hopsworks backend version 3.7.1. \n",
      "To ensure compatibility please install the latest bug fix release matching the minor version of your backend (3.7) by running 'pip install hopsworks==3.7.*'\n"
     ]
    },
    {
     "name": "stdout",
     "output_type": "stream",
     "text": [
      "\n",
      "Logged in to project, explore it here https://c.app.hopsworks.ai:443/p/711829\n",
      "Connected. Call `.close()` to terminate connection gracefully.\n",
      "Feature view already existed. Skip creation.\n",
      "Finished: Reading data from Hopsworks, using ArrowFlight (1.34s) \n"
     ]
    },
    {
     "name": "stderr",
     "output_type": "stream",
     "text": [
      "VersionWarning: Incremented version to `46`.\n"
     ]
    },
    {
     "data": {
      "text/html": [
       "<div>\n",
       "<style scoped>\n",
       "    .dataframe tbody tr th:only-of-type {\n",
       "        vertical-align: middle;\n",
       "    }\n",
       "\n",
       "    .dataframe tbody tr th {\n",
       "        vertical-align: top;\n",
       "    }\n",
       "\n",
       "    .dataframe thead th {\n",
       "        text-align: right;\n",
       "    }\n",
       "</style>\n",
       "<table border=\"1\" class=\"dataframe\">\n",
       "  <thead>\n",
       "    <tr style=\"text-align: right;\">\n",
       "      <th></th>\n",
       "      <th>date</th>\n",
       "      <th>open</th>\n",
       "      <th>high</th>\n",
       "      <th>low</th>\n",
       "      <th>close</th>\n",
       "      <th>volume</th>\n",
       "      <th>volume_eth</th>\n",
       "      <th>market_cap</th>\n",
       "      <th>tmw_1_0_percent_increase_binary</th>\n",
       "      <th>tmw_percent_increase_to_avg_high_low</th>\n",
       "      <th>...</th>\n",
       "      <th>last_100_day_40th_to_50th_pct_spread_count</th>\n",
       "      <th>last_100_day_50th_to_60th_pct_spread_count</th>\n",
       "      <th>last_100_day_60th_to_70th_pct_spread_count</th>\n",
       "      <th>last_100_day_70th_to_80th_pct_spread_count</th>\n",
       "      <th>last_100_day_90th_to_95th_pct_spread_count</th>\n",
       "      <th>last_100_day_40th_pct_spread_count</th>\n",
       "      <th>last_100_day_50th_pct_spread_count</th>\n",
       "      <th>last_100_day_60th_pct_spread_count</th>\n",
       "      <th>last_100_day_80th_pct_spread_count</th>\n",
       "      <th>last_100_day_90th_pct_spread_count</th>\n",
       "    </tr>\n",
       "  </thead>\n",
       "  <tbody>\n",
       "    <tr>\n",
       "      <th>3088</th>\n",
       "      <td>2024-05-18</td>\n",
       "      <td>3097.989661</td>\n",
       "      <td>3144.431575</td>\n",
       "      <td>3088.35738</td>\n",
       "      <td>3120.549378</td>\n",
       "      <td>8.357435e+09</td>\n",
       "      <td>2.683836e+06</td>\n",
       "      <td>3.752063e+11</td>\n",
       "      <td>0.0</td>\n",
       "      <td>-0.0063</td>\n",
       "      <td>...</td>\n",
       "      <td>14.0</td>\n",
       "      <td>11.0</td>\n",
       "      <td>10.0</td>\n",
       "      <td>8.0</td>\n",
       "      <td>3.0</td>\n",
       "      <td>50.0</td>\n",
       "      <td>36.0</td>\n",
       "      <td>25.0</td>\n",
       "      <td>7.0</td>\n",
       "      <td>3.0</td>\n",
       "    </tr>\n",
       "    <tr>\n",
       "      <th>3089</th>\n",
       "      <td>2024-05-19</td>\n",
       "      <td>3127.490439</td>\n",
       "      <td>3130.454914</td>\n",
       "      <td>3057.74128</td>\n",
       "      <td>3071.324418</td>\n",
       "      <td>6.983634e+09</td>\n",
       "      <td>2.260053e+06</td>\n",
       "      <td>3.685981e+11</td>\n",
       "      <td>NaN</td>\n",
       "      <td>NaN</td>\n",
       "      <td>...</td>\n",
       "      <td>14.0</td>\n",
       "      <td>11.0</td>\n",
       "      <td>10.0</td>\n",
       "      <td>8.0</td>\n",
       "      <td>3.0</td>\n",
       "      <td>50.0</td>\n",
       "      <td>36.0</td>\n",
       "      <td>25.0</td>\n",
       "      <td>7.0</td>\n",
       "      <td>3.0</td>\n",
       "    </tr>\n",
       "  </tbody>\n",
       "</table>\n",
       "<p>2 rows × 106 columns</p>\n",
       "</div>"
      ],
      "text/plain": [
       "            date         open         high         low        close  \\\n",
       "3088  2024-05-18  3097.989661  3144.431575  3088.35738  3120.549378   \n",
       "3089  2024-05-19  3127.490439  3130.454914  3057.74128  3071.324418   \n",
       "\n",
       "            volume    volume_eth    market_cap  \\\n",
       "3088  8.357435e+09  2.683836e+06  3.752063e+11   \n",
       "3089  6.983634e+09  2.260053e+06  3.685981e+11   \n",
       "\n",
       "      tmw_1_0_percent_increase_binary  tmw_percent_increase_to_avg_high_low  \\\n",
       "3088                              0.0                               -0.0063   \n",
       "3089                              NaN                                   NaN   \n",
       "\n",
       "      ...  last_100_day_40th_to_50th_pct_spread_count  \\\n",
       "3088  ...                                        14.0   \n",
       "3089  ...                                        14.0   \n",
       "\n",
       "      last_100_day_50th_to_60th_pct_spread_count  \\\n",
       "3088                                        11.0   \n",
       "3089                                        11.0   \n",
       "\n",
       "      last_100_day_60th_to_70th_pct_spread_count  \\\n",
       "3088                                        10.0   \n",
       "3089                                        10.0   \n",
       "\n",
       "      last_100_day_70th_to_80th_pct_spread_count  \\\n",
       "3088                                         8.0   \n",
       "3089                                         8.0   \n",
       "\n",
       "      last_100_day_90th_to_95th_pct_spread_count  \\\n",
       "3088                                         3.0   \n",
       "3089                                         3.0   \n",
       "\n",
       "      last_100_day_40th_pct_spread_count  last_100_day_50th_pct_spread_count  \\\n",
       "3088                                50.0                                36.0   \n",
       "3089                                50.0                                36.0   \n",
       "\n",
       "      last_100_day_60th_pct_spread_count  last_100_day_80th_pct_spread_count  \\\n",
       "3088                                25.0                                 7.0   \n",
       "3089                                25.0                                 7.0   \n",
       "\n",
       "      last_100_day_90th_pct_spread_count  \n",
       "3088                                 3.0  \n",
       "3089                                 3.0  \n",
       "\n",
       "[2 rows x 106 columns]"
      ]
     },
     "execution_count": 2,
     "metadata": {},
     "output_type": "execute_result"
    }
   ],
   "source": [
    "# we'll later also need to update the day's before yesterday data for tmw (tmw_avg_high_close, tmw_percent_increase)\n",
    "eth_last_2_days = pull_data('eth_ohlc_transformed', 2, 'eth_ohlc_transformed_view', 2)[-2:]\n",
    "eth_today = eth_last_2_days[-1:]\n",
    "\n",
    "eth_last_2_days"
   ]
  },
  {
   "cell_type": "markdown",
   "metadata": {},
   "source": [
    "### Get model from our Hopsworks model registry"
   ]
  },
  {
   "cell_type": "code",
   "execution_count": 3,
   "metadata": {},
   "outputs": [
    {
     "name": "stdout",
     "output_type": "stream",
     "text": [
      "Connection closed.\n",
      "Connected. Call `.close()` to terminate connection gracefully.\n"
     ]
    },
    {
     "name": "stderr",
     "output_type": "stream",
     "text": [
      "\n",
      "\n",
      "UserWarning: The installed hopsworks client version 3.4.4 may not be compatible with the connected Hopsworks backend version 3.7.1. \n",
      "To ensure compatibility please install the latest bug fix release matching the minor version of your backend (3.7) by running 'pip install hopsworks==3.7.*'\n"
     ]
    },
    {
     "name": "stdout",
     "output_type": "stream",
     "text": [
      "\n",
      "Logged in to project, explore it here https://c.app.hopsworks.ai:443/p/711829\n",
      "Connected. Call `.close()` to terminate connection gracefully.\n",
      "Downloading model artifact (0 dirs, 1 files)... DONE\r"
     ]
    }
   ],
   "source": [
    "MODEL_NAME = 'catboost_eth_returns' # this one predicts tmw_1_0_percent_increase_binary\n",
    "\n",
    "# ***** later implement code that checks the latest model version and pulls that one\n",
    "# def pull_model(model_name, model_version):\n",
    "model = pull_model(MODEL_NAME, 1)[0]"
   ]
  },
  {
   "cell_type": "markdown",
   "metadata": {},
   "source": [
    "### Define predictors, the input data points, and get a prediction for tmw_1_0_percent_increase_binary"
   ]
  },
  {
   "cell_type": "code",
   "execution_count": 4,
   "metadata": {},
   "outputs": [
    {
     "data": {
      "text/html": [
       "<div>\n",
       "<style scoped>\n",
       "    .dataframe tbody tr th:only-of-type {\n",
       "        vertical-align: middle;\n",
       "    }\n",
       "\n",
       "    .dataframe tbody tr th {\n",
       "        vertical-align: top;\n",
       "    }\n",
       "\n",
       "    .dataframe thead th {\n",
       "        text-align: right;\n",
       "    }\n",
       "</style>\n",
       "<table border=\"1\" class=\"dataframe\">\n",
       "  <thead>\n",
       "    <tr style=\"text-align: right;\">\n",
       "      <th></th>\n",
       "      <th>rsi_2</th>\n",
       "      <th>volume_rsi_2</th>\n",
       "      <th>spread_rsi_2</th>\n",
       "      <th>last_2_day_80th_pct_volume_change_count</th>\n",
       "      <th>last_2_day_60th_to_70th_pct_spread_count</th>\n",
       "      <th>last_2_day_40th_pct_spread_count</th>\n",
       "      <th>rsi_5</th>\n",
       "      <th>volume_rsi_5</th>\n",
       "      <th>spread_rsi_5</th>\n",
       "      <th>last_5_day_60th_pct_price_change_count</th>\n",
       "      <th>...</th>\n",
       "      <th>last_100_day_40th_to_50th_pct_spread_count</th>\n",
       "      <th>last_100_day_50th_to_60th_pct_spread_count</th>\n",
       "      <th>last_100_day_60th_to_70th_pct_spread_count</th>\n",
       "      <th>last_100_day_70th_to_80th_pct_spread_count</th>\n",
       "      <th>last_100_day_90th_to_95th_pct_spread_count</th>\n",
       "      <th>last_100_day_40th_pct_spread_count</th>\n",
       "      <th>last_100_day_50th_pct_spread_count</th>\n",
       "      <th>last_100_day_60th_pct_spread_count</th>\n",
       "      <th>last_100_day_80th_pct_spread_count</th>\n",
       "      <th>last_100_day_90th_pct_spread_count</th>\n",
       "    </tr>\n",
       "  </thead>\n",
       "  <tbody>\n",
       "    <tr>\n",
       "      <th>3089</th>\n",
       "      <td>48.942</td>\n",
       "      <td>17.943208</td>\n",
       "      <td>36.925916</td>\n",
       "      <td>0.0</td>\n",
       "      <td>0.0</td>\n",
       "      <td>0.0</td>\n",
       "      <td>57.27565</td>\n",
       "      <td>37.215467</td>\n",
       "      <td>43.583758</td>\n",
       "      <td>2.0</td>\n",
       "      <td>...</td>\n",
       "      <td>14.0</td>\n",
       "      <td>11.0</td>\n",
       "      <td>10.0</td>\n",
       "      <td>8.0</td>\n",
       "      <td>3.0</td>\n",
       "      <td>50.0</td>\n",
       "      <td>36.0</td>\n",
       "      <td>25.0</td>\n",
       "      <td>7.0</td>\n",
       "      <td>3.0</td>\n",
       "    </tr>\n",
       "  </tbody>\n",
       "</table>\n",
       "<p>1 rows × 96 columns</p>\n",
       "</div>"
      ],
      "text/plain": [
       "       rsi_2  volume_rsi_2  spread_rsi_2  \\\n",
       "3089  48.942     17.943208     36.925916   \n",
       "\n",
       "      last_2_day_80th_pct_volume_change_count  \\\n",
       "3089                                      0.0   \n",
       "\n",
       "      last_2_day_60th_to_70th_pct_spread_count  \\\n",
       "3089                                       0.0   \n",
       "\n",
       "      last_2_day_40th_pct_spread_count     rsi_5  volume_rsi_5  spread_rsi_5  \\\n",
       "3089                               0.0  57.27565     37.215467     43.583758   \n",
       "\n",
       "      last_5_day_60th_pct_price_change_count  ...  \\\n",
       "3089                                     2.0  ...   \n",
       "\n",
       "      last_100_day_40th_to_50th_pct_spread_count  \\\n",
       "3089                                        14.0   \n",
       "\n",
       "      last_100_day_50th_to_60th_pct_spread_count  \\\n",
       "3089                                        11.0   \n",
       "\n",
       "      last_100_day_60th_to_70th_pct_spread_count  \\\n",
       "3089                                        10.0   \n",
       "\n",
       "      last_100_day_70th_to_80th_pct_spread_count  \\\n",
       "3089                                         8.0   \n",
       "\n",
       "      last_100_day_90th_to_95th_pct_spread_count  \\\n",
       "3089                                         3.0   \n",
       "\n",
       "      last_100_day_40th_pct_spread_count  last_100_day_50th_pct_spread_count  \\\n",
       "3089                                50.0                                36.0   \n",
       "\n",
       "      last_100_day_60th_pct_spread_count  last_100_day_80th_pct_spread_count  \\\n",
       "3089                                25.0                                 7.0   \n",
       "\n",
       "      last_100_day_90th_pct_spread_count  \n",
       "3089                                 3.0  \n",
       "\n",
       "[1 rows x 96 columns]"
      ]
     },
     "execution_count": 4,
     "metadata": {},
     "output_type": "execute_result"
    }
   ],
   "source": [
    "predictors_96 = ['rsi_2', 'volume_rsi_2', 'spread_rsi_2', 'last_2_day_80th_pct_volume_change_count', 'last_2_day_60th_to_70th_pct_spread_count', 'last_2_day_40th_pct_spread_count', 'rsi_5', 'volume_rsi_5', 'spread_rsi_5', 'last_5_day_60th_pct_price_change_count', 'last_5_day_70th_pct_price_change_count', 'rsi_10', 'volume_rsi_10', 'spread_rsi_10', 'last_10_day_40th_to_50th_pct_price_change_count', 'last_10_day_60th_pct_price_change_count', 'last_10_day_70th_to_80th_pct_volume_change_count', 'last_10_day_80th_to_90th_pct_spread_count', 'last_10_day_40th_pct_spread_count', 'last_10_day_50th_pct_spread_count', 'last_10_day_70th_pct_spread_count', 'last_10_day_80th_pct_spread_count', 'rsi_25', 'volume_rsi_25', 'spread_rsi_25', 'last_25_day_40th_to_50th_pct_price_change_count', 'last_25_day_70th_to_80th_pct_price_change_count', 'last_25_day_80th_to_90th_pct_price_change_count', 'last_25_day_40th_pct_price_change_count', 'last_25_day_50th_pct_price_change_count', 'last_25_day_80th_pct_price_change_count', 'last_25_day_40th_to_50th_pct_volume_change_count', 'last_25_day_50th_to_60th_pct_volume_change_count', 'last_25_day_60th_to_70th_pct_volume_change_count', 'last_25_day_70th_to_80th_pct_volume_change_count', 'last_25_day_80th_to_90th_pct_volume_change_count', 'last_25_day_50th_pct_volume_change_count', 'last_25_day_60th_pct_volume_change_count', 'last_25_day_70th_pct_volume_change_count', 'last_25_day_80th_pct_volume_change_count', 'last_25_day_40th_to_50th_pct_spread_count', 'last_25_day_50th_to_60th_pct_spread_count', 'last_25_day_60th_to_70th_pct_spread_count', 'last_25_day_70th_to_80th_pct_spread_count', 'last_25_day_80th_to_90th_pct_spread_count', 'last_25_day_40th_pct_spread_count', 'last_25_day_60th_pct_spread_count', 'last_25_day_70th_pct_spread_count', 'last_25_day_90th_pct_spread_count', 'rsi_50', 'last_50_day_50th_to_60th_pct_price_change_count', 'last_50_day_60th_to_70th_pct_price_change_count', 'last_50_day_70th_to_80th_pct_price_change_count', 'last_50_day_40th_pct_price_change_count', 'last_50_day_50th_pct_price_change_count', 'last_50_day_70th_pct_price_change_count', 'last_50_day_40th_to_50th_pct_volume_change_count', 'last_50_day_50th_to_60th_pct_volume_change_count', 'last_50_day_50th_pct_volume_change_count', 'last_50_day_80th_pct_volume_change_count', 'last_50_day_40th_to_50th_pct_spread_count', 'last_50_day_50th_to_60th_pct_spread_count', 'last_50_day_60th_to_70th_pct_spread_count', 'last_50_day_70th_to_80th_pct_spread_count', 'last_50_day_80th_to_90th_pct_spread_count', 'last_50_day_40th_pct_spread_count', 'last_50_day_50th_pct_spread_count', 'last_50_day_70th_pct_spread_count', 'last_50_day_90th_pct_spread_count', 'rsi_100', 'last_100_day_60th_to_70th_pct_price_change_count', 'last_100_day_80th_to_90th_pct_price_change_count', 'last_100_day_90th_to_95th_pct_price_change_count', 'last_100_day_40th_pct_price_change_count', 'last_100_day_50th_pct_price_change_count', 'last_100_day_60th_pct_price_change_count', 'last_100_day_80th_pct_price_change_count', 'last_100_day_40th_to_50th_pct_volume_change_count', 'last_100_day_50th_to_60th_pct_volume_change_count', 'last_100_day_60th_to_70th_pct_volume_change_count', 'last_100_day_70th_to_80th_pct_volume_change_count', 'last_100_day_80th_to_90th_pct_volume_change_count', 'last_100_day_40th_pct_volume_change_count', 'last_100_day_60th_pct_volume_change_count', 'last_100_day_80th_pct_volume_change_count', 'last_100_day_90th_pct_volume_change_count', 'last_100_day_40th_to_50th_pct_spread_count', 'last_100_day_50th_to_60th_pct_spread_count', 'last_100_day_60th_to_70th_pct_spread_count', 'last_100_day_70th_to_80th_pct_spread_count', 'last_100_day_90th_to_95th_pct_spread_count', 'last_100_day_40th_pct_spread_count', 'last_100_day_50th_pct_spread_count', 'last_100_day_60th_pct_spread_count', 'last_100_day_80th_pct_spread_count', 'last_100_day_90th_pct_spread_count']\n",
    "response_var = 'tmw_1_0_percent_increase_binary'\n",
    "\n",
    "x0 = eth_today[predictors_96]\n",
    "x0"
   ]
  },
  {
   "cell_type": "code",
   "execution_count": 5,
   "metadata": {},
   "outputs": [
    {
     "data": {
      "text/plain": [
       "0.364675"
      ]
     },
     "execution_count": 5,
     "metadata": {},
     "output_type": "execute_result"
    }
   ],
   "source": [
    "prediction = round(model.predict_proba(x0)[:, 1][0], 6)\n",
    "prediction"
   ]
  },
  {
   "cell_type": "markdown",
   "metadata": {},
   "source": [
    "### Update our Hopsworks predictions data with this new prediction"
   ]
  },
  {
   "cell_type": "code",
   "execution_count": 6,
   "metadata": {},
   "outputs": [
    {
     "name": "stdout",
     "output_type": "stream",
     "text": [
      "Connection closed.\n",
      "Connected. Call `.close()` to terminate connection gracefully.\n"
     ]
    },
    {
     "name": "stderr",
     "output_type": "stream",
     "text": [
      "\n",
      "\n",
      "UserWarning: The installed hopsworks client version 3.4.4 may not be compatible with the connected Hopsworks backend version 3.7.1. \n",
      "To ensure compatibility please install the latest bug fix release matching the minor version of your backend (3.7) by running 'pip install hopsworks==3.7.*'\n"
     ]
    },
    {
     "name": "stdout",
     "output_type": "stream",
     "text": [
      "\n",
      "Logged in to project, explore it here https://c.app.hopsworks.ai:443/p/711829\n",
      "Connected. Call `.close()` to terminate connection gracefully.\n",
      "Feature view already existed. Skip creation.\n",
      "Finished: Reading data from Hopsworks, using ArrowFlight (0.82s) \n"
     ]
    },
    {
     "name": "stderr",
     "output_type": "stream",
     "text": [
      "VersionWarning: Incremented version to `12`.\n"
     ]
    },
    {
     "data": {
      "text/html": [
       "<div>\n",
       "<style scoped>\n",
       "    .dataframe tbody tr th:only-of-type {\n",
       "        vertical-align: middle;\n",
       "    }\n",
       "\n",
       "    .dataframe tbody tr th {\n",
       "        vertical-align: top;\n",
       "    }\n",
       "\n",
       "    .dataframe thead th {\n",
       "        text-align: right;\n",
       "    }\n",
       "</style>\n",
       "<table border=\"1\" class=\"dataframe\">\n",
       "  <thead>\n",
       "    <tr style=\"text-align: right;\">\n",
       "      <th></th>\n",
       "      <th>date</th>\n",
       "      <th>high</th>\n",
       "      <th>close</th>\n",
       "      <th>tmw_percent_increase_to_avg_high_low</th>\n",
       "      <th>tmw_1_0_percent_increase_binary</th>\n",
       "      <th>predicted_probability</th>\n",
       "    </tr>\n",
       "  </thead>\n",
       "  <tbody>\n",
       "    <tr>\n",
       "      <th>0</th>\n",
       "      <td>2018-08-11</td>\n",
       "      <td>334.260000</td>\n",
       "      <td>322.110000</td>\n",
       "      <td>0.006116</td>\n",
       "      <td>0.0</td>\n",
       "      <td>0.422378</td>\n",
       "    </tr>\n",
       "    <tr>\n",
       "      <th>1</th>\n",
       "      <td>2018-08-12</td>\n",
       "      <td>328.590000</td>\n",
       "      <td>319.570000</td>\n",
       "      <td>-0.045514</td>\n",
       "      <td>0.0</td>\n",
       "      <td>0.248157</td>\n",
       "    </tr>\n",
       "    <tr>\n",
       "      <th>2</th>\n",
       "      <td>2018-08-13</td>\n",
       "      <td>323.550000</td>\n",
       "      <td>286.500000</td>\n",
       "      <td>-0.013438</td>\n",
       "      <td>0.0</td>\n",
       "      <td>0.362669</td>\n",
       "    </tr>\n",
       "    <tr>\n",
       "      <th>3</th>\n",
       "      <td>2018-08-14</td>\n",
       "      <td>286.370000</td>\n",
       "      <td>278.930000</td>\n",
       "      <td>0.050353</td>\n",
       "      <td>1.0</td>\n",
       "      <td>0.645693</td>\n",
       "    </tr>\n",
       "    <tr>\n",
       "      <th>4</th>\n",
       "      <td>2018-08-15</td>\n",
       "      <td>303.590000</td>\n",
       "      <td>282.360000</td>\n",
       "      <td>0.038621</td>\n",
       "      <td>1.0</td>\n",
       "      <td>0.408482</td>\n",
       "    </tr>\n",
       "    <tr>\n",
       "      <th>...</th>\n",
       "      <td>...</td>\n",
       "      <td>...</td>\n",
       "      <td>...</td>\n",
       "      <td>...</td>\n",
       "      <td>...</td>\n",
       "      <td>...</td>\n",
       "    </tr>\n",
       "    <tr>\n",
       "      <th>2085</th>\n",
       "      <td>2024-05-15</td>\n",
       "      <td>3040.591286</td>\n",
       "      <td>3035.758955</td>\n",
       "      <td>-0.016662</td>\n",
       "      <td>0.0</td>\n",
       "      <td>0.396109</td>\n",
       "    </tr>\n",
       "    <tr>\n",
       "      <th>2086</th>\n",
       "      <td>2024-05-16</td>\n",
       "      <td>3026.768367</td>\n",
       "      <td>2943.585128</td>\n",
       "      <td>0.055185</td>\n",
       "      <td>1.0</td>\n",
       "      <td>0.386518</td>\n",
       "    </tr>\n",
       "    <tr>\n",
       "      <th>2087</th>\n",
       "      <td>2024-05-17</td>\n",
       "      <td>3116.054991</td>\n",
       "      <td>3095.996844</td>\n",
       "      <td>0.011787</td>\n",
       "      <td>1.0</td>\n",
       "      <td>0.413199</td>\n",
       "    </tr>\n",
       "    <tr>\n",
       "      <th>2088</th>\n",
       "      <td>2024-05-18</td>\n",
       "      <td>3144.431575</td>\n",
       "      <td>3120.549378</td>\n",
       "      <td>-0.004991</td>\n",
       "      <td>0.0</td>\n",
       "      <td>0.372555</td>\n",
       "    </tr>\n",
       "    <tr>\n",
       "      <th>2089</th>\n",
       "      <td>2024-05-19</td>\n",
       "      <td>3138.626480</td>\n",
       "      <td>3071.324418</td>\n",
       "      <td>NaN</td>\n",
       "      <td>NaN</td>\n",
       "      <td>0.376897</td>\n",
       "    </tr>\n",
       "  </tbody>\n",
       "</table>\n",
       "<p>2090 rows × 6 columns</p>\n",
       "</div>"
      ],
      "text/plain": [
       "            date         high        close  \\\n",
       "0     2018-08-11   334.260000   322.110000   \n",
       "1     2018-08-12   328.590000   319.570000   \n",
       "2     2018-08-13   323.550000   286.500000   \n",
       "3     2018-08-14   286.370000   278.930000   \n",
       "4     2018-08-15   303.590000   282.360000   \n",
       "...          ...          ...          ...   \n",
       "2085  2024-05-15  3040.591286  3035.758955   \n",
       "2086  2024-05-16  3026.768367  2943.585128   \n",
       "2087  2024-05-17  3116.054991  3095.996844   \n",
       "2088  2024-05-18  3144.431575  3120.549378   \n",
       "2089  2024-05-19  3138.626480  3071.324418   \n",
       "\n",
       "      tmw_percent_increase_to_avg_high_low  tmw_1_0_percent_increase_binary  \\\n",
       "0                                 0.006116                              0.0   \n",
       "1                                -0.045514                              0.0   \n",
       "2                                -0.013438                              0.0   \n",
       "3                                 0.050353                              1.0   \n",
       "4                                 0.038621                              1.0   \n",
       "...                                    ...                              ...   \n",
       "2085                             -0.016662                              0.0   \n",
       "2086                              0.055185                              1.0   \n",
       "2087                              0.011787                              1.0   \n",
       "2088                             -0.004991                              0.0   \n",
       "2089                                   NaN                              NaN   \n",
       "\n",
       "      predicted_probability  \n",
       "0                  0.422378  \n",
       "1                  0.248157  \n",
       "2                  0.362669  \n",
       "3                  0.645693  \n",
       "4                  0.408482  \n",
       "...                     ...  \n",
       "2085               0.396109  \n",
       "2086               0.386518  \n",
       "2087               0.413199  \n",
       "2088               0.372555  \n",
       "2089               0.376897  \n",
       "\n",
       "[2090 rows x 6 columns]"
      ]
     },
     "execution_count": 6,
     "metadata": {},
     "output_type": "execute_result"
    }
   ],
   "source": [
    "previous_predictions = pull_data('eth_ohlc_predictions', 2, 'eth_ohlc_predictions', 2)\n",
    "previous_predictions"
   ]
  },
  {
   "cell_type": "code",
   "execution_count": 7,
   "metadata": {},
   "outputs": [
    {
     "name": "stderr",
     "output_type": "stream",
     "text": [
      "SettingWithCopyWarning: \n",
      "A value is trying to be set on a copy of a slice from a DataFrame.\n",
      "Try using .loc[row_indexer,col_indexer] = value instead\n",
      "\n",
      "See the caveats in the documentation: https://pandas.pydata.org/pandas-docs/stable/user_guide/indexing.html#returning-a-view-versus-a-copy\n"
     ]
    },
    {
     "data": {
      "text/html": [
       "<div>\n",
       "<style scoped>\n",
       "    .dataframe tbody tr th:only-of-type {\n",
       "        vertical-align: middle;\n",
       "    }\n",
       "\n",
       "    .dataframe tbody tr th {\n",
       "        vertical-align: top;\n",
       "    }\n",
       "\n",
       "    .dataframe thead th {\n",
       "        text-align: right;\n",
       "    }\n",
       "</style>\n",
       "<table border=\"1\" class=\"dataframe\">\n",
       "  <thead>\n",
       "    <tr style=\"text-align: right;\">\n",
       "      <th></th>\n",
       "      <th>date</th>\n",
       "      <th>high</th>\n",
       "      <th>close</th>\n",
       "      <th>tmw_percent_increase_to_avg_high_low</th>\n",
       "      <th>tmw_1_0_percent_increase_binary</th>\n",
       "      <th>predicted_probability</th>\n",
       "    </tr>\n",
       "  </thead>\n",
       "  <tbody>\n",
       "    <tr>\n",
       "      <th>3086</th>\n",
       "      <td>2024-05-16</td>\n",
       "      <td>3026.768367</td>\n",
       "      <td>2943.585128</td>\n",
       "      <td>NaN</td>\n",
       "      <td>NaN</td>\n",
       "      <td>0.386518</td>\n",
       "    </tr>\n",
       "  </tbody>\n",
       "</table>\n",
       "</div>"
      ],
      "text/plain": [
       "            date         high        close  \\\n",
       "3086  2024-05-16  3026.768367  2943.585128   \n",
       "\n",
       "      tmw_percent_increase_to_avg_high_low  tmw_1_0_percent_increase_binary  \\\n",
       "3086                                   NaN                              NaN   \n",
       "\n",
       "      predicted_probability  \n",
       "3086               0.386518  "
      ]
     },
     "execution_count": 7,
     "metadata": {},
     "output_type": "execute_result"
    }
   ],
   "source": [
    "cols = ['date', 'high', 'close', 'tmw_percent_increase_to_avg_high_low', 'tmw_1_0_percent_increase_binary']\n",
    "eth_today_updated = eth_today[cols]\n",
    "eth_today_updated['predicted_probability'] = prediction\n",
    "\n",
    "eth_today_updated"
   ]
  },
  {
   "cell_type": "code",
   "execution_count": 8,
   "metadata": {},
   "outputs": [],
   "source": [
    "# Check if the date from eth_yesterday is not in previous_predictions\n",
    "if eth_today_updated['date'].iloc[0] not in previous_predictions['date'].values:\n",
    "\n",
    "    # Append eth_yesterday to previous_predictions\n",
    "    predictions_updated = pd.concat([previous_predictions, eth_today_updated], ignore_index=True)\n",
    "\n",
    "    # Update the last row of previous_predictions with values from eth_last_2_days\n",
    "    predictions_updated.at[predictions_updated.index[-2], 'tmw_percent_increase_to_avg_high_low'] = eth_last_2_days['tmw_percent_increase_to_avg_high_low'].iloc[-2]\n",
    "    predictions_updated.at[predictions_updated.index[-2], 'tmw_1_0_percent_increase_binary'] = eth_last_2_days['tmw_1_0_percent_increase_binary'].iloc[-2]\n",
    "else:\n",
    "    predictions_updated = previous_predictions\n",
    "    print('eth_yesterday was already in previous_predictions')"
   ]
  },
  {
   "cell_type": "markdown",
   "metadata": {},
   "source": [
    "### Put back into Hopsworks"
   ]
  },
  {
   "cell_type": "code",
   "execution_count": 10,
   "metadata": {},
   "outputs": [
    {
     "data": {
      "text/html": [
       "<div>\n",
       "<style scoped>\n",
       "    .dataframe tbody tr th:only-of-type {\n",
       "        vertical-align: middle;\n",
       "    }\n",
       "\n",
       "    .dataframe tbody tr th {\n",
       "        vertical-align: top;\n",
       "    }\n",
       "\n",
       "    .dataframe thead th {\n",
       "        text-align: right;\n",
       "    }\n",
       "</style>\n",
       "<table border=\"1\" class=\"dataframe\">\n",
       "  <thead>\n",
       "    <tr style=\"text-align: right;\">\n",
       "      <th></th>\n",
       "      <th>date</th>\n",
       "      <th>high</th>\n",
       "      <th>close</th>\n",
       "      <th>tmw_percent_increase_to_avg_high_low</th>\n",
       "      <th>tmw_1_0_percent_increase_binary</th>\n",
       "      <th>predicted_probability</th>\n",
       "    </tr>\n",
       "  </thead>\n",
       "  <tbody>\n",
       "    <tr>\n",
       "      <th>0</th>\n",
       "      <td>2018-08-11</td>\n",
       "      <td>334.260000</td>\n",
       "      <td>322.110000</td>\n",
       "      <td>0.006116</td>\n",
       "      <td>0.0</td>\n",
       "      <td>0.422378</td>\n",
       "    </tr>\n",
       "    <tr>\n",
       "      <th>1</th>\n",
       "      <td>2018-08-12</td>\n",
       "      <td>328.590000</td>\n",
       "      <td>319.570000</td>\n",
       "      <td>-0.045514</td>\n",
       "      <td>0.0</td>\n",
       "      <td>0.248157</td>\n",
       "    </tr>\n",
       "    <tr>\n",
       "      <th>2</th>\n",
       "      <td>2018-08-13</td>\n",
       "      <td>323.550000</td>\n",
       "      <td>286.500000</td>\n",
       "      <td>-0.013438</td>\n",
       "      <td>0.0</td>\n",
       "      <td>0.362669</td>\n",
       "    </tr>\n",
       "    <tr>\n",
       "      <th>3</th>\n",
       "      <td>2018-08-14</td>\n",
       "      <td>286.370000</td>\n",
       "      <td>278.930000</td>\n",
       "      <td>0.050353</td>\n",
       "      <td>1.0</td>\n",
       "      <td>0.645693</td>\n",
       "    </tr>\n",
       "    <tr>\n",
       "      <th>4</th>\n",
       "      <td>2018-08-15</td>\n",
       "      <td>303.590000</td>\n",
       "      <td>282.360000</td>\n",
       "      <td>0.038621</td>\n",
       "      <td>1.0</td>\n",
       "      <td>0.408482</td>\n",
       "    </tr>\n",
       "    <tr>\n",
       "      <th>...</th>\n",
       "      <td>...</td>\n",
       "      <td>...</td>\n",
       "      <td>...</td>\n",
       "      <td>...</td>\n",
       "      <td>...</td>\n",
       "      <td>...</td>\n",
       "    </tr>\n",
       "    <tr>\n",
       "      <th>2082</th>\n",
       "      <td>2024-05-12</td>\n",
       "      <td>2951.000000</td>\n",
       "      <td>2931.000000</td>\n",
       "      <td>0.010926</td>\n",
       "      <td>1.0</td>\n",
       "      <td>0.354857</td>\n",
       "    </tr>\n",
       "    <tr>\n",
       "      <th>2083</th>\n",
       "      <td>2024-05-13</td>\n",
       "      <td>2984.551884</td>\n",
       "      <td>2948.303455</td>\n",
       "      <td>-0.009737</td>\n",
       "      <td>0.0</td>\n",
       "      <td>0.463068</td>\n",
       "    </tr>\n",
       "    <tr>\n",
       "      <th>2084</th>\n",
       "      <td>2024-05-14</td>\n",
       "      <td>2957.396066</td>\n",
       "      <td>2881.795992</td>\n",
       "      <td>0.054264</td>\n",
       "      <td>1.0</td>\n",
       "      <td>0.432901</td>\n",
       "    </tr>\n",
       "    <tr>\n",
       "      <th>2085</th>\n",
       "      <td>2024-05-15</td>\n",
       "      <td>3040.591286</td>\n",
       "      <td>3035.758955</td>\n",
       "      <td>-0.016662</td>\n",
       "      <td>0.0</td>\n",
       "      <td>0.396109</td>\n",
       "    </tr>\n",
       "    <tr>\n",
       "      <th>2086</th>\n",
       "      <td>2024-05-16</td>\n",
       "      <td>3026.768367</td>\n",
       "      <td>2943.585128</td>\n",
       "      <td>NaN</td>\n",
       "      <td>NaN</td>\n",
       "      <td>0.386518</td>\n",
       "    </tr>\n",
       "  </tbody>\n",
       "</table>\n",
       "<p>2087 rows × 6 columns</p>\n",
       "</div>"
      ],
      "text/plain": [
       "            date         high        close  \\\n",
       "0     2018-08-11   334.260000   322.110000   \n",
       "1     2018-08-12   328.590000   319.570000   \n",
       "2     2018-08-13   323.550000   286.500000   \n",
       "3     2018-08-14   286.370000   278.930000   \n",
       "4     2018-08-15   303.590000   282.360000   \n",
       "...          ...          ...          ...   \n",
       "2082  2024-05-12  2951.000000  2931.000000   \n",
       "2083  2024-05-13  2984.551884  2948.303455   \n",
       "2084  2024-05-14  2957.396066  2881.795992   \n",
       "2085  2024-05-15  3040.591286  3035.758955   \n",
       "2086  2024-05-16  3026.768367  2943.585128   \n",
       "\n",
       "      tmw_percent_increase_to_avg_high_low  tmw_1_0_percent_increase_binary  \\\n",
       "0                                 0.006116                              0.0   \n",
       "1                                -0.045514                              0.0   \n",
       "2                                -0.013438                              0.0   \n",
       "3                                 0.050353                              1.0   \n",
       "4                                 0.038621                              1.0   \n",
       "...                                    ...                              ...   \n",
       "2082                              0.010926                              1.0   \n",
       "2083                             -0.009737                              0.0   \n",
       "2084                              0.054264                              1.0   \n",
       "2085                             -0.016662                              0.0   \n",
       "2086                                   NaN                              NaN   \n",
       "\n",
       "      predicted_probability  \n",
       "0                  0.422378  \n",
       "1                  0.248157  \n",
       "2                  0.362669  \n",
       "3                  0.645693  \n",
       "4                  0.408482  \n",
       "...                     ...  \n",
       "2082               0.354857  \n",
       "2083               0.463068  \n",
       "2084               0.432901  \n",
       "2085               0.396109  \n",
       "2086               0.386518  \n",
       "\n",
       "[2087 rows x 6 columns]"
      ]
     },
     "execution_count": 10,
     "metadata": {},
     "output_type": "execute_result"
    }
   ],
   "source": [
    "predictions_updated"
   ]
  },
  {
   "cell_type": "code",
   "execution_count": 11,
   "metadata": {},
   "outputs": [
    {
     "name": "stdout",
     "output_type": "stream",
     "text": [
      "Connection closed.\n",
      "Connected. Call `.close()` to terminate connection gracefully.\n"
     ]
    },
    {
     "name": "stderr",
     "output_type": "stream",
     "text": [
      "\n",
      "\n",
      "UserWarning: The installed hopsworks client version 3.4.4 may not be compatible with the connected Hopsworks backend version 3.7.1. \n",
      "To ensure compatibility please install the latest bug fix release matching the minor version of your backend (3.7) by running 'pip install hopsworks==3.7.*'\n"
     ]
    },
    {
     "name": "stdout",
     "output_type": "stream",
     "text": [
      "\n",
      "Logged in to project, explore it here https://c.app.hopsworks.ai:443/p/711829\n",
      "Connected. Call `.close()` to terminate connection gracefully.\n"
     ]
    },
    {
     "name": "stderr",
     "output_type": "stream",
     "text": [
      "Uploading Dataframe: 100.00% |██████████| Rows 2087/2087 | Elapsed Time: 00:03 | Remaining Time: 00:00\n"
     ]
    },
    {
     "name": "stdout",
     "output_type": "stream",
     "text": [
      "Launching job: eth_ohlc_predictions_2_offline_fg_materialization\n",
      "Job started successfully, you can follow the progress at \n",
      "https://c.app.hopsworks.ai/p/711829/jobs/named/eth_ohlc_predictions_2_offline_fg_materialization/executions\n"
     ]
    }
   ],
   "source": [
    "# make sure some of the column types are what hopsworks wants\n",
    "predictions_updated['date'] = pd.to_datetime(predictions_updated['date']).dt.tz_localize(None)\n",
    "predictions_updated['tmw_1_0_percent_increase_binary'] = predictions_updated['tmw_1_0_percent_increase_binary'].astype('Int64')\n",
    "\n",
    "upload_data(predictions_updated, 'eth_ohlc_predictions', 2)"
   ]
  }
 ],
 "metadata": {
  "kernelspec": {
   "display_name": "venv_crypto_prediction",
   "language": "python",
   "name": "python3"
  },
  "language_info": {
   "codemirror_mode": {
    "name": "ipython",
    "version": 3
   },
   "file_extension": ".py",
   "mimetype": "text/x-python",
   "name": "python",
   "nbconvert_exporter": "python",
   "pygments_lexer": "ipython3",
   "version": "3.10.5"
  }
 },
 "nbformat": 4,
 "nbformat_minor": 2
}
