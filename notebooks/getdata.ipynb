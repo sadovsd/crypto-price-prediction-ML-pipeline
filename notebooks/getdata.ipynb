{
 "cells": [
  {
   "cell_type": "code",
   "execution_count": 1,
   "metadata": {},
   "outputs": [],
   "source": [
    "import pandas as pd\n",
    "import requests\n",
    "from datetime import datetime, timedelta\n",
    "import time\n",
    "import os\n",
    "\n",
    "def fetch_data_range(crypto, start_date, end_date):\n",
    "    # Create an empty DataFrame to hold all data\n",
    "    all_data = pd.DataFrame()\n",
    "\n",
    "    current_date = start_date\n",
    "    while current_date < end_date:\n",
    "        next_date = current_date + timedelta(days=1)\n",
    "\n",
    "        # API endpoint and parameters\n",
    "        url = f\"https://api.coingecko.com/api/v3/coins/{crypto}/market_chart/range\"\n",
    "        params = {\n",
    "            'vs_currency': 'usd',\n",
    "            'from': int(current_date.timestamp()),\n",
    "            'to': int(next_date.timestamp())\n",
    "        }\n",
    "\n",
    "        # Fetch data using the safe_request function\n",
    "        response = safe_request(url, params)\n",
    "\n",
    "        if response and response.status_code == 200:\n",
    "            data = response.json()\n",
    "            df = pd.DataFrame(data['prices'], columns=['date', 'price'])\n",
    "            df['date'] = pd.to_datetime(df['date'], unit='ms')\n",
    "            df['market_cap'] = pd.DataFrame(data['market_caps'])[1].values\n",
    "            df['volume_24h'] = pd.DataFrame(data['total_volumes'])[1].values\n",
    "\n",
    "            # Append the daily data to the all_data DataFrame\n",
    "            all_data = pd.concat([all_data, df], ignore_index=True)\n",
    "        else:\n",
    "            print(f\"Failed to fetch data for {current_date}. Status code: {response.status_code}\" if response else \"Failed to fetch data; no response.\")\n",
    "\n",
    "        # Move to the next day\n",
    "        current_date = next_date\n",
    "\n",
    "    # Save the combined DataFrame to a CSV file\n",
    "    os.makedirs('../data/raw/minute5/', exist_ok=True)\n",
    "    all_data.to_csv('../data/raw/minute5/ethereum.csv', index=False)\n",
    "    return all_data\n",
    "\n",
    "# Helper function for handling API requests with retries\n",
    "def safe_request(url, params, retries=5, backoff_factor=0.5):\n",
    "    for i in range(retries):\n",
    "        try:\n",
    "            response = requests.get(url, params=params)\n",
    "            if response.status_code == 200:\n",
    "                return response\n",
    "            elif response.status_code == 429:\n",
    "                # Handle rate limiting\n",
    "                sleep_time = backoff_factor * (2 ** i)\n",
    "                print(f\"Rate limit hit. Waiting {sleep_time:.2f} seconds before retrying...\")\n",
    "                time.sleep(sleep_time)\n",
    "            else:\n",
    "                # Other errors, log and break the retry loop\n",
    "                print(f\"Request failed with status code {response.status_code}.\")\n",
    "                return None\n",
    "        except requests.exceptions.RequestException as e:\n",
    "            print(f\"Request exception: {e}. Retrying...\")\n",
    "            time.sleep(backoff_factor * (2 ** i))\n",
    "    return None\n"
   ]
  },
  {
   "cell_type": "code",
   "execution_count": 5,
   "metadata": {},
   "outputs": [
    {
     "name": "stdout",
     "output_type": "stream",
     "text": [
      "Request failed with status code 401.\n",
      "Failed to fetch data; no response.\n"
     ]
    },
    {
     "data": {
      "text/html": [
       "<div>\n",
       "<style scoped>\n",
       "    .dataframe tbody tr th:only-of-type {\n",
       "        vertical-align: middle;\n",
       "    }\n",
       "\n",
       "    .dataframe tbody tr th {\n",
       "        vertical-align: top;\n",
       "    }\n",
       "\n",
       "    .dataframe thead th {\n",
       "        text-align: right;\n",
       "    }\n",
       "</style>\n",
       "<table border=\"1\" class=\"dataframe\">\n",
       "  <thead>\n",
       "    <tr style=\"text-align: right;\">\n",
       "      <th></th>\n",
       "    </tr>\n",
       "  </thead>\n",
       "  <tbody>\n",
       "  </tbody>\n",
       "</table>\n",
       "</div>"
      ],
      "text/plain": [
       "Empty DataFrame\n",
       "Columns: []\n",
       "Index: []"
      ]
     },
     "execution_count": 5,
     "metadata": {},
     "output_type": "execute_result"
    }
   ],
   "source": [
    "# Usage\n",
    "start_date = datetime(2023, 1, 1)\n",
    "end_date = datetime(2023, 1, 2)\n",
    "fetch_data_range('ethereum', start_date, end_date)"
   ]
  }
 ],
 "metadata": {
  "kernelspec": {
   "display_name": "venv_crypto_prediction",
   "language": "python",
   "name": "python3"
  },
  "language_info": {
   "codemirror_mode": {
    "name": "ipython",
    "version": 3
   },
   "file_extension": ".py",
   "mimetype": "text/x-python",
   "name": "python",
   "nbconvert_exporter": "python",
   "pygments_lexer": "ipython3",
   "version": "3.10.5"
  }
 },
 "nbformat": 4,
 "nbformat_minor": 2
}
