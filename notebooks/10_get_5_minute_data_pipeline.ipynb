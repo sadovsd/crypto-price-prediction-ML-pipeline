{
 "cells": [
  {
   "cell_type": "code",
   "execution_count": 2,
   "metadata": {},
   "outputs": [
    {
     "name": "stderr",
     "output_type": "stream",
     "text": [
      "/Users/davydsadovskyy/GitBackedShit/crypto-prediction/venv_crypto_prediction/lib/python3.10/site-packages/tqdm/auto.py:21: TqdmWarning: IProgress not found. Please update jupyter and ipywidgets. See https://ipywidgets.readthedocs.io/en/stable/user_install.html\n",
      "  from .autonotebook import tqdm as notebook_tqdm\n"
     ]
    },
    {
     "name": "stdout",
     "output_type": "stream",
     "text": [
      "Current Working Directory: /Users/davydsadovskyy/GitBackedShit/crypto-prediction/notebooks\n"
     ]
    }
   ],
   "source": [
    "import pandas as pd\n",
    "import sys\n",
    "import os\n",
    "sys.path.append(os.path.abspath('../'))\n",
    "# from src.load_transform_data import get_new_ethereum_ohlc, get_new_ethereum_ohlc_2\n",
    "from src.hopsworks_connections import pull_data, upload_data, pull_model\n",
    "import numpy as np\n",
    "import requests\n",
    "from datetime import datetime, timedelta\n",
    "import time\n",
    "\n",
    "# Print the current working directory\n",
    "current_working_directory = os.getcwd()\n",
    "print(\"Current Working Directory:\", current_working_directory)"
   ]
  },
  {
   "cell_type": "markdown",
   "metadata": {},
   "source": [
    "### Since it is impossible to get 5-minute, or even hourly historical crypto data without paying alot for an API subscription, I made this pipeline to continously collect the last day's 5-minute data, and upload it to hopsworks feature store. It can be used eventually to get to train a model once there is enough data."
   ]
  },
  {
   "cell_type": "code",
   "execution_count": 1,
   "metadata": {},
   "outputs": [],
   "source": [
    "def fetch_recent_data(crypto):\n",
    "    # 20:00, or 8pm in EST is 12:00 in UTC, which is the cycle by which crypto OHLC are defined\n",
    "    # end_date = datetime.now().replace(hour=20, minute=0, second=0, microsecond=0)\n",
    "    # ^^^ ONLY WHEN RUNING LOCALLY, on github actions this will retrieve different data, so just use datetime.now() and schedule the run at 8pm EST = 0:00 UTC\n",
    "    end_date = datetime.now()\n",
    "    start_date = end_date - timedelta(days=1)\n",
    "\n",
    "    url = f\"https://api.coingecko.com/api/v3/coins/{crypto}/market_chart/range\"\n",
    "    params = {\n",
    "        'vs_currency': 'usd',\n",
    "        'from': int(start_date.timestamp()),\n",
    "        'to': int(end_date.timestamp())\n",
    "    }\n",
    "    \n",
    "    response = safe_request(url, params)\n",
    "    \n",
    "    if response and response.status_code == 200:\n",
    "        data = response.json()\n",
    "        df = pd.DataFrame(data['prices'], columns=['date', 'price'])\n",
    "        df['date'] = pd.to_datetime(df['date'], unit='ms')\n",
    "        df['market_cap'] = pd.DataFrame(data['market_caps'])[1].values\n",
    "        df['volume_24h'] = pd.DataFrame(data['total_volumes'])[1].values\n",
    "    else:\n",
    "        print(f\"Failed to fetch data. Status code: {response.status_code}\" if response else \"Failed to fetch data; no response.\")\n",
    "    \n",
    "    # Include only the earliest day\n",
    "    df['date'] = pd.to_datetime(df['date'])\n",
    "    # Step 2: Extract the date part from the 'datetime' column\n",
    "    df['no_hour_date'] = df['date'].dt.date\n",
    "    earliest_date = df['no_hour_date'].min()\n",
    "    filtered_df = df[df['no_hour_date'] == earliest_date]\n",
    "    filtered_df = filtered_df.drop(columns='no_hour_date')\n",
    "    \n",
    "    return filtered_df\n",
    "\n",
    "def safe_request(url, params, retries=20, backoff_factor=0.5):\n",
    "    for i in range(retries):\n",
    "        try:\n",
    "            response = requests.get(url, params=params)\n",
    "            if response.status_code == 200:\n",
    "                return response\n",
    "            elif response.status_code == 429:\n",
    "                # We're being rate-limited; back off and retry\n",
    "                sleep_time = backoff_factor * (2 ** i)\n",
    "                print(f\"Rate limit hit. Waiting {sleep_time:.2f} seconds before retrying...\")\n",
    "                time.sleep(sleep_time)\n",
    "            else:\n",
    "                # Other errors, break the retry loop and return None\n",
    "                print(f\"Request failed with status code {response.status_code}.\")\n",
    "                return None\n",
    "        except requests.exceptions.RequestException as e:\n",
    "            print(f\"Request exception: {e}. Retrying...\")\n",
    "            time.sleep(backoff_factor * (2 ** i))\n",
    "\n",
    "    return None"
   ]
  },
  {
   "cell_type": "code",
   "execution_count": 14,
   "metadata": {},
   "outputs": [
    {
     "name": "stdout",
     "output_type": "stream",
     "text": [
      "bitcoin 1265699266592\n",
      "ethereum 383647821804\n",
      "tether 110366566872\n",
      "binancecoin 93931760217\n",
      "solana 64256810527\n",
      "usd-coin 33357510296\n",
      "staked-ether 29417207955\n",
      "ripple 29063691769\n",
      "dogecoin 21725876680\n",
      "the-open-network 18666120812\n",
      "cardano 16701195506\n",
      "shiba-inu 15179271796\n",
      "avalanche-2 13444724672\n",
      "tron 10297940663\n",
      "wrapped-bitcoin 9986741003\n",
      "bitcoin-cash 9373655589\n",
      "polkadot 9291260914\n",
      "chainlink 8613059752\n",
      "near 7904626219\n",
      "matic-network 6712641842\n",
      "internet-computer 6330638524\n",
      "litecoin 6315400395\n",
      "uniswap 5915807358\n",
      "leo-token 5319068654\n",
      "dai 5192740779\n"
     ]
    }
   ],
   "source": [
    "def get_top_coins_by_market_cap(): # 5256000\n",
    "    url = \"https://api.coingecko.com/api/v3/coins/markets\"\n",
    "    params = {\n",
    "        'vs_currency': 'usd',\n",
    "        'order': 'market_cap_desc',\n",
    "        'per_page': 25,\n",
    "        'page': 1,\n",
    "        'sparkline': False\n",
    "    }\n",
    "    response = requests.get(url, params=params)\n",
    "    if response.status_code == 200:\n",
    "        data = response.json()\n",
    "        # Extract coin names and market caps\n",
    "        coins_info = [(coin['id'], coin['market_cap']) for coin in data]\n",
    "        return coins_info\n",
    "    else:\n",
    "        return f\"Failed to retrieve data: {response.status_code}\"\n",
    "    \n",
    "# Example usage\n",
    "top_coins = get_top_coins_by_market_cap()\n",
    "for coin_name, market_cap in top_coins:\n",
    "    print(coin_name, market_cap)"
   ]
  },
  {
   "cell_type": "code",
   "execution_count": 12,
   "metadata": {},
   "outputs": [
    {
     "name": "stdout",
     "output_type": "stream",
     "text": [
      "Request failed with status code 404.\n",
      "Failed to fetch data; no response.\n"
     ]
    },
    {
     "ename": "UnboundLocalError",
     "evalue": "local variable 'df' referenced before assignment",
     "output_type": "error",
     "traceback": [
      "\u001b[0;31m---------------------------------------------------------------------------\u001b[0m",
      "\u001b[0;31mUnboundLocalError\u001b[0m                         Traceback (most recent call last)",
      "Cell \u001b[0;32mIn[12], line 1\u001b[0m\n\u001b[0;32m----> 1\u001b[0m eth_raw \u001b[38;5;241m=\u001b[39m \u001b[43mfetch_recent_data\u001b[49m\u001b[43m(\u001b[49m\u001b[38;5;124;43m\"\u001b[39;49m\u001b[38;5;124;43musd coin\u001b[39;49m\u001b[38;5;124;43m\"\u001b[39;49m\u001b[43m)\u001b[49m\n\u001b[1;32m      2\u001b[0m eth_raw\n",
      "Cell \u001b[0;32mIn[1], line 27\u001b[0m, in \u001b[0;36mfetch_recent_data\u001b[0;34m(crypto)\u001b[0m\n\u001b[1;32m     24\u001b[0m     \u001b[38;5;28mprint\u001b[39m(\u001b[38;5;124mf\u001b[39m\u001b[38;5;124m\"\u001b[39m\u001b[38;5;124mFailed to fetch data. Status code: \u001b[39m\u001b[38;5;132;01m{\u001b[39;00mresponse\u001b[38;5;241m.\u001b[39mstatus_code\u001b[38;5;132;01m}\u001b[39;00m\u001b[38;5;124m\"\u001b[39m \u001b[38;5;28;01mif\u001b[39;00m response \u001b[38;5;28;01melse\u001b[39;00m \u001b[38;5;124m\"\u001b[39m\u001b[38;5;124mFailed to fetch data; no response.\u001b[39m\u001b[38;5;124m\"\u001b[39m)\n\u001b[1;32m     26\u001b[0m \u001b[38;5;66;03m# Include only the earliest day\u001b[39;00m\n\u001b[0;32m---> 27\u001b[0m df[\u001b[38;5;124m'\u001b[39m\u001b[38;5;124mdate\u001b[39m\u001b[38;5;124m'\u001b[39m] \u001b[38;5;241m=\u001b[39m pd\u001b[38;5;241m.\u001b[39mto_datetime(\u001b[43mdf\u001b[49m[\u001b[38;5;124m'\u001b[39m\u001b[38;5;124mdate\u001b[39m\u001b[38;5;124m'\u001b[39m])\n\u001b[1;32m     28\u001b[0m \u001b[38;5;66;03m# Step 2: Extract the date part from the 'datetime' column\u001b[39;00m\n\u001b[1;32m     29\u001b[0m df[\u001b[38;5;124m'\u001b[39m\u001b[38;5;124mno_hour_date\u001b[39m\u001b[38;5;124m'\u001b[39m] \u001b[38;5;241m=\u001b[39m df[\u001b[38;5;124m'\u001b[39m\u001b[38;5;124mdate\u001b[39m\u001b[38;5;124m'\u001b[39m]\u001b[38;5;241m.\u001b[39mdt\u001b[38;5;241m.\u001b[39mdate\n",
      "\u001b[0;31mUnboundLocalError\u001b[0m: local variable 'df' referenced before assignment"
     ]
    }
   ],
   "source": [
    "eth_raw = fetch_recent_data(\"usd coin\")\n",
    "eth_raw"
   ]
  }
 ],
 "metadata": {
  "kernelspec": {
   "display_name": "venv_crypto_prediction",
   "language": "python",
   "name": "python3"
  },
  "language_info": {
   "codemirror_mode": {
    "name": "ipython",
    "version": 3
   },
   "file_extension": ".py",
   "mimetype": "text/x-python",
   "name": "python",
   "nbconvert_exporter": "python",
   "pygments_lexer": "ipython3",
   "version": "3.10.5"
  }
 },
 "nbformat": 4,
 "nbformat_minor": 2
}
