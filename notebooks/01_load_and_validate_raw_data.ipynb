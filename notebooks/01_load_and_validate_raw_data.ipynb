{
 "cells": [
  {
   "cell_type": "code",
   "execution_count": null,
   "metadata": {},
   "outputs": [],
   "source": [
    "# # Create a virtual environment\n",
    "# python3 -m venv venv_crypto_prediction\n",
    "\n",
    "# # Activate the virtual environment\n",
    "# source venv_crypto_prediction/bin/activate\n",
    "\n",
    "# # Install packages from requirements.txt\n",
    "# pip install -r requirements.txt\n",
    "\n",
    "# # Add the virtual environment as a Jupyter kernel\n",
    "# python -m ipykernel install --user --name=venv_crypto_prediction --display-name \"Python (venv_crypto_prediction)\""
   ]
  },
  {
   "cell_type": "markdown",
   "metadata": {},
   "source": [
    "### Historical OHLC (open, high, low close) data was downloaded as a .csv from here https://www.coinlore.com/coin/ethereum/historical-data"
   ]
  },
  {
   "cell_type": "code",
   "execution_count": 1,
   "metadata": {},
   "outputs": [
    {
     "ename": "FileNotFoundError",
     "evalue": "[Errno 2] No such file or directory: 'data/historical_ohlc/ethereum_ohlc.csv'",
     "output_type": "error",
     "traceback": [
      "\u001b[0;31m---------------------------------------------------------------------------\u001b[0m",
      "\u001b[0;31mFileNotFoundError\u001b[0m                         Traceback (most recent call last)",
      "Cell \u001b[0;32mIn[1], line 47\u001b[0m\n\u001b[1;32m     43\u001b[0m             row[\u001b[38;5;241m7\u001b[39m] \u001b[38;5;241m=\u001b[39m convert_value(row[\u001b[38;5;241m7\u001b[39m])  \u001b[38;5;66;03m# Market Cap\u001b[39;00m\n\u001b[1;32m     45\u001b[0m             writer\u001b[38;5;241m.\u001b[39mwriterow(row)\n\u001b[0;32m---> 47\u001b[0m \u001b[43mclean_csv\u001b[49m\u001b[43m(\u001b[49m\u001b[38;5;124;43m'\u001b[39;49m\u001b[38;5;124;43mdata/historical_ohlc/ethereum_ohlc.csv\u001b[39;49m\u001b[38;5;124;43m'\u001b[39;49m\u001b[43m,\u001b[49m\u001b[43m \u001b[49m\u001b[38;5;124;43m'\u001b[39;49m\u001b[38;5;124;43mdata/historical_ohlc/ethereum_ohlc_clean.csv\u001b[39;49m\u001b[38;5;124;43m'\u001b[39;49m\u001b[43m)\u001b[49m\n",
      "Cell \u001b[0;32mIn[1], line 22\u001b[0m, in \u001b[0;36mclean_csv\u001b[0;34m(input_file, output_file)\u001b[0m\n\u001b[1;32m     21\u001b[0m \u001b[38;5;28;01mdef\u001b[39;00m \u001b[38;5;21mclean_csv\u001b[39m(input_file, output_file):\n\u001b[0;32m---> 22\u001b[0m     \u001b[38;5;28;01mwith\u001b[39;00m \u001b[38;5;28;43mopen\u001b[39;49m\u001b[43m(\u001b[49m\u001b[43minput_file\u001b[49m\u001b[43m,\u001b[49m\u001b[43m \u001b[49m\u001b[38;5;124;43m'\u001b[39;49m\u001b[38;5;124;43mr\u001b[39;49m\u001b[38;5;124;43m'\u001b[39;49m\u001b[43m,\u001b[49m\u001b[43m \u001b[49m\u001b[43mnewline\u001b[49m\u001b[38;5;241;43m=\u001b[39;49m\u001b[38;5;124;43m'\u001b[39;49m\u001b[38;5;124;43m'\u001b[39;49m\u001b[43m)\u001b[49m \u001b[38;5;28;01mas\u001b[39;00m infile, \u001b[38;5;28mopen\u001b[39m(output_file, \u001b[38;5;124m'\u001b[39m\u001b[38;5;124mw\u001b[39m\u001b[38;5;124m'\u001b[39m, newline\u001b[38;5;241m=\u001b[39m\u001b[38;5;124m'\u001b[39m\u001b[38;5;124m'\u001b[39m) \u001b[38;5;28;01mas\u001b[39;00m outfile:\n\u001b[1;32m     23\u001b[0m         reader \u001b[38;5;241m=\u001b[39m csv\u001b[38;5;241m.\u001b[39mreader(infile)\n\u001b[1;32m     24\u001b[0m         writer \u001b[38;5;241m=\u001b[39m csv\u001b[38;5;241m.\u001b[39mwriter(outfile)\n",
      "File \u001b[0;32m~/GitBackedShit/crypto-prediction/venv_crypto_prediction/lib/python3.10/site-packages/IPython/core/interactiveshell.py:324\u001b[0m, in \u001b[0;36m_modified_open\u001b[0;34m(file, *args, **kwargs)\u001b[0m\n\u001b[1;32m    317\u001b[0m \u001b[38;5;28;01mif\u001b[39;00m file \u001b[38;5;129;01min\u001b[39;00m {\u001b[38;5;241m0\u001b[39m, \u001b[38;5;241m1\u001b[39m, \u001b[38;5;241m2\u001b[39m}:\n\u001b[1;32m    318\u001b[0m     \u001b[38;5;28;01mraise\u001b[39;00m \u001b[38;5;167;01mValueError\u001b[39;00m(\n\u001b[1;32m    319\u001b[0m         \u001b[38;5;124mf\u001b[39m\u001b[38;5;124m\"\u001b[39m\u001b[38;5;124mIPython won\u001b[39m\u001b[38;5;124m'\u001b[39m\u001b[38;5;124mt let you open fd=\u001b[39m\u001b[38;5;132;01m{\u001b[39;00mfile\u001b[38;5;132;01m}\u001b[39;00m\u001b[38;5;124m by default \u001b[39m\u001b[38;5;124m\"\u001b[39m\n\u001b[1;32m    320\u001b[0m         \u001b[38;5;124m\"\u001b[39m\u001b[38;5;124mas it is likely to crash IPython. If you know what you are doing, \u001b[39m\u001b[38;5;124m\"\u001b[39m\n\u001b[1;32m    321\u001b[0m         \u001b[38;5;124m\"\u001b[39m\u001b[38;5;124myou can use builtins\u001b[39m\u001b[38;5;124m'\u001b[39m\u001b[38;5;124m open.\u001b[39m\u001b[38;5;124m\"\u001b[39m\n\u001b[1;32m    322\u001b[0m     )\n\u001b[0;32m--> 324\u001b[0m \u001b[38;5;28;01mreturn\u001b[39;00m \u001b[43mio_open\u001b[49m\u001b[43m(\u001b[49m\u001b[43mfile\u001b[49m\u001b[43m,\u001b[49m\u001b[43m \u001b[49m\u001b[38;5;241;43m*\u001b[39;49m\u001b[43margs\u001b[49m\u001b[43m,\u001b[49m\u001b[43m \u001b[49m\u001b[38;5;241;43m*\u001b[39;49m\u001b[38;5;241;43m*\u001b[39;49m\u001b[43mkwargs\u001b[49m\u001b[43m)\u001b[49m\n",
      "\u001b[0;31mFileNotFoundError\u001b[0m: [Errno 2] No such file or directory: 'data/historical_ohlc/ethereum_ohlc.csv'"
     ]
    }
   ],
   "source": [
    "import csv\n",
    "\n",
    "def convert_value(value):\n",
    "    \"\"\"\n",
    "    Converts a string value to a float. Removes $ signs, and converts\n",
    "    billion (bn), million (m), and thousand (K) values to their numeric equivalents.\n",
    "    \"\"\"\n",
    "    value = value.replace('$', '')  # Remove $ sign to simplify processing\n",
    "    if value[-1].lower() == 'm':\n",
    "        return float(value[:-1]) * 1_000_000\n",
    "    elif value[-1].lower() == 'b':\n",
    "        return float(value[:-1]) * 1_000_000_000\n",
    "    elif value[-1].lower() == 'k':\n",
    "        return float(value[:-1]) * 1_000\n",
    "    elif value[-2:].lower() == 'bn':  # Handle 'bn' for billions\n",
    "        return float(value[:-2]) * 1_000_000_000\n",
    "    else:\n",
    "        return float(value)\n",
    "\n",
    "\n",
    "def clean_csv(input_file, output_file):\n",
    "    with open(input_file, 'r', newline='') as infile, open(output_file, 'w', newline='') as outfile:\n",
    "        reader = csv.reader(infile)\n",
    "        writer = csv.writer(outfile)\n",
    "\n",
    "        # Grab the header and write it straight to the output, no changes needed\n",
    "        header = next(reader)\n",
    "        writer.writerow(header)\n",
    "\n",
    "        for row in reader:\n",
    "            # Convert all the necessary columns\n",
    "            row[1] = convert_value(row[1])  # Open\n",
    "            row[2] = convert_value(row[2])  # High\n",
    "            row[3] = convert_value(row[3])  # Low\n",
    "            row[4] = convert_value(row[4])  # Close\n",
    "            # Make sure to handle the volume correctly now\n",
    "            row[5] = convert_value(row[5])  # Volume\n",
    "            # Assuming Volume(ETH) doesn't need conversion, but let's be safe\n",
    "            try:\n",
    "                row[6] = float(row[6])  # Volume(ETH)\n",
    "            except ValueError:\n",
    "                row[6] = convert_value('$' + row[6])  # Adding $ to handle our conversion function\n",
    "            row[7] = convert_value(row[7])  # Market Cap\n",
    "\n",
    "            writer.writerow(row)\n",
    "\n",
    "clean_csv('data/historical_ohlc/ethereum_ohlc.csv', 'data/historical_ohlc/ethereum_ohlc_clean.csv')\n"
   ]
  }
 ],
 "metadata": {
  "kernelspec": {
   "display_name": "venv_crypto_prediction",
   "language": "python",
   "name": "python3"
  },
  "language_info": {
   "codemirror_mode": {
    "name": "ipython",
    "version": 3
   },
   "file_extension": ".py",
   "mimetype": "text/x-python",
   "name": "python",
   "nbconvert_exporter": "python",
   "pygments_lexer": "ipython3",
   "version": "3.10.5"
  }
 },
 "nbformat": 4,
 "nbformat_minor": 2
}
