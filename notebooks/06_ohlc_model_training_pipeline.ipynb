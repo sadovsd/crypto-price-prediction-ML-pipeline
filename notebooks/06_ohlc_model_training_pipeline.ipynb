{
 "cells": [
  {
   "cell_type": "code",
   "execution_count": 1,
   "metadata": {},
   "outputs": [],
   "source": [
    "%reload_ext autoreload\n",
    "%autoreload 2"
   ]
  },
  {
   "cell_type": "code",
   "execution_count": 2,
   "metadata": {},
   "outputs": [
    {
     "name": "stderr",
     "output_type": "stream",
     "text": [
      "/Users/davydsadovskyy/GitBackedShit/crypto-prediction/venv_crypto_prediction/lib/python3.10/site-packages/tqdm/auto.py:21: TqdmWarning: IProgress not found. Please update jupyter and ipywidgets. See https://ipywidgets.readthedocs.io/en/stable/user_install.html\n",
      "  from .autonotebook import tqdm as notebook_tqdm\n"
     ]
    },
    {
     "name": "stdout",
     "output_type": "stream",
     "text": [
      "Current Working Directory: /Users/davydsadovskyy/GitBackedShit/crypto-prediction/notebooks\n"
     ]
    }
   ],
   "source": [
    "import pandas as pd\n",
    "import sys\n",
    "import os\n",
    "sys.path.append(os.path.abspath('../'))\n",
    "from src.hopsworks_connections import pull_data, upload_model\n",
    "from sklearn.ensemble import RandomForestClassifier\n",
    "from sklearn.metrics import precision_score\n",
    "import joblib\n",
    "\n",
    "# Print the current working directory\n",
    "current_working_directory = os.getcwd()\n",
    "print(\"Current Working Directory:\", current_working_directory)"
   ]
  },
  {
   "cell_type": "markdown",
   "metadata": {},
   "source": [
    "### Get feature/target data from hopsworks, so we can train a model"
   ]
  },
  {
   "cell_type": "code",
   "execution_count": 3,
   "metadata": {},
   "outputs": [
    {
     "name": "stdout",
     "output_type": "stream",
     "text": [
      "Connected. Call `.close()` to terminate connection gracefully.\n"
     ]
    },
    {
     "name": "stderr",
     "output_type": "stream",
     "text": [
      "\n",
      "\n",
      "UserWarning: The installed hopsworks client version 3.4.4 may not be compatible with the connected Hopsworks backend version 3.7.1. \n",
      "To ensure compatibility please install the latest bug fix release matching the minor version of your backend (3.7) by running 'pip install hopsworks==3.7.*'\n"
     ]
    },
    {
     "name": "stdout",
     "output_type": "stream",
     "text": [
      "\n",
      "Logged in to project, explore it here https://c.app.hopsworks.ai:443/p/582805\n",
      "Connected. Call `.close()` to terminate connection gracefully.\n",
      "Feature view created successfully, explore it at \n",
      "https://c.app.hopsworks.ai:443/p/582805/fs/578628/fv/eth_ohlc_transformed/version/1\n",
      "Finished: Reading data from Hopsworks, using ArrowFlight (1.63s) \n"
     ]
    },
    {
     "name": "stderr",
     "output_type": "stream",
     "text": [
      "VersionWarning: Incremented version to `1`.\n"
     ]
    },
    {
     "data": {
      "text/html": [
       "<div>\n",
       "<style scoped>\n",
       "    .dataframe tbody tr th:only-of-type {\n",
       "        vertical-align: middle;\n",
       "    }\n",
       "\n",
       "    .dataframe tbody tr th {\n",
       "        vertical-align: top;\n",
       "    }\n",
       "\n",
       "    .dataframe thead th {\n",
       "        text-align: right;\n",
       "    }\n",
       "</style>\n",
       "<table border=\"1\" class=\"dataframe\">\n",
       "  <thead>\n",
       "    <tr style=\"text-align: right;\">\n",
       "      <th></th>\n",
       "      <th>date</th>\n",
       "      <th>open</th>\n",
       "      <th>high</th>\n",
       "      <th>low</th>\n",
       "      <th>close</th>\n",
       "      <th>volume</th>\n",
       "      <th>volume_eth</th>\n",
       "      <th>market_cap</th>\n",
       "      <th>tmw_avg_high_close</th>\n",
       "      <th>tmw_percent_increase</th>\n",
       "      <th>...</th>\n",
       "      <th>october</th>\n",
       "      <th>november</th>\n",
       "      <th>december</th>\n",
       "      <th>monday</th>\n",
       "      <th>tuesday</th>\n",
       "      <th>wednesday</th>\n",
       "      <th>thursday</th>\n",
       "      <th>friday</th>\n",
       "      <th>saturday</th>\n",
       "      <th>sunday</th>\n",
       "    </tr>\n",
       "  </thead>\n",
       "  <tbody>\n",
       "    <tr>\n",
       "      <th>806</th>\n",
       "      <td>2015-11-15 00:00:00+00:00</td>\n",
       "      <td>0.8912</td>\n",
       "      <td>0.9215</td>\n",
       "      <td>0.8750</td>\n",
       "      <td>0.9064</td>\n",
       "      <td>4.118000e+05</td>\n",
       "      <td>458365.0</td>\n",
       "      <td>6.720000e+07</td>\n",
       "      <td>0.936850</td>\n",
       "      <td>0.032503</td>\n",
       "      <td>...</td>\n",
       "      <td>0</td>\n",
       "      <td>1</td>\n",
       "      <td>0</td>\n",
       "      <td>0</td>\n",
       "      <td>0</td>\n",
       "      <td>0</td>\n",
       "      <td>0</td>\n",
       "      <td>0</td>\n",
       "      <td>0</td>\n",
       "      <td>1</td>\n",
       "    </tr>\n",
       "    <tr>\n",
       "      <th>1225</th>\n",
       "      <td>2015-11-16 00:00:00+00:00</td>\n",
       "      <td>0.9062</td>\n",
       "      <td>0.9447</td>\n",
       "      <td>0.8920</td>\n",
       "      <td>0.9290</td>\n",
       "      <td>6.209000e+05</td>\n",
       "      <td>676442.0</td>\n",
       "      <td>6.860000e+07</td>\n",
       "      <td>1.020000</td>\n",
       "      <td>0.089216</td>\n",
       "      <td>...</td>\n",
       "      <td>0</td>\n",
       "      <td>1</td>\n",
       "      <td>0</td>\n",
       "      <td>1</td>\n",
       "      <td>0</td>\n",
       "      <td>0</td>\n",
       "      <td>0</td>\n",
       "      <td>0</td>\n",
       "      <td>0</td>\n",
       "      <td>0</td>\n",
       "    </tr>\n",
       "    <tr>\n",
       "      <th>2432</th>\n",
       "      <td>2015-11-17 00:00:00+00:00</td>\n",
       "      <td>0.9249</td>\n",
       "      <td>1.0300</td>\n",
       "      <td>0.9058</td>\n",
       "      <td>1.0100</td>\n",
       "      <td>1.100000e+06</td>\n",
       "      <td>1183690.0</td>\n",
       "      <td>7.220000e+07</td>\n",
       "      <td>1.000000</td>\n",
       "      <td>-0.010000</td>\n",
       "      <td>...</td>\n",
       "      <td>0</td>\n",
       "      <td>1</td>\n",
       "      <td>0</td>\n",
       "      <td>0</td>\n",
       "      <td>1</td>\n",
       "      <td>0</td>\n",
       "      <td>0</td>\n",
       "      <td>0</td>\n",
       "      <td>0</td>\n",
       "      <td>0</td>\n",
       "    </tr>\n",
       "    <tr>\n",
       "      <th>1968</th>\n",
       "      <td>2015-11-18 00:00:00+00:00</td>\n",
       "      <td>0.9900</td>\n",
       "      <td>1.0100</td>\n",
       "      <td>0.9405</td>\n",
       "      <td>0.9900</td>\n",
       "      <td>6.811000e+05</td>\n",
       "      <td>691994.0</td>\n",
       "      <td>7.360000e+07</td>\n",
       "      <td>0.982750</td>\n",
       "      <td>-0.007377</td>\n",
       "      <td>...</td>\n",
       "      <td>0</td>\n",
       "      <td>1</td>\n",
       "      <td>0</td>\n",
       "      <td>0</td>\n",
       "      <td>0</td>\n",
       "      <td>1</td>\n",
       "      <td>0</td>\n",
       "      <td>0</td>\n",
       "      <td>0</td>\n",
       "      <td>0</td>\n",
       "    </tr>\n",
       "    <tr>\n",
       "      <th>859</th>\n",
       "      <td>2015-11-19 00:00:00+00:00</td>\n",
       "      <td>0.9887</td>\n",
       "      <td>1.0100</td>\n",
       "      <td>0.9375</td>\n",
       "      <td>0.9555</td>\n",
       "      <td>4.435000e+05</td>\n",
       "      <td>455866.0</td>\n",
       "      <td>7.280000e+07</td>\n",
       "      <td>0.940300</td>\n",
       "      <td>-0.016165</td>\n",
       "      <td>...</td>\n",
       "      <td>0</td>\n",
       "      <td>1</td>\n",
       "      <td>0</td>\n",
       "      <td>0</td>\n",
       "      <td>0</td>\n",
       "      <td>0</td>\n",
       "      <td>1</td>\n",
       "      <td>0</td>\n",
       "      <td>0</td>\n",
       "      <td>0</td>\n",
       "    </tr>\n",
       "    <tr>\n",
       "      <th>...</th>\n",
       "      <td>...</td>\n",
       "      <td>...</td>\n",
       "      <td>...</td>\n",
       "      <td>...</td>\n",
       "      <td>...</td>\n",
       "      <td>...</td>\n",
       "      <td>...</td>\n",
       "      <td>...</td>\n",
       "      <td>...</td>\n",
       "      <td>...</td>\n",
       "      <td>...</td>\n",
       "      <td>...</td>\n",
       "      <td>...</td>\n",
       "      <td>...</td>\n",
       "      <td>...</td>\n",
       "      <td>...</td>\n",
       "      <td>...</td>\n",
       "      <td>...</td>\n",
       "      <td>...</td>\n",
       "      <td>...</td>\n",
       "      <td>...</td>\n",
       "    </tr>\n",
       "    <tr>\n",
       "      <th>591</th>\n",
       "      <td>2024-04-17 00:00:00+00:00</td>\n",
       "      <td>3083.0000</td>\n",
       "      <td>3119.0000</td>\n",
       "      <td>2926.0000</td>\n",
       "      <td>2984.0000</td>\n",
       "      <td>1.550000e+10</td>\n",
       "      <td>5093979.0</td>\n",
       "      <td>3.722000e+11</td>\n",
       "      <td>3075.500000</td>\n",
       "      <td>0.029751</td>\n",
       "      <td>...</td>\n",
       "      <td>0</td>\n",
       "      <td>0</td>\n",
       "      <td>0</td>\n",
       "      <td>0</td>\n",
       "      <td>0</td>\n",
       "      <td>1</td>\n",
       "      <td>0</td>\n",
       "      <td>0</td>\n",
       "      <td>0</td>\n",
       "      <td>0</td>\n",
       "    </tr>\n",
       "    <tr>\n",
       "      <th>2751</th>\n",
       "      <td>2024-04-18 00:00:00+00:00</td>\n",
       "      <td>2986.0000</td>\n",
       "      <td>3087.0000</td>\n",
       "      <td>2960.0000</td>\n",
       "      <td>3064.0000</td>\n",
       "      <td>1.350000e+10</td>\n",
       "      <td>4453302.0</td>\n",
       "      <td>3.706000e+11</td>\n",
       "      <td>3101.000000</td>\n",
       "      <td>0.011932</td>\n",
       "      <td>...</td>\n",
       "      <td>0</td>\n",
       "      <td>0</td>\n",
       "      <td>0</td>\n",
       "      <td>0</td>\n",
       "      <td>0</td>\n",
       "      <td>0</td>\n",
       "      <td>1</td>\n",
       "      <td>0</td>\n",
       "      <td>0</td>\n",
       "      <td>0</td>\n",
       "    </tr>\n",
       "    <tr>\n",
       "      <th>2793</th>\n",
       "      <td>2024-04-19 00:00:00+00:00</td>\n",
       "      <td>3061.0000</td>\n",
       "      <td>3117.0000</td>\n",
       "      <td>2879.0000</td>\n",
       "      <td>3085.0000</td>\n",
       "      <td>1.740000e+10</td>\n",
       "      <td>5675824.0</td>\n",
       "      <td>3.746000e+11</td>\n",
       "      <td>3160.500000</td>\n",
       "      <td>0.023889</td>\n",
       "      <td>...</td>\n",
       "      <td>0</td>\n",
       "      <td>0</td>\n",
       "      <td>0</td>\n",
       "      <td>0</td>\n",
       "      <td>0</td>\n",
       "      <td>0</td>\n",
       "      <td>0</td>\n",
       "      <td>1</td>\n",
       "      <td>0</td>\n",
       "      <td>0</td>\n",
       "    </tr>\n",
       "    <tr>\n",
       "      <th>2705</th>\n",
       "      <td>2024-04-20 00:00:00+00:00</td>\n",
       "      <td>3085.0000</td>\n",
       "      <td>3166.0000</td>\n",
       "      <td>3025.0000</td>\n",
       "      <td>3155.0000</td>\n",
       "      <td>8.900000e+09</td>\n",
       "      <td>2884086.0</td>\n",
       "      <td>3.776000e+11</td>\n",
       "      <td>3168.500000</td>\n",
       "      <td>0.004261</td>\n",
       "      <td>...</td>\n",
       "      <td>0</td>\n",
       "      <td>0</td>\n",
       "      <td>0</td>\n",
       "      <td>0</td>\n",
       "      <td>0</td>\n",
       "      <td>0</td>\n",
       "      <td>0</td>\n",
       "      <td>0</td>\n",
       "      <td>1</td>\n",
       "      <td>0</td>\n",
       "    </tr>\n",
       "    <tr>\n",
       "      <th>951</th>\n",
       "      <td>2024-04-21 00:00:00+00:00</td>\n",
       "      <td>3153.0000</td>\n",
       "      <td>3191.0000</td>\n",
       "      <td>3120.0000</td>\n",
       "      <td>3146.0000</td>\n",
       "      <td>8.200000e+09</td>\n",
       "      <td>2603957.0</td>\n",
       "      <td>3.867000e+11</td>\n",
       "      <td>3215.178412</td>\n",
       "      <td>0.021516</td>\n",
       "      <td>...</td>\n",
       "      <td>0</td>\n",
       "      <td>0</td>\n",
       "      <td>0</td>\n",
       "      <td>0</td>\n",
       "      <td>0</td>\n",
       "      <td>0</td>\n",
       "      <td>0</td>\n",
       "      <td>0</td>\n",
       "      <td>0</td>\n",
       "      <td>1</td>\n",
       "    </tr>\n",
       "  </tbody>\n",
       "</table>\n",
       "<p>3062 rows × 111 columns</p>\n",
       "</div>"
      ],
      "text/plain": [
       "                           date       open       high        low      close  \\\n",
       "806   2015-11-15 00:00:00+00:00     0.8912     0.9215     0.8750     0.9064   \n",
       "1225  2015-11-16 00:00:00+00:00     0.9062     0.9447     0.8920     0.9290   \n",
       "2432  2015-11-17 00:00:00+00:00     0.9249     1.0300     0.9058     1.0100   \n",
       "1968  2015-11-18 00:00:00+00:00     0.9900     1.0100     0.9405     0.9900   \n",
       "859   2015-11-19 00:00:00+00:00     0.9887     1.0100     0.9375     0.9555   \n",
       "...                         ...        ...        ...        ...        ...   \n",
       "591   2024-04-17 00:00:00+00:00  3083.0000  3119.0000  2926.0000  2984.0000   \n",
       "2751  2024-04-18 00:00:00+00:00  2986.0000  3087.0000  2960.0000  3064.0000   \n",
       "2793  2024-04-19 00:00:00+00:00  3061.0000  3117.0000  2879.0000  3085.0000   \n",
       "2705  2024-04-20 00:00:00+00:00  3085.0000  3166.0000  3025.0000  3155.0000   \n",
       "951   2024-04-21 00:00:00+00:00  3153.0000  3191.0000  3120.0000  3146.0000   \n",
       "\n",
       "            volume  volume_eth    market_cap  tmw_avg_high_close  \\\n",
       "806   4.118000e+05    458365.0  6.720000e+07            0.936850   \n",
       "1225  6.209000e+05    676442.0  6.860000e+07            1.020000   \n",
       "2432  1.100000e+06   1183690.0  7.220000e+07            1.000000   \n",
       "1968  6.811000e+05    691994.0  7.360000e+07            0.982750   \n",
       "859   4.435000e+05    455866.0  7.280000e+07            0.940300   \n",
       "...            ...         ...           ...                 ...   \n",
       "591   1.550000e+10   5093979.0  3.722000e+11         3075.500000   \n",
       "2751  1.350000e+10   4453302.0  3.706000e+11         3101.000000   \n",
       "2793  1.740000e+10   5675824.0  3.746000e+11         3160.500000   \n",
       "2705  8.900000e+09   2884086.0  3.776000e+11         3168.500000   \n",
       "951   8.200000e+09   2603957.0  3.867000e+11         3215.178412   \n",
       "\n",
       "      tmw_percent_increase  ...  october  november  december  monday  tuesday  \\\n",
       "806               0.032503  ...        0         1         0       0        0   \n",
       "1225              0.089216  ...        0         1         0       1        0   \n",
       "2432             -0.010000  ...        0         1         0       0        1   \n",
       "1968             -0.007377  ...        0         1         0       0        0   \n",
       "859              -0.016165  ...        0         1         0       0        0   \n",
       "...                    ...  ...      ...       ...       ...     ...      ...   \n",
       "591               0.029751  ...        0         0         0       0        0   \n",
       "2751              0.011932  ...        0         0         0       0        0   \n",
       "2793              0.023889  ...        0         0         0       0        0   \n",
       "2705              0.004261  ...        0         0         0       0        0   \n",
       "951               0.021516  ...        0         0         0       0        0   \n",
       "\n",
       "      wednesday  thursday  friday  saturday  sunday  \n",
       "806           0         0       0         0       1  \n",
       "1225          0         0       0         0       0  \n",
       "2432          0         0       0         0       0  \n",
       "1968          1         0       0         0       0  \n",
       "859           0         1       0         0       0  \n",
       "...         ...       ...     ...       ...     ...  \n",
       "591           1         0       0         0       0  \n",
       "2751          0         1       0         0       0  \n",
       "2793          0         0       1         0       0  \n",
       "2705          0         0       0         1       0  \n",
       "951           0         0       0         0       1  \n",
       "\n",
       "[3062 rows x 111 columns]"
      ]
     },
     "execution_count": 3,
     "metadata": {},
     "output_type": "execute_result"
    }
   ],
   "source": [
    "eth_ohlc = pull_data('eth_ohlc_transformed', 1, 'eth_ohlc_transformed', 1)\n",
    "eth_ohlc = eth_ohlc[:-1] # the last row contains NA values for tomorrow's price and target, so we have to ommit it here\n",
    "eth_ohlc"
   ]
  },
  {
   "cell_type": "markdown",
   "metadata": {},
   "source": [
    "### Define the model and obtain a backtested precision score (precision score = out of all the times we predicted the price would go up, what proportion of the time did it actually go up the next day)"
   ]
  },
  {
   "cell_type": "code",
   "execution_count": 4,
   "metadata": {},
   "outputs": [],
   "source": [
    "model = RandomForestClassifier(n_estimators=250, min_samples_split=200, random_state=1)\n",
    "\n",
    "predictors = []\n",
    "periods = [2, 5, 10, 25, 50, 100]\n",
    "percent_increase_counts = ['1_0', '1_25', '1_5', '1_75', '2_0', '2_25', '2_5', '2_75', '3_0']\n",
    "for period in periods:\n",
    "    for indicator in ['ema', 'rsi', 'sma']:\n",
    "        predictors.append(f'{indicator}_{period}')\n",
    "    for percent in percent_increase_counts:\n",
    "        predictors.append(f'last_{period}_day_{percent}_percent_increase_count')\n",
    "months = ['january', 'february', 'march', 'april', 'may', 'june', 'july', 'august', 'september', 'october', 'november', 'december']\n",
    "predictors.extend(months)\n",
    "weekdays = ['monday', 'tuesday', 'wednesday', 'thursday', 'friday', 'saturday', 'sunday']\n",
    "predictors.extend(weekdays)\n",
    "\n",
    "response_var = 'tmw_1_0_percent_increase_binary'\n",
    "\n",
    "threshold = 0.55\n",
    "\n",
    "# Make start a function of the model deployment number. For example, the second model will be trained in 100 days, so \n",
    "# start will be set to start=1100. This is done so that the precision score for the next model will better reflect\n",
    "# performance on more recent data\n",
    "start = 1000"
   ]
  },
  {
   "cell_type": "code",
   "execution_count": 5,
   "metadata": {},
   "outputs": [],
   "source": [
    "def get_precision_score(data, model, predictors, response_var, threshold, start=1000, step=100):\n",
    "    \n",
    "    def predict(train, test, predictors, model):\n",
    "        model.fit(train[predictors], train[response_var])\n",
    "        probability = model.predict_proba(test[predictors])[:,1]\n",
    "        proba_series = pd.Series(probability, index=test.index, name=\"probability\")\n",
    "        combined = pd.concat([test[response_var], test['tmw_percent_increase'], proba_series], axis=1)\n",
    "        return combined\n",
    "\n",
    "    all_predictions = []\n",
    "    for i in range(start, data.shape[0], step):\n",
    "        train = data.iloc[0:i].copy()\n",
    "        test = data.iloc[i:(i+100)].copy()\n",
    "        predictions = predict(train, test, predictors, model)\n",
    "        all_predictions.append(predictions)\n",
    "\n",
    "    data_with_predictions = pd.concat(all_predictions)\n",
    "\n",
    "    col_name = f'pred_{threshold}'\n",
    "    data_with_predictions[col_name] = data_with_predictions['probability'] >= threshold\n",
    "\n",
    "    ppv = precision_score(data_with_predictions[response_var], data_with_predictions[col_name])\n",
    "    \n",
    "    return ppv"
   ]
  },
  {
   "cell_type": "code",
   "execution_count": 5,
   "metadata": {},
   "outputs": [
    {
     "data": {
      "text/plain": [
       "0.5986842105263158"
      ]
     },
     "execution_count": 5,
     "metadata": {},
     "output_type": "execute_result"
    }
   ],
   "source": [
    "ppv = get_precision_score(eth_ohlc, model, predictors, response_var, threshold, start=start)\n",
    "ppv"
   ]
  },
  {
   "cell_type": "markdown",
   "metadata": {},
   "source": [
    "### Fit the model on all the data, then save it into a file as a serialized model\n",
    "##### joblib is for serializing models in order to save them to disk. Note that pickle and joblib are both modules that serialize Python objects into a byte stream, and deserializes the byte stream back to Python objects. However, joblib is useful when the model involves a lot of data and arrays, and is generally recommended for scikit-learn models because of its efficiency with these objects."
   ]
  },
  {
   "cell_type": "code",
   "execution_count": 6,
   "metadata": {},
   "outputs": [
    {
     "data": {
      "text/plain": [
       "['../models/ohlc/random_forest_ohlc.pkl']"
      ]
     },
     "execution_count": 6,
     "metadata": {},
     "output_type": "execute_result"
    }
   ],
   "source": [
    "model.fit(eth_ohlc[predictors], eth_ohlc[response_var])\n",
    "\n",
    "MODEL_NAME = 'random_forest_ohlc'\n",
    "\n",
    "joblib.dump(model, f'../models/ohlc/{MODEL_NAME}.pkl')"
   ]
  },
  {
   "cell_type": "markdown",
   "metadata": {},
   "source": [
    "### Upload the serialized model into hopsworks"
   ]
  },
  {
   "cell_type": "code",
   "execution_count": 8,
   "metadata": {},
   "outputs": [
    {
     "data": {
      "text/plain": [
       "'04/19/2024'"
      ]
     },
     "execution_count": 8,
     "metadata": {},
     "output_type": "execute_result"
    }
   ],
   "source": [
    "last_date = pd.to_datetime(eth_ohlc['date'].iloc[-1]).tz_localize(None)\n",
    "trained_till = last_date.strftime('%m/%d/%Y')\n",
    "trained_till"
   ]
  },
  {
   "cell_type": "code",
   "execution_count": 10,
   "metadata": {},
   "outputs": [
    {
     "name": "stdout",
     "output_type": "stream",
     "text": [
      "Connection closed.\n",
      "Connected. Call `.close()` to terminate connection gracefully.\n"
     ]
    },
    {
     "name": "stderr",
     "output_type": "stream",
     "text": [
      "\n",
      "\n",
      "UserWarning: The installed hopsworks client version 3.4.4 may not be compatible with the connected Hopsworks backend version 3.7.1. \n",
      "To ensure compatibility please install the latest bug fix release matching the minor version of your backend (3.7) by running 'pip install hopsworks==3.7.*'\n"
     ]
    },
    {
     "name": "stdout",
     "output_type": "stream",
     "text": [
      "\n",
      "Logged in to project, explore it here https://c.app.hopsworks.ai:443/p/582805\n",
      "Connected. Call `.close()` to terminate connection gracefully.\n"
     ]
    },
    {
     "name": "stderr",
     "output_type": "stream",
     "text": [
      "Uploading: 100.000%|██████████| 1109337/1109337 elapsed<00:01 remaining<00:004.32it/s]\n",
      "Model export complete: 100%|██████████| 6/6 [00:07<00:00,  1.20s/it]                   "
     ]
    },
    {
     "name": "stdout",
     "output_type": "stream",
     "text": [
      "Model created, explore it at https://c.app.hopsworks.ai:443/p/582805/models/random_forest_ohlc/1\n"
     ]
    },
    {
     "name": "stderr",
     "output_type": "stream",
     "text": [
      "\n"
     ]
    }
   ],
   "source": [
    "# def upload_model(model_name, model_description, metric_type, metric_value):\n",
    "upload_model(MODEL_NAME, f\"Predict {response_var}, Threshold {threshold}, Trained Until {trained_till}\", \"PPV\", ppv)"
   ]
  }
 ],
 "metadata": {
  "kernelspec": {
   "display_name": "venv_crypto_prediction",
   "language": "python",
   "name": "python3"
  },
  "language_info": {
   "codemirror_mode": {
    "name": "ipython",
    "version": 3
   },
   "file_extension": ".py",
   "mimetype": "text/x-python",
   "name": "python",
   "nbconvert_exporter": "python",
   "pygments_lexer": "ipython3",
   "version": "3.10.5"
  }
 },
 "nbformat": 4,
 "nbformat_minor": 2
}
