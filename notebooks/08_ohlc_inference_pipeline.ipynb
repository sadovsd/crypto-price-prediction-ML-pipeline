{
 "cells": [
  {
   "cell_type": "code",
   "execution_count": 1,
   "metadata": {},
   "outputs": [
    {
     "name": "stderr",
     "output_type": "stream",
     "text": [
      "/Users/davydsadovskyy/GitBackedShit/crypto-prediction/venv_crypto_prediction/lib/python3.10/site-packages/tqdm/auto.py:21: TqdmWarning: IProgress not found. Please update jupyter and ipywidgets. See https://ipywidgets.readthedocs.io/en/stable/user_install.html\n",
      "  from .autonotebook import tqdm as notebook_tqdm\n"
     ]
    },
    {
     "name": "stdout",
     "output_type": "stream",
     "text": [
      "Current Working Directory: /Users/davydsadovskyy/GitBackedShit/crypto-prediction/notebooks\n"
     ]
    }
   ],
   "source": [
    "import pandas as pd\n",
    "import sys\n",
    "import os\n",
    "sys.path.append(os.path.abspath('../'))\n",
    "from src.hopsworks_connections import pull_last_row, upload_data, pull_model, pull_data\n",
    "\n",
    "# Print the current working directory\n",
    "current_working_directory = os.getcwd()\n",
    "print(\"Current Working Directory:\", current_working_directory)"
   ]
  },
  {
   "cell_type": "markdown",
   "metadata": {},
   "source": [
    "### Get model from our Hopsworks model registry"
   ]
  },
  {
   "cell_type": "code",
   "execution_count": 10,
   "metadata": {},
   "outputs": [
    {
     "name": "stdout",
     "output_type": "stream",
     "text": [
      "Connection closed.\n",
      "Connected. Call `.close()` to terminate connection gracefully.\n"
     ]
    },
    {
     "name": "stderr",
     "output_type": "stream",
     "text": [
      "\n",
      "\n",
      "UserWarning: The installed hopsworks client version 3.4.4 may not be compatible with the connected Hopsworks backend version 3.7.1. \n",
      "To ensure compatibility please install the latest bug fix release matching the minor version of your backend (3.7) by running 'pip install hopsworks==3.7.*'\n"
     ]
    },
    {
     "name": "stdout",
     "output_type": "stream",
     "text": [
      "\n",
      "Logged in to project, explore it here https://c.app.hopsworks.ai:443/p/582805\n",
      "Connected. Call `.close()` to terminate connection gracefully.\n",
      "Downloading model artifact (0 dirs, 1 files)... DONE\r"
     ]
    }
   ],
   "source": [
    "MODEL_NAME = 'random_forest_ohlc' # this one predicts tmw_1_0_percent_increase_binary\n",
    "\n",
    "# ***** later implement code that checks the latest model version and pulls that one\n",
    "# def pull_model(model_name, model_version):\n",
    "model = pull_model(MODEL_NAME, 1)"
   ]
  },
  {
   "cell_type": "markdown",
   "metadata": {},
   "source": [
    "### Get the latest day of ethereum data"
   ]
  },
  {
   "cell_type": "code",
   "execution_count": 52,
   "metadata": {},
   "outputs": [
    {
     "name": "stdout",
     "output_type": "stream",
     "text": [
      "Connection closed.\n",
      "Connected. Call `.close()` to terminate connection gracefully.\n"
     ]
    },
    {
     "name": "stderr",
     "output_type": "stream",
     "text": [
      "\n",
      "\n",
      "UserWarning: The installed hopsworks client version 3.4.4 may not be compatible with the connected Hopsworks backend version 3.7.1. \n",
      "To ensure compatibility please install the latest bug fix release matching the minor version of your backend (3.7) by running 'pip install hopsworks==3.7.*'\n"
     ]
    },
    {
     "name": "stdout",
     "output_type": "stream",
     "text": [
      "\n",
      "Logged in to project, explore it here https://c.app.hopsworks.ai:443/p/582805\n",
      "Connected. Call `.close()` to terminate connection gracefully.\n",
      "Feature view already existed. Skip creation.\n",
      "Finished: Reading data from Hopsworks, using ArrowFlight (1.81s) \n"
     ]
    },
    {
     "name": "stderr",
     "output_type": "stream",
     "text": [
      "VersionWarning: Incremented version to `2`.\n"
     ]
    },
    {
     "data": {
      "text/html": [
       "<div>\n",
       "<style scoped>\n",
       "    .dataframe tbody tr th:only-of-type {\n",
       "        vertical-align: middle;\n",
       "    }\n",
       "\n",
       "    .dataframe tbody tr th {\n",
       "        vertical-align: top;\n",
       "    }\n",
       "\n",
       "    .dataframe thead th {\n",
       "        text-align: right;\n",
       "    }\n",
       "</style>\n",
       "<table border=\"1\" class=\"dataframe\">\n",
       "  <thead>\n",
       "    <tr style=\"text-align: right;\">\n",
       "      <th></th>\n",
       "      <th>date</th>\n",
       "      <th>open</th>\n",
       "      <th>high</th>\n",
       "      <th>low</th>\n",
       "      <th>close</th>\n",
       "      <th>volume</th>\n",
       "      <th>volume_eth</th>\n",
       "      <th>market_cap</th>\n",
       "      <th>tmw_avg_high_close</th>\n",
       "      <th>tmw_percent_increase</th>\n",
       "      <th>...</th>\n",
       "      <th>october</th>\n",
       "      <th>november</th>\n",
       "      <th>december</th>\n",
       "      <th>monday</th>\n",
       "      <th>tuesday</th>\n",
       "      <th>wednesday</th>\n",
       "      <th>thursday</th>\n",
       "      <th>friday</th>\n",
       "      <th>saturday</th>\n",
       "      <th>sunday</th>\n",
       "    </tr>\n",
       "  </thead>\n",
       "  <tbody>\n",
       "    <tr>\n",
       "      <th>3061</th>\n",
       "      <td>2024-04-22 00:00:00+00:00</td>\n",
       "      <td>3146.652021</td>\n",
       "      <td>3232.067831</td>\n",
       "      <td>3134.798198</td>\n",
       "      <td>3198.484468</td>\n",
       "      <td>1.183567e+10</td>\n",
       "      <td>3.706587e+06</td>\n",
       "      <td>3.834176e+11</td>\n",
       "      <td>NaN</td>\n",
       "      <td>NaN</td>\n",
       "      <td>...</td>\n",
       "      <td>0</td>\n",
       "      <td>0</td>\n",
       "      <td>0</td>\n",
       "      <td>1</td>\n",
       "      <td>0</td>\n",
       "      <td>0</td>\n",
       "      <td>0</td>\n",
       "      <td>0</td>\n",
       "      <td>0</td>\n",
       "      <td>0</td>\n",
       "    </tr>\n",
       "  </tbody>\n",
       "</table>\n",
       "<p>1 rows × 111 columns</p>\n",
       "</div>"
      ],
      "text/plain": [
       "                           date         open         high          low  \\\n",
       "3061  2024-04-22 00:00:00+00:00  3146.652021  3232.067831  3134.798198   \n",
       "\n",
       "            close        volume    volume_eth    market_cap  \\\n",
       "3061  3198.484468  1.183567e+10  3.706587e+06  3.834176e+11   \n",
       "\n",
       "      tmw_avg_high_close  tmw_percent_increase  ...  october  november  \\\n",
       "3061                 NaN                   NaN  ...        0         0   \n",
       "\n",
       "      december  monday  tuesday  wednesday  thursday  friday  saturday  sunday  \n",
       "3061         0       1        0          0         0       0         0       0  \n",
       "\n",
       "[1 rows x 111 columns]"
      ]
     },
     "execution_count": 52,
     "metadata": {},
     "output_type": "execute_result"
    }
   ],
   "source": [
    "eth_yesterday = pull_data('eth_ohlc_transformed', 2, 'eth_ohlc_transformed_view', 2)[-1:]\n",
    "\n",
    "eth_yesterday"
   ]
  },
  {
   "cell_type": "markdown",
   "metadata": {},
   "source": [
    "### Define predictors, the input data points, and get a prediction for tmw_1_0_percent_increase_binary"
   ]
  },
  {
   "cell_type": "code",
   "execution_count": 53,
   "metadata": {},
   "outputs": [
    {
     "data": {
      "text/html": [
       "<div>\n",
       "<style scoped>\n",
       "    .dataframe tbody tr th:only-of-type {\n",
       "        vertical-align: middle;\n",
       "    }\n",
       "\n",
       "    .dataframe tbody tr th {\n",
       "        vertical-align: top;\n",
       "    }\n",
       "\n",
       "    .dataframe thead th {\n",
       "        text-align: right;\n",
       "    }\n",
       "</style>\n",
       "<table border=\"1\" class=\"dataframe\">\n",
       "  <thead>\n",
       "    <tr style=\"text-align: right;\">\n",
       "      <th></th>\n",
       "      <th>ema_2</th>\n",
       "      <th>rsi_2</th>\n",
       "      <th>sma_2</th>\n",
       "      <th>last_2_day_1_0_percent_increase_count</th>\n",
       "      <th>last_2_day_1_25_percent_increase_count</th>\n",
       "      <th>last_2_day_1_5_percent_increase_count</th>\n",
       "      <th>last_2_day_1_75_percent_increase_count</th>\n",
       "      <th>last_2_day_2_0_percent_increase_count</th>\n",
       "      <th>last_2_day_2_25_percent_increase_count</th>\n",
       "      <th>last_2_day_2_5_percent_increase_count</th>\n",
       "      <th>...</th>\n",
       "      <th>october</th>\n",
       "      <th>november</th>\n",
       "      <th>december</th>\n",
       "      <th>monday</th>\n",
       "      <th>tuesday</th>\n",
       "      <th>wednesday</th>\n",
       "      <th>thursday</th>\n",
       "      <th>friday</th>\n",
       "      <th>saturday</th>\n",
       "      <th>sunday</th>\n",
       "    </tr>\n",
       "  </thead>\n",
       "  <tbody>\n",
       "    <tr>\n",
       "      <th>3061</th>\n",
       "      <td>1.006062</td>\n",
       "      <td>90.123553</td>\n",
       "      <td>1.008092</td>\n",
       "      <td>1.0</td>\n",
       "      <td>1.0</td>\n",
       "      <td>1.0</td>\n",
       "      <td>1.0</td>\n",
       "      <td>1.0</td>\n",
       "      <td>0.0</td>\n",
       "      <td>0.0</td>\n",
       "      <td>...</td>\n",
       "      <td>0</td>\n",
       "      <td>0</td>\n",
       "      <td>0</td>\n",
       "      <td>1</td>\n",
       "      <td>0</td>\n",
       "      <td>0</td>\n",
       "      <td>0</td>\n",
       "      <td>0</td>\n",
       "      <td>0</td>\n",
       "      <td>0</td>\n",
       "    </tr>\n",
       "  </tbody>\n",
       "</table>\n",
       "<p>1 rows × 91 columns</p>\n",
       "</div>"
      ],
      "text/plain": [
       "         ema_2      rsi_2     sma_2  last_2_day_1_0_percent_increase_count  \\\n",
       "3061  1.006062  90.123553  1.008092                                    1.0   \n",
       "\n",
       "      last_2_day_1_25_percent_increase_count  \\\n",
       "3061                                     1.0   \n",
       "\n",
       "      last_2_day_1_5_percent_increase_count  \\\n",
       "3061                                    1.0   \n",
       "\n",
       "      last_2_day_1_75_percent_increase_count  \\\n",
       "3061                                     1.0   \n",
       "\n",
       "      last_2_day_2_0_percent_increase_count  \\\n",
       "3061                                    1.0   \n",
       "\n",
       "      last_2_day_2_25_percent_increase_count  \\\n",
       "3061                                     0.0   \n",
       "\n",
       "      last_2_day_2_5_percent_increase_count  ...  october  november  december  \\\n",
       "3061                                    0.0  ...        0         0         0   \n",
       "\n",
       "      monday  tuesday  wednesday  thursday  friday  saturday  sunday  \n",
       "3061       1        0          0         0       0         0       0  \n",
       "\n",
       "[1 rows x 91 columns]"
      ]
     },
     "execution_count": 53,
     "metadata": {},
     "output_type": "execute_result"
    }
   ],
   "source": [
    "predictors = []\n",
    "periods = [2, 5, 10, 25, 50, 100]\n",
    "percent_increase_counts = ['1_0', '1_25', '1_5', '1_75', '2_0', '2_25', '2_5', '2_75', '3_0']\n",
    "for period in periods:\n",
    "    for indicator in ['ema', 'rsi', 'sma']:\n",
    "        predictors.append(f'{indicator}_{period}')\n",
    "    for percent in percent_increase_counts:\n",
    "        predictors.append(f'last_{period}_day_{percent}_percent_increase_count')\n",
    "months = ['january', 'february', 'march', 'april', 'may', 'june', 'july', 'august', 'september', 'october', 'november', 'december']\n",
    "predictors.extend(months)\n",
    "weekdays = ['monday', 'tuesday', 'wednesday', 'thursday', 'friday', 'saturday', 'sunday']\n",
    "predictors.extend(weekdays)\n",
    "\n",
    "x0 = eth_yesterday[predictors]\n",
    "x0"
   ]
  },
  {
   "cell_type": "code",
   "execution_count": 54,
   "metadata": {},
   "outputs": [
    {
     "data": {
      "text/plain": [
       "array([0.])"
      ]
     },
     "execution_count": 54,
     "metadata": {},
     "output_type": "execute_result"
    }
   ],
   "source": [
    "prediction = model.predict(x0)\n",
    "prediction"
   ]
  },
  {
   "cell_type": "code",
   "execution_count": 55,
   "metadata": {},
   "outputs": [],
   "source": [
    "pred = int(prediction[0])\n",
    "eth_yesterday['pred_tmw_1_0_percent_increase_binary'] = pred\n",
    "\n",
    "eth_yesterday['pred_tmw_1_0_percent_increase_binary'] = eth_yesterday['pred_tmw_1_0_percent_increase_binary'].astype('Int64')"
   ]
  },
  {
   "cell_type": "markdown",
   "metadata": {},
   "source": [
    "### Upload this prediction to a separate predictions feature group in Hopsworks"
   ]
  },
  {
   "cell_type": "code",
   "execution_count": 45,
   "metadata": {},
   "outputs": [
    {
     "name": "stdout",
     "output_type": "stream",
     "text": [
      "['date', 'open', 'high', 'low', 'close', 'volume', 'volume_eth', 'market_cap', 'tmw_avg_high_close', 'tmw_percent_increase', 'tmw_1_0_percent_increase_binary', 'tmw_1_25_percent_increase_binary', 'tmw_1_5_percent_increase_binary', 'tmw_1_75_percent_increase_binary', 'tmw_2_0_percent_increase_binary', 'tmw_2_25_percent_increase_binary', 'tmw_2_5_percent_increase_binary', 'tmw_2_75_percent_increase_binary', 'tmw_3_0_percent_increase_binary', 'tmw_positive_percent_increase_binary', 'ema_2', 'rsi_2', 'sma_2', 'last_2_day_1_0_percent_increase_count', 'last_2_day_1_25_percent_increase_count', 'last_2_day_1_5_percent_increase_count', 'last_2_day_1_75_percent_increase_count', 'last_2_day_2_0_percent_increase_count', 'last_2_day_2_25_percent_increase_count', 'last_2_day_2_5_percent_increase_count', 'last_2_day_2_75_percent_increase_count', 'last_2_day_3_0_percent_increase_count', 'ema_5', 'rsi_5', 'sma_5', 'last_5_day_1_0_percent_increase_count', 'last_5_day_1_25_percent_increase_count', 'last_5_day_1_5_percent_increase_count', 'last_5_day_1_75_percent_increase_count', 'last_5_day_2_0_percent_increase_count', 'last_5_day_2_25_percent_increase_count', 'last_5_day_2_5_percent_increase_count', 'last_5_day_2_75_percent_increase_count', 'last_5_day_3_0_percent_increase_count', 'ema_10', 'rsi_10', 'sma_10', 'last_10_day_1_0_percent_increase_count', 'last_10_day_1_25_percent_increase_count', 'last_10_day_1_5_percent_increase_count', 'last_10_day_1_75_percent_increase_count', 'last_10_day_2_0_percent_increase_count', 'last_10_day_2_25_percent_increase_count', 'last_10_day_2_5_percent_increase_count', 'last_10_day_2_75_percent_increase_count', 'last_10_day_3_0_percent_increase_count', 'ema_25', 'rsi_25', 'sma_25', 'last_25_day_1_0_percent_increase_count', 'last_25_day_1_25_percent_increase_count', 'last_25_day_1_5_percent_increase_count', 'last_25_day_1_75_percent_increase_count', 'last_25_day_2_0_percent_increase_count', 'last_25_day_2_25_percent_increase_count', 'last_25_day_2_5_percent_increase_count', 'last_25_day_2_75_percent_increase_count', 'last_25_day_3_0_percent_increase_count', 'ema_50', 'rsi_50', 'sma_50', 'last_50_day_1_0_percent_increase_count', 'last_50_day_1_25_percent_increase_count', 'last_50_day_1_5_percent_increase_count', 'last_50_day_1_75_percent_increase_count', 'last_50_day_2_0_percent_increase_count', 'last_50_day_2_25_percent_increase_count', 'last_50_day_2_5_percent_increase_count', 'last_50_day_2_75_percent_increase_count', 'last_50_day_3_0_percent_increase_count', 'ema_100', 'rsi_100', 'sma_100', 'last_100_day_1_0_percent_increase_count', 'last_100_day_1_25_percent_increase_count', 'last_100_day_1_5_percent_increase_count', 'last_100_day_1_75_percent_increase_count', 'last_100_day_2_0_percent_increase_count', 'last_100_day_2_25_percent_increase_count', 'last_100_day_2_5_percent_increase_count', 'last_100_day_2_75_percent_increase_count', 'last_100_day_3_0_percent_increase_count', 'january', 'february', 'march', 'april', 'may', 'june', 'july', 'august', 'september', 'october', 'november', 'december', 'monday', 'tuesday', 'wednesday', 'thursday', 'friday', 'saturday', 'sunday', 'pred_tmw_1_0_percent_increase_binary']\n"
     ]
    }
   ],
   "source": [
    "print(eth_yesterday.columns.tolist())"
   ]
  },
  {
   "cell_type": "code",
   "execution_count": 57,
   "metadata": {},
   "outputs": [
    {
     "data": {
      "text/html": [
       "<div>\n",
       "<style scoped>\n",
       "    .dataframe tbody tr th:only-of-type {\n",
       "        vertical-align: middle;\n",
       "    }\n",
       "\n",
       "    .dataframe tbody tr th {\n",
       "        vertical-align: top;\n",
       "    }\n",
       "\n",
       "    .dataframe thead th {\n",
       "        text-align: right;\n",
       "    }\n",
       "</style>\n",
       "<table border=\"1\" class=\"dataframe\">\n",
       "  <thead>\n",
       "    <tr style=\"text-align: right;\">\n",
       "      <th></th>\n",
       "      <th>date</th>\n",
       "      <th>open</th>\n",
       "      <th>high</th>\n",
       "      <th>low</th>\n",
       "      <th>close</th>\n",
       "      <th>volume</th>\n",
       "      <th>volume_eth</th>\n",
       "      <th>market_cap</th>\n",
       "      <th>pred_tmw_1_0_percent_increase_binary</th>\n",
       "    </tr>\n",
       "  </thead>\n",
       "  <tbody>\n",
       "    <tr>\n",
       "      <th>3061</th>\n",
       "      <td>2024-04-22 00:00:00+00:00</td>\n",
       "      <td>3146.652021</td>\n",
       "      <td>3232.067831</td>\n",
       "      <td>3134.798198</td>\n",
       "      <td>3198.484468</td>\n",
       "      <td>1.183567e+10</td>\n",
       "      <td>3.706587e+06</td>\n",
       "      <td>3.834176e+11</td>\n",
       "      <td>0</td>\n",
       "    </tr>\n",
       "  </tbody>\n",
       "</table>\n",
       "</div>"
      ],
      "text/plain": [
       "                           date         open         high          low  \\\n",
       "3061  2024-04-22 00:00:00+00:00  3146.652021  3232.067831  3134.798198   \n",
       "\n",
       "            close        volume    volume_eth    market_cap  \\\n",
       "3061  3198.484468  1.183567e+10  3.706587e+06  3.834176e+11   \n",
       "\n",
       "      pred_tmw_1_0_percent_increase_binary  \n",
       "3061                                     0  "
      ]
     },
     "execution_count": 57,
     "metadata": {},
     "output_type": "execute_result"
    }
   ],
   "source": [
    "vars = ['date', 'open', 'high', 'low', 'close', 'volume', 'volume_eth', 'market_cap', 'pred_tmw_1_0_percent_increase_binary']\n",
    "eth_yesterday = eth_yesterday[vars]\n",
    "\n",
    "eth_yesterday"
   ]
  },
  {
   "cell_type": "code",
   "execution_count": 62,
   "metadata": {},
   "outputs": [
    {
     "data": {
      "text/plain": [
       "date                                    datetime64[ns, UTC]\n",
       "open                                                float64\n",
       "high                                                float64\n",
       "low                                                 float64\n",
       "close                                               float64\n",
       "volume                                              float64\n",
       "volume_eth                                          float64\n",
       "market_cap                                          float64\n",
       "pred_tmw_1_0_percent_increase_binary                  Int64\n",
       "dtype: object"
      ]
     },
     "execution_count": 62,
     "metadata": {},
     "output_type": "execute_result"
    }
   ],
   "source": [
    "eth_yesterday.dtypes"
   ]
  },
  {
   "cell_type": "code",
   "execution_count": 68,
   "metadata": {},
   "outputs": [
    {
     "data": {
      "text/html": [
       "<div>\n",
       "<style scoped>\n",
       "    .dataframe tbody tr th:only-of-type {\n",
       "        vertical-align: middle;\n",
       "    }\n",
       "\n",
       "    .dataframe tbody tr th {\n",
       "        vertical-align: top;\n",
       "    }\n",
       "\n",
       "    .dataframe thead th {\n",
       "        text-align: right;\n",
       "    }\n",
       "</style>\n",
       "<table border=\"1\" class=\"dataframe\">\n",
       "  <thead>\n",
       "    <tr style=\"text-align: right;\">\n",
       "      <th></th>\n",
       "      <th>date</th>\n",
       "      <th>open</th>\n",
       "      <th>high</th>\n",
       "      <th>low</th>\n",
       "      <th>close</th>\n",
       "      <th>volume</th>\n",
       "      <th>volume_eth</th>\n",
       "      <th>market_cap</th>\n",
       "      <th>pred_tmw_1_0_percent_increase_binary</th>\n",
       "    </tr>\n",
       "  </thead>\n",
       "  <tbody>\n",
       "    <tr>\n",
       "      <th>0</th>\n",
       "      <td>2024-04-22 00:00:00+00:00</td>\n",
       "      <td>3146.652021</td>\n",
       "      <td>3232.067831</td>\n",
       "      <td>3134.798198</td>\n",
       "      <td>3198.484468</td>\n",
       "      <td>1.183567e+10</td>\n",
       "      <td>3.706587e+06</td>\n",
       "      <td>3.834176e+11</td>\n",
       "      <td>0</td>\n",
       "    </tr>\n",
       "    <tr>\n",
       "      <th>1</th>\n",
       "      <td>2024-04-21 00:00:00+00:00</td>\n",
       "      <td>3146.652021</td>\n",
       "      <td>3232.067831</td>\n",
       "      <td>3134.798198</td>\n",
       "      <td>3198.484468</td>\n",
       "      <td>1.183567e+10</td>\n",
       "      <td>3.706587e+06</td>\n",
       "      <td>3.834176e+11</td>\n",
       "      <td>0</td>\n",
       "    </tr>\n",
       "    <tr>\n",
       "      <th>2</th>\n",
       "      <td>2024-04-20 00:00:00+00:00</td>\n",
       "      <td>3146.652021</td>\n",
       "      <td>3232.067831</td>\n",
       "      <td>3134.798198</td>\n",
       "      <td>3198.484468</td>\n",
       "      <td>1.183567e+10</td>\n",
       "      <td>3.706587e+06</td>\n",
       "      <td>3.834176e+11</td>\n",
       "      <td>0</td>\n",
       "    </tr>\n",
       "    <tr>\n",
       "      <th>3</th>\n",
       "      <td>2024-04-19 00:00:00+00:00</td>\n",
       "      <td>3146.652021</td>\n",
       "      <td>3232.067831</td>\n",
       "      <td>3134.798198</td>\n",
       "      <td>3198.484468</td>\n",
       "      <td>1.183567e+10</td>\n",
       "      <td>3.706587e+06</td>\n",
       "      <td>3.834176e+11</td>\n",
       "      <td>0</td>\n",
       "    </tr>\n",
       "  </tbody>\n",
       "</table>\n",
       "</div>"
      ],
      "text/plain": [
       "                       date         open         high          low  \\\n",
       "0 2024-04-22 00:00:00+00:00  3146.652021  3232.067831  3134.798198   \n",
       "1 2024-04-21 00:00:00+00:00  3146.652021  3232.067831  3134.798198   \n",
       "2 2024-04-20 00:00:00+00:00  3146.652021  3232.067831  3134.798198   \n",
       "3 2024-04-19 00:00:00+00:00  3146.652021  3232.067831  3134.798198   \n",
       "\n",
       "         close        volume    volume_eth    market_cap  \\\n",
       "0  3198.484468  1.183567e+10  3.706587e+06  3.834176e+11   \n",
       "1  3198.484468  1.183567e+10  3.706587e+06  3.834176e+11   \n",
       "2  3198.484468  1.183567e+10  3.706587e+06  3.834176e+11   \n",
       "3  3198.484468  1.183567e+10  3.706587e+06  3.834176e+11   \n",
       "\n",
       "   pred_tmw_1_0_percent_increase_binary  \n",
       "0                                     0  \n",
       "1                                     0  \n",
       "2                                     0  \n",
       "3                                     0  "
      ]
     },
     "execution_count": 68,
     "metadata": {},
     "output_type": "execute_result"
    }
   ],
   "source": [
    "from datetime import timedelta\n",
    "\n",
    "def add_fake_observations(df, x):\n",
    "    if len(df) != 1:\n",
    "        raise ValueError(\"Input dataframe must have exactly one row.\")\n",
    "    \n",
    "    # Extract the date from the input dataframe and convert to datetime if necessary\n",
    "    base_date = pd.to_datetime(df.iloc[0]['date'])\n",
    "    \n",
    "    # Create a new DataFrame with x rows, decrementing the date for each new row\n",
    "    new_dates = [base_date - timedelta(days=i) for i in range(1, x+1)]\n",
    "    new_data = pd.DataFrame(new_dates, columns=['date'])\n",
    "    \n",
    "    # Replicate the original row x times and reset the index\n",
    "    replicated_data = pd.concat([df]*x, ignore_index=True)\n",
    "    \n",
    "    # Replace the dates in the replicated data with the new dates\n",
    "    replicated_data['date'] = new_data['date']\n",
    "    \n",
    "    # Concatenate the original data with the new fake observations\n",
    "    result = pd.concat([df, replicated_data], ignore_index=True)\n",
    "    \n",
    "    return result\n",
    "\n",
    "bigger_preds = add_fake_observations(eth_yesterday, 3)\n",
    "bigger_preds"
   ]
  },
  {
   "cell_type": "code",
   "execution_count": 69,
   "metadata": {},
   "outputs": [
    {
     "name": "stdout",
     "output_type": "stream",
     "text": [
      "Connection closed.\n",
      "Connected. Call `.close()` to terminate connection gracefully.\n"
     ]
    },
    {
     "name": "stderr",
     "output_type": "stream",
     "text": [
      "\n",
      "\n",
      "UserWarning: The installed hopsworks client version 3.4.4 may not be compatible with the connected Hopsworks backend version 3.7.1. \n",
      "To ensure compatibility please install the latest bug fix release matching the minor version of your backend (3.7) by running 'pip install hopsworks==3.7.*'\n"
     ]
    },
    {
     "name": "stdout",
     "output_type": "stream",
     "text": [
      "\n",
      "Logged in to project, explore it here https://c.app.hopsworks.ai:443/p/582805\n",
      "Connected. Call `.close()` to terminate connection gracefully.\n"
     ]
    },
    {
     "name": "stderr",
     "output_type": "stream",
     "text": [
      "Uploading Dataframe: 100.00% |██████████| Rows 4/4 | Elapsed Time: 00:04 | Remaining Time: 00:00\n"
     ]
    },
    {
     "name": "stdout",
     "output_type": "stream",
     "text": [
      "Launching job: test_eth_ohlc_predictions_1_offline_fg_materialization\n",
      "Job started successfully, you can follow the progress at \n",
      "https://c.app.hopsworks.ai/p/582805/jobs/named/test_eth_ohlc_predictions_1_offline_fg_materialization/executions\n"
     ]
    }
   ],
   "source": [
    "bigger_preds['date'] = pd.to_datetime(bigger_preds['date'])\n",
    "\n",
    "upload_data(bigger_preds, 'test_eth_ohlc_predictions', 1)"
   ]
  },
  {
   "cell_type": "code",
   "execution_count": 64,
   "metadata": {},
   "outputs": [
    {
     "name": "stdout",
     "output_type": "stream",
     "text": [
      "Connection closed.\n",
      "Connected. Call `.close()` to terminate connection gracefully.\n"
     ]
    },
    {
     "name": "stderr",
     "output_type": "stream",
     "text": [
      "SettingWithCopyWarning: \n",
      "A value is trying to be set on a copy of a slice from a DataFrame.\n",
      "Try using .loc[row_indexer,col_indexer] = value instead\n",
      "\n",
      "See the caveats in the documentation: https://pandas.pydata.org/pandas-docs/stable/user_guide/indexing.html#returning-a-view-versus-a-copy\n",
      "\n",
      "\n",
      "UserWarning: The installed hopsworks client version 3.4.4 may not be compatible with the connected Hopsworks backend version 3.7.1. \n",
      "To ensure compatibility please install the latest bug fix release matching the minor version of your backend (3.7) by running 'pip install hopsworks==3.7.*'\n"
     ]
    },
    {
     "name": "stdout",
     "output_type": "stream",
     "text": [
      "\n",
      "Logged in to project, explore it here https://c.app.hopsworks.ai:443/p/582805\n",
      "Connected. Call `.close()` to terminate connection gracefully.\n"
     ]
    },
    {
     "name": "stderr",
     "output_type": "stream",
     "text": [
      "Uploading Dataframe: 0.00% |          | Rows 0/1 | Elapsed Time: 00:00 | Remaining Time: ?"
     ]
    },
    {
     "ename": "KeyboardInterrupt",
     "evalue": "",
     "output_type": "error",
     "traceback": [
      "\u001b[0;31m---------------------------------------------------------------------------\u001b[0m",
      "\u001b[0;31mKeyboardInterrupt\u001b[0m                         Traceback (most recent call last)",
      "Cell \u001b[0;32mIn[64], line 3\u001b[0m\n\u001b[1;32m      1\u001b[0m eth_yesterday[\u001b[38;5;124m'\u001b[39m\u001b[38;5;124mdate\u001b[39m\u001b[38;5;124m'\u001b[39m] \u001b[38;5;241m=\u001b[39m pd\u001b[38;5;241m.\u001b[39mto_datetime(eth_yesterday[\u001b[38;5;124m'\u001b[39m\u001b[38;5;124mdate\u001b[39m\u001b[38;5;124m'\u001b[39m])\n\u001b[0;32m----> 3\u001b[0m \u001b[43mupload_data\u001b[49m\u001b[43m(\u001b[49m\u001b[43meth_yesterday\u001b[49m\u001b[43m,\u001b[49m\u001b[43m \u001b[49m\u001b[38;5;124;43m'\u001b[39;49m\u001b[38;5;124;43mtest_eth_ohlc_predictions\u001b[39;49m\u001b[38;5;124;43m'\u001b[39;49m\u001b[43m,\u001b[49m\u001b[43m \u001b[49m\u001b[38;5;241;43m1\u001b[39;49m\u001b[43m)\u001b[49m\n",
      "File \u001b[0;32m~/GitBackedShit/crypto-prediction/src/hopsworks_connections.py:145\u001b[0m, in \u001b[0;36mupload_data\u001b[0;34m(df, feature_group_name, feature_group_version)\u001b[0m\n\u001b[1;32m      0\u001b[0m <Error retrieving source code with stack_data see ipython/ipython#13598>\n",
      "File \u001b[0;32m~/GitBackedShit/crypto-prediction/venv_crypto_prediction/lib/python3.10/site-packages/hsfs/feature_group.py:2526\u001b[0m, in \u001b[0;36mFeatureGroup.insert\u001b[0;34m(self, features, overwrite, operation, storage, write_options, validation_options, save_code, wait)\u001b[0m\n\u001b[1;32m   2523\u001b[0m \u001b[38;5;28;01mif\u001b[39;00m \u001b[38;5;124m\"\u001b[39m\u001b[38;5;124mwait_for_job\u001b[39m\u001b[38;5;124m\"\u001b[39m \u001b[38;5;129;01mnot\u001b[39;00m \u001b[38;5;129;01min\u001b[39;00m write_options:\n\u001b[1;32m   2524\u001b[0m     write_options[\u001b[38;5;124m\"\u001b[39m\u001b[38;5;124mwait_for_job\u001b[39m\u001b[38;5;124m\"\u001b[39m] \u001b[38;5;241m=\u001b[39m wait\n\u001b[0;32m-> 2526\u001b[0m job, ge_report \u001b[38;5;241m=\u001b[39m \u001b[38;5;28;43mself\u001b[39;49m\u001b[38;5;241;43m.\u001b[39;49m\u001b[43m_feature_group_engine\u001b[49m\u001b[38;5;241;43m.\u001b[39;49m\u001b[43minsert\u001b[49m\u001b[43m(\u001b[49m\n\u001b[1;32m   2527\u001b[0m \u001b[43m    \u001b[49m\u001b[38;5;28;43mself\u001b[39;49m\u001b[43m,\u001b[49m\n\u001b[1;32m   2528\u001b[0m \u001b[43m    \u001b[49m\u001b[43mfeature_dataframe\u001b[49m\u001b[38;5;241;43m=\u001b[39;49m\u001b[43mfeature_dataframe\u001b[49m\u001b[43m,\u001b[49m\n\u001b[1;32m   2529\u001b[0m \u001b[43m    \u001b[49m\u001b[43moverwrite\u001b[49m\u001b[38;5;241;43m=\u001b[39;49m\u001b[43moverwrite\u001b[49m\u001b[43m,\u001b[49m\n\u001b[1;32m   2530\u001b[0m \u001b[43m    \u001b[49m\u001b[43moperation\u001b[49m\u001b[38;5;241;43m=\u001b[39;49m\u001b[43moperation\u001b[49m\u001b[43m,\u001b[49m\n\u001b[1;32m   2531\u001b[0m \u001b[43m    \u001b[49m\u001b[43mstorage\u001b[49m\u001b[38;5;241;43m=\u001b[39;49m\u001b[43mstorage\u001b[49m\u001b[38;5;241;43m.\u001b[39;49m\u001b[43mlower\u001b[49m\u001b[43m(\u001b[49m\u001b[43m)\u001b[49m\u001b[43m \u001b[49m\u001b[38;5;28;43;01mif\u001b[39;49;00m\u001b[43m \u001b[49m\u001b[43mstorage\u001b[49m\u001b[43m \u001b[49m\u001b[38;5;129;43;01mis\u001b[39;49;00m\u001b[43m \u001b[49m\u001b[38;5;129;43;01mnot\u001b[39;49;00m\u001b[43m \u001b[49m\u001b[38;5;28;43;01mNone\u001b[39;49;00m\u001b[43m \u001b[49m\u001b[38;5;28;43;01melse\u001b[39;49;00m\u001b[43m \u001b[49m\u001b[38;5;28;43;01mNone\u001b[39;49;00m\u001b[43m,\u001b[49m\n\u001b[1;32m   2532\u001b[0m \u001b[43m    \u001b[49m\u001b[43mwrite_options\u001b[49m\u001b[38;5;241;43m=\u001b[39;49m\u001b[43mwrite_options\u001b[49m\u001b[43m,\u001b[49m\n\u001b[1;32m   2533\u001b[0m \u001b[43m    \u001b[49m\u001b[43mvalidation_options\u001b[49m\u001b[38;5;241;43m=\u001b[39;49m\u001b[43m{\u001b[49m\u001b[38;5;124;43m\"\u001b[39;49m\u001b[38;5;124;43msave_report\u001b[39;49m\u001b[38;5;124;43m\"\u001b[39;49m\u001b[43m:\u001b[49m\u001b[43m \u001b[49m\u001b[38;5;28;43;01mTrue\u001b[39;49;00m\u001b[43m,\u001b[49m\u001b[43m \u001b[49m\u001b[38;5;241;43m*\u001b[39;49m\u001b[38;5;241;43m*\u001b[39;49m\u001b[43mvalidation_options\u001b[49m\u001b[43m}\u001b[49m\u001b[43m,\u001b[49m\n\u001b[1;32m   2534\u001b[0m \u001b[43m\u001b[49m\u001b[43m)\u001b[49m\n\u001b[1;32m   2535\u001b[0m \u001b[38;5;28;01mif\u001b[39;00m save_code \u001b[38;5;129;01mand\u001b[39;00m (\n\u001b[1;32m   2536\u001b[0m     ge_report \u001b[38;5;129;01mis\u001b[39;00m \u001b[38;5;28;01mNone\u001b[39;00m \u001b[38;5;129;01mor\u001b[39;00m ge_report\u001b[38;5;241m.\u001b[39mingestion_result \u001b[38;5;241m==\u001b[39m \u001b[38;5;124m\"\u001b[39m\u001b[38;5;124mINGESTED\u001b[39m\u001b[38;5;124m\"\u001b[39m\n\u001b[1;32m   2537\u001b[0m ):\n\u001b[1;32m   2538\u001b[0m     \u001b[38;5;28mself\u001b[39m\u001b[38;5;241m.\u001b[39m_code_engine\u001b[38;5;241m.\u001b[39msave_code(\u001b[38;5;28mself\u001b[39m)\n",
      "File \u001b[0;32m~/GitBackedShit/crypto-prediction/venv_crypto_prediction/lib/python3.10/site-packages/hsfs/core/feature_group_engine.py:132\u001b[0m, in \u001b[0;36mFeatureGroupEngine.insert\u001b[0;34m(self, feature_group, feature_dataframe, overwrite, operation, storage, write_options, validation_options)\u001b[0m\n\u001b[1;32m    128\u001b[0m \u001b[38;5;28;01mif\u001b[39;00m overwrite:\n\u001b[1;32m    129\u001b[0m     \u001b[38;5;28mself\u001b[39m\u001b[38;5;241m.\u001b[39m_feature_group_api\u001b[38;5;241m.\u001b[39mdelete_content(feature_group)\n\u001b[1;32m    131\u001b[0m \u001b[38;5;28;01mreturn\u001b[39;00m (\n\u001b[0;32m--> 132\u001b[0m     \u001b[43mengine\u001b[49m\u001b[38;5;241;43m.\u001b[39;49m\u001b[43mget_instance\u001b[49m\u001b[43m(\u001b[49m\u001b[43m)\u001b[49m\u001b[38;5;241;43m.\u001b[39;49m\u001b[43msave_dataframe\u001b[49m\u001b[43m(\u001b[49m\n\u001b[1;32m    133\u001b[0m \u001b[43m        \u001b[49m\u001b[43mfeature_group\u001b[49m\u001b[43m,\u001b[49m\n\u001b[1;32m    134\u001b[0m \u001b[43m        \u001b[49m\u001b[43mfeature_dataframe\u001b[49m\u001b[43m,\u001b[49m\n\u001b[1;32m    135\u001b[0m \u001b[43m        \u001b[49m\u001b[38;5;124;43m\"\u001b[39;49m\u001b[38;5;124;43mbulk_insert\u001b[39;49m\u001b[38;5;124;43m\"\u001b[39;49m\u001b[43m \u001b[49m\u001b[38;5;28;43;01mif\u001b[39;49;00m\u001b[43m \u001b[49m\u001b[43moverwrite\u001b[49m\u001b[43m \u001b[49m\u001b[38;5;28;43;01melse\u001b[39;49;00m\u001b[43m \u001b[49m\u001b[43moperation\u001b[49m\u001b[43m,\u001b[49m\n\u001b[1;32m    136\u001b[0m \u001b[43m        \u001b[49m\u001b[43mfeature_group\u001b[49m\u001b[38;5;241;43m.\u001b[39;49m\u001b[43monline_enabled\u001b[49m\u001b[43m,\u001b[49m\n\u001b[1;32m    137\u001b[0m \u001b[43m        \u001b[49m\u001b[43mstorage\u001b[49m\u001b[43m,\u001b[49m\n\u001b[1;32m    138\u001b[0m \u001b[43m        \u001b[49m\u001b[43moffline_write_options\u001b[49m\u001b[43m,\u001b[49m\n\u001b[1;32m    139\u001b[0m \u001b[43m        \u001b[49m\u001b[43monline_write_options\u001b[49m\u001b[43m,\u001b[49m\n\u001b[1;32m    140\u001b[0m \u001b[43m    \u001b[49m\u001b[43m)\u001b[49m,\n\u001b[1;32m    141\u001b[0m     ge_report,\n\u001b[1;32m    142\u001b[0m )\n",
      "File \u001b[0;32m~/GitBackedShit/crypto-prediction/venv_crypto_prediction/lib/python3.10/site-packages/hsfs/engine/python.py:579\u001b[0m, in \u001b[0;36mEngine.save_dataframe\u001b[0;34m(self, feature_group, dataframe, operation, online_enabled, storage, offline_write_options, online_write_options, validation_id)\u001b[0m\n\u001b[1;32m    564\u001b[0m \u001b[38;5;28;01mdef\u001b[39;00m \u001b[38;5;21msave_dataframe\u001b[39m(\n\u001b[1;32m    565\u001b[0m     \u001b[38;5;28mself\u001b[39m,\n\u001b[1;32m    566\u001b[0m     feature_group: FeatureGroup,\n\u001b[0;32m   (...)\u001b[0m\n\u001b[1;32m    573\u001b[0m     validation_id: \u001b[38;5;28mint\u001b[39m \u001b[38;5;241m=\u001b[39m \u001b[38;5;28;01mNone\u001b[39;00m,\n\u001b[1;32m    574\u001b[0m ):\n\u001b[1;32m    575\u001b[0m     \u001b[38;5;28;01mif\u001b[39;00m (\n\u001b[1;32m    576\u001b[0m         \u001b[38;5;28misinstance\u001b[39m(feature_group, ExternalFeatureGroup)\n\u001b[1;32m    577\u001b[0m         \u001b[38;5;129;01mand\u001b[39;00m feature_group\u001b[38;5;241m.\u001b[39monline_enabled\n\u001b[1;32m    578\u001b[0m     ) \u001b[38;5;129;01mor\u001b[39;00m feature_group\u001b[38;5;241m.\u001b[39mstream:\n\u001b[0;32m--> 579\u001b[0m         \u001b[38;5;28;01mreturn\u001b[39;00m \u001b[38;5;28;43mself\u001b[39;49m\u001b[38;5;241;43m.\u001b[39;49m\u001b[43m_write_dataframe_kafka\u001b[49m\u001b[43m(\u001b[49m\n\u001b[1;32m    580\u001b[0m \u001b[43m            \u001b[49m\u001b[43mfeature_group\u001b[49m\u001b[43m,\u001b[49m\u001b[43m \u001b[49m\u001b[43mdataframe\u001b[49m\u001b[43m,\u001b[49m\u001b[43m \u001b[49m\u001b[43moffline_write_options\u001b[49m\n\u001b[1;32m    581\u001b[0m \u001b[43m        \u001b[49m\u001b[43m)\u001b[49m\n\u001b[1;32m    582\u001b[0m     \u001b[38;5;28;01melse\u001b[39;00m:\n\u001b[1;32m    583\u001b[0m         \u001b[38;5;66;03m# for backwards compatibility\u001b[39;00m\n\u001b[1;32m    584\u001b[0m         \u001b[38;5;28;01mreturn\u001b[39;00m \u001b[38;5;28mself\u001b[39m\u001b[38;5;241m.\u001b[39mlegacy_save_dataframe(\n\u001b[1;32m    585\u001b[0m             feature_group,\n\u001b[1;32m    586\u001b[0m             dataframe,\n\u001b[0;32m   (...)\u001b[0m\n\u001b[1;32m    592\u001b[0m             validation_id,\n\u001b[1;32m    593\u001b[0m         )\n",
      "File \u001b[0;32m~/GitBackedShit/crypto-prediction/venv_crypto_prediction/lib/python3.10/site-packages/hsfs/engine/python.py:1007\u001b[0m, in \u001b[0;36mEngine._write_dataframe_kafka\u001b[0;34m(self, feature_group, dataframe, offline_write_options)\u001b[0m\n\u001b[1;32m    998\u001b[0m     progress_bar \u001b[38;5;241m=\u001b[39m tqdm(\n\u001b[1;32m    999\u001b[0m         total\u001b[38;5;241m=\u001b[39mdataframe\u001b[38;5;241m.\u001b[39mshape[\u001b[38;5;241m0\u001b[39m],\n\u001b[1;32m   1000\u001b[0m         bar_format\u001b[38;5;241m=\u001b[39m\u001b[38;5;124m\"\u001b[39m\u001b[38;5;132;01m{desc}\u001b[39;00m\u001b[38;5;124m: \u001b[39m\u001b[38;5;132;01m{percentage:.2f}\u001b[39;00m\u001b[38;5;124m%\u001b[39m\u001b[38;5;124m |\u001b[39m\u001b[38;5;132;01m{bar}\u001b[39;00m\u001b[38;5;124m| Rows \u001b[39m\u001b[38;5;132;01m{n_fmt}\u001b[39;00m\u001b[38;5;124m/\u001b[39m\u001b[38;5;132;01m{total_fmt}\u001b[39;00m\u001b[38;5;124m | \u001b[39m\u001b[38;5;124m\"\u001b[39m\n\u001b[0;32m   (...)\u001b[0m\n\u001b[1;32m   1003\u001b[0m         mininterval\u001b[38;5;241m=\u001b[39m\u001b[38;5;241m1\u001b[39m,\n\u001b[1;32m   1004\u001b[0m     )\n\u001b[1;32m   1006\u001b[0m     \u001b[38;5;66;03m# set initial_check_point to the current offset\u001b[39;00m\n\u001b[0;32m-> 1007\u001b[0m     initial_check_point \u001b[38;5;241m=\u001b[39m \u001b[38;5;28;43mself\u001b[39;49m\u001b[38;5;241;43m.\u001b[39;49m\u001b[43m_kafka_get_offsets\u001b[49m\u001b[43m(\u001b[49m\n\u001b[1;32m   1008\u001b[0m \u001b[43m        \u001b[49m\u001b[43mfeature_group\u001b[49m\u001b[43m,\u001b[49m\u001b[43m \u001b[49m\u001b[43moffline_write_options\u001b[49m\u001b[43m,\u001b[49m\u001b[43m \u001b[49m\u001b[38;5;28;43;01mTrue\u001b[39;49;00m\n\u001b[1;32m   1009\u001b[0m \u001b[43m    \u001b[49m\u001b[43m)\u001b[49m\n\u001b[1;32m   1011\u001b[0m \u001b[38;5;28;01mdef\u001b[39;00m \u001b[38;5;21macked\u001b[39m(err, msg):\n\u001b[1;32m   1012\u001b[0m     \u001b[38;5;28;01mif\u001b[39;00m err \u001b[38;5;129;01mis\u001b[39;00m \u001b[38;5;129;01mnot\u001b[39;00m \u001b[38;5;28;01mNone\u001b[39;00m:\n",
      "File \u001b[0;32m~/GitBackedShit/crypto-prediction/venv_crypto_prediction/lib/python3.10/site-packages/hsfs/engine/python.py:1111\u001b[0m, in \u001b[0;36mEngine._kafka_get_offsets\u001b[0;34m(self, feature_group, offline_write_options, high)\u001b[0m\n\u001b[1;32m   1109\u001b[0m topic_name \u001b[38;5;241m=\u001b[39m feature_group\u001b[38;5;241m.\u001b[39m_online_topic_name\n\u001b[1;32m   1110\u001b[0m consumer \u001b[38;5;241m=\u001b[39m \u001b[38;5;28mself\u001b[39m\u001b[38;5;241m.\u001b[39m_init_kafka_consumer(feature_group, offline_write_options)\n\u001b[0;32m-> 1111\u001b[0m topics \u001b[38;5;241m=\u001b[39m \u001b[43mconsumer\u001b[49m\u001b[38;5;241;43m.\u001b[39;49m\u001b[43mlist_topics\u001b[49m\u001b[43m(\u001b[49m\n\u001b[1;32m   1112\u001b[0m \u001b[43m    \u001b[49m\u001b[43mtimeout\u001b[49m\u001b[38;5;241;43m=\u001b[39;49m\u001b[43moffline_write_options\u001b[49m\u001b[38;5;241;43m.\u001b[39;49m\u001b[43mget\u001b[49m\u001b[43m(\u001b[49m\u001b[38;5;124;43m\"\u001b[39;49m\u001b[38;5;124;43mkafka_timeout\u001b[39;49m\u001b[38;5;124;43m\"\u001b[39;49m\u001b[43m,\u001b[49m\u001b[43m \u001b[49m\u001b[38;5;241;43m6\u001b[39;49m\u001b[43m)\u001b[49m\n\u001b[1;32m   1113\u001b[0m \u001b[43m\u001b[49m\u001b[43m)\u001b[49m\u001b[38;5;241m.\u001b[39mtopics\n\u001b[1;32m   1114\u001b[0m \u001b[38;5;28;01mif\u001b[39;00m topic_name \u001b[38;5;129;01min\u001b[39;00m topics\u001b[38;5;241m.\u001b[39mkeys():\n\u001b[1;32m   1115\u001b[0m     \u001b[38;5;66;03m# topic exists\u001b[39;00m\n\u001b[1;32m   1116\u001b[0m     offsets \u001b[38;5;241m=\u001b[39m \u001b[38;5;124m\"\u001b[39m\u001b[38;5;124m\"\u001b[39m\n",
      "\u001b[0;31mKeyboardInterrupt\u001b[0m: "
     ]
    }
   ],
   "source": [
    "eth_yesterday['date'] = pd.to_datetime(eth_yesterday['date'])\n",
    "\n",
    "upload_data(eth_yesterday, 'test_eth_ohlc_predictions', 1)"
   ]
  },
  {
   "cell_type": "code",
   "execution_count": 71,
   "metadata": {},
   "outputs": [
    {
     "name": "stdout",
     "output_type": "stream",
     "text": [
      "Connection closed.\n",
      "Connected. Call `.close()` to terminate connection gracefully.\n"
     ]
    },
    {
     "name": "stderr",
     "output_type": "stream",
     "text": [
      "\n",
      "\n",
      "UserWarning: The installed hopsworks client version 3.4.4 may not be compatible with the connected Hopsworks backend version 3.7.1. \n",
      "To ensure compatibility please install the latest bug fix release matching the minor version of your backend (3.7) by running 'pip install hopsworks==3.7.*'\n"
     ]
    },
    {
     "name": "stdout",
     "output_type": "stream",
     "text": [
      "\n",
      "Logged in to project, explore it here https://c.app.hopsworks.ai:443/p/582805\n",
      "Connected. Call `.close()` to terminate connection gracefully.\n",
      "Feature view already existed. Skip creation.\n",
      "Finished: Reading data from Hopsworks, using ArrowFlight (0.64s) \n"
     ]
    },
    {
     "name": "stderr",
     "output_type": "stream",
     "text": [
      "VersionWarning: Incremented version to `6`.\n"
     ]
    },
    {
     "data": {
      "text/html": [
       "<div>\n",
       "<style scoped>\n",
       "    .dataframe tbody tr th:only-of-type {\n",
       "        vertical-align: middle;\n",
       "    }\n",
       "\n",
       "    .dataframe tbody tr th {\n",
       "        vertical-align: top;\n",
       "    }\n",
       "\n",
       "    .dataframe thead th {\n",
       "        text-align: right;\n",
       "    }\n",
       "</style>\n",
       "<table border=\"1\" class=\"dataframe\">\n",
       "  <thead>\n",
       "    <tr style=\"text-align: right;\">\n",
       "      <th></th>\n",
       "      <th>date</th>\n",
       "      <th>open</th>\n",
       "      <th>high</th>\n",
       "      <th>low</th>\n",
       "      <th>close</th>\n",
       "      <th>volume</th>\n",
       "      <th>volume_eth</th>\n",
       "      <th>market_cap</th>\n",
       "      <th>pred_tmw_1_0_percent_increase_binary</th>\n",
       "    </tr>\n",
       "  </thead>\n",
       "  <tbody>\n",
       "    <tr>\n",
       "      <th>2</th>\n",
       "      <td>2024-04-19 00:00:00+00:00</td>\n",
       "      <td>3146.652021</td>\n",
       "      <td>3232.067831</td>\n",
       "      <td>3134.798198</td>\n",
       "      <td>3198.484468</td>\n",
       "      <td>1.183567e+10</td>\n",
       "      <td>3.706587e+06</td>\n",
       "      <td>3.834176e+11</td>\n",
       "      <td>0</td>\n",
       "    </tr>\n",
       "    <tr>\n",
       "      <th>3</th>\n",
       "      <td>2024-04-20 00:00:00+00:00</td>\n",
       "      <td>3146.652021</td>\n",
       "      <td>3232.067831</td>\n",
       "      <td>3134.798198</td>\n",
       "      <td>3198.484468</td>\n",
       "      <td>1.183567e+10</td>\n",
       "      <td>3.706587e+06</td>\n",
       "      <td>3.834176e+11</td>\n",
       "      <td>0</td>\n",
       "    </tr>\n",
       "    <tr>\n",
       "      <th>1</th>\n",
       "      <td>2024-04-21 00:00:00+00:00</td>\n",
       "      <td>3146.652021</td>\n",
       "      <td>3232.067831</td>\n",
       "      <td>3134.798198</td>\n",
       "      <td>3198.484468</td>\n",
       "      <td>1.183567e+10</td>\n",
       "      <td>3.706587e+06</td>\n",
       "      <td>3.834176e+11</td>\n",
       "      <td>0</td>\n",
       "    </tr>\n",
       "    <tr>\n",
       "      <th>0</th>\n",
       "      <td>2024-04-22 00:00:00+00:00</td>\n",
       "      <td>3146.652021</td>\n",
       "      <td>3232.067831</td>\n",
       "      <td>3134.798198</td>\n",
       "      <td>3198.484468</td>\n",
       "      <td>1.183567e+10</td>\n",
       "      <td>3.706587e+06</td>\n",
       "      <td>3.834176e+11</td>\n",
       "      <td>0</td>\n",
       "    </tr>\n",
       "  </tbody>\n",
       "</table>\n",
       "</div>"
      ],
      "text/plain": [
       "                        date         open         high          low  \\\n",
       "2  2024-04-19 00:00:00+00:00  3146.652021  3232.067831  3134.798198   \n",
       "3  2024-04-20 00:00:00+00:00  3146.652021  3232.067831  3134.798198   \n",
       "1  2024-04-21 00:00:00+00:00  3146.652021  3232.067831  3134.798198   \n",
       "0  2024-04-22 00:00:00+00:00  3146.652021  3232.067831  3134.798198   \n",
       "\n",
       "         close        volume    volume_eth    market_cap  \\\n",
       "2  3198.484468  1.183567e+10  3.706587e+06  3.834176e+11   \n",
       "3  3198.484468  1.183567e+10  3.706587e+06  3.834176e+11   \n",
       "1  3198.484468  1.183567e+10  3.706587e+06  3.834176e+11   \n",
       "0  3198.484468  1.183567e+10  3.706587e+06  3.834176e+11   \n",
       "\n",
       "   pred_tmw_1_0_percent_increase_binary  \n",
       "2                                     0  \n",
       "3                                     0  \n",
       "1                                     0  \n",
       "0                                     0  "
      ]
     },
     "execution_count": 71,
     "metadata": {},
     "output_type": "execute_result"
    },
    {
     "name": "stderr",
     "output_type": "stream",
     "text": [
      "%3|1713826068.995|FAIL|rdkafka#consumer-12| [thrd:ssl://18.191.189.169:9092/bootstrap]: ssl://18.191.189.169:9092/2: Receive failed: SSL transport error: Operation timed out (after 282220ms in state UP)\n",
      "%5|1713826085.403|REQTMOUT|rdkafka#producer-11| [thrd:ssl://52.14.0.221:9092/bootstrap]: ssl://52.14.0.221:9092/1: Timed out MetadataRequest in flight (after 60053ms, timeout #0)\n",
      "%4|1713826085.403|REQTMOUT|rdkafka#producer-11| [thrd:ssl://52.14.0.221:9092/bootstrap]: ssl://52.14.0.221:9092/1: Timed out 1 in-flight, 0 retry-queued, 0 out-queue, 0 partially-sent requests\n",
      "%3|1713826085.404|FAIL|rdkafka#producer-11| [thrd:ssl://52.14.0.221:9092/bootstrap]: ssl://52.14.0.221:9092/1: 1 request(s) timed out: disconnect (after 340860ms in state UP)\n",
      "%3|1713826086.936|FAIL|rdkafka#consumer-12| [thrd:ssl://3.147.195.6:9092/bootstrap]: ssl://3.147.195.6:9092/3: Receive failed: SSL transport error: Operation timed out (after 661333ms in state UP)\n"
     ]
    }
   ],
   "source": [
    "previous_predictions = pull_data('test_eth_ohlc_predictions', 1, 'test_eth_ohlc_predictions', 1)\n",
    "\n",
    "previous_predictions\n"
   ]
  }
 ],
 "metadata": {
  "kernelspec": {
   "display_name": "venv_crypto_prediction",
   "language": "python",
   "name": "python3"
  },
  "language_info": {
   "codemirror_mode": {
    "name": "ipython",
    "version": 3
   },
   "file_extension": ".py",
   "mimetype": "text/x-python",
   "name": "python",
   "nbconvert_exporter": "python",
   "pygments_lexer": "ipython3",
   "version": "3.10.5"
  }
 },
 "nbformat": 4,
 "nbformat_minor": 2
}
